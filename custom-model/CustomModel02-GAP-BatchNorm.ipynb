{
 "cells": [
  {
   "cell_type": "markdown",
   "metadata": {},
   "source": [
    "## Load Tensorboard"
   ]
  },
  {
   "cell_type": "code",
   "execution_count": 1,
   "metadata": {},
   "outputs": [],
   "source": [
    "%load_ext tensorboard"
   ]
  },
  {
   "cell_type": "markdown",
   "metadata": {},
   "source": [
    "## Import Libraries"
   ]
  },
  {
   "cell_type": "code",
   "execution_count": 2,
   "metadata": {},
   "outputs": [],
   "source": [
    "import os\n",
    "import numpy as np\n",
    "import pickle\n",
    "import pandas as pd\n",
    "import matplotlib.pyplot as plt\n",
    "import urllib\n",
    "from sklearn import preprocessing\n",
    "from sklearn.model_selection import train_test_split, StratifiedShuffleSplit, StratifiedKFold\n",
    "\n",
    "import tensorflow as tf\n",
    "from tensorflow.keras.models import load_model, Model\n",
    "from tensorflow.keras.preprocessing.image import ImageDataGenerator\n",
    "from tensorflow.keras.layers import Dense, Conv2D, MaxPooling2D, Flatten, Input, BatchNormalization, GlobalAveragePooling2D\n",
    "from tensorflow.keras.callbacks import ModelCheckpoint, TensorBoard, ReduceLROnPlateau, EarlyStopping\n",
    "from tensorflow.keras.optimizers import Adam"
   ]
  },
  {
   "cell_type": "markdown",
   "metadata": {},
   "source": [
    "## Initialize Tensorflow"
   ]
  },
  {
   "cell_type": "code",
   "execution_count": 3,
   "metadata": {},
   "outputs": [],
   "source": [
    "from tensorflow.keras import backend as K\n",
    "K.clear_session()"
   ]
  },
  {
   "cell_type": "markdown",
   "metadata": {},
   "source": [
    "## Load Data"
   ]
  },
  {
   "cell_type": "code",
   "execution_count": 4,
   "metadata": {},
   "outputs": [],
   "source": [
    "data = pd.read_csv(\"../labels.csv\")\n",
    "imgs = [\"{}.jpg\".format(x) for x in list(data.id)]\n",
    "img_label = list(data['breed'])\n",
    "\n",
    "# Split data into train and validation set equally\n",
    "b_sp = StratifiedShuffleSplit(1, 0.1)\n",
    "imgs = np.array(imgs)\n",
    "img_label = np.array(img_label)\n",
    "for train_idx, val_idx in b_sp.split(imgs, img_label):\n",
    "    train_x = imgs[train_idx]\n",
    "    train_y = img_label[train_idx]\n",
    "    val_x = imgs[val_idx]\n",
    "    val_y = img_label[val_idx]\n",
    "\n",
    "train_y = train_y.astype(str)\n",
    "val_y = val_y.astype(str)\n",
    "train_data = pd.DataFrame({'id': train_x,'breed': train_y})\n",
    "val_data = pd.DataFrame({'id': val_x,'breed': val_y})"
   ]
  },
  {
   "cell_type": "code",
   "execution_count": 5,
   "metadata": {},
   "outputs": [],
   "source": [
    "BATCH_SIZE = 256\n",
    "\n",
    "# Number of epochs for training\n",
    "EPOCHS = 100\n",
    "\n",
    "# The original image will be resized to the size specified below.\n",
    "IMG_HEIGHT = 224\n",
    "IMG_WIDTH = 224\n",
    "\n",
    "# Path to image for training\n",
    "TRAIN_PATH = '../img/train/'\n",
    "TEST_PATH = '../img/test/'"
   ]
  },
  {
   "cell_type": "markdown",
   "metadata": {},
   "source": [
    "## Preprocess Image"
   ]
  },
  {
   "cell_type": "code",
   "execution_count": 6,
   "metadata": {},
   "outputs": [],
   "source": [
    "# For train image generator, more params may be added to generate augmented image.\n",
    "train_image_generator = ImageDataGenerator(rescale=1./255)\n",
    "val_image_generator = ImageDataGenerator(rescale=1./255)"
   ]
  },
  {
   "cell_type": "code",
   "execution_count": 7,
   "metadata": {},
   "outputs": [
    {
     "name": "stdout",
     "output_type": "stream",
     "text": [
      "Found 9199 validated image filenames belonging to 120 classes.\n",
      "Found 1023 validated image filenames belonging to 120 classes.\n"
     ]
    }
   ],
   "source": [
    "train_data_gen = train_image_generator.flow_from_dataframe(\n",
    "                                        dataframe = train_data,\n",
    "                                        directory=TRAIN_PATH,x_col=\"id\",\n",
    "                                        y_col=\"breed\",\n",
    "                                        class_mode=\"categorical\",\n",
    "                                        target_size=(IMG_HEIGHT,IMG_WIDTH),\n",
    "                                        batch_size=BATCH_SIZE,\n",
    "                                        shuffle=True)\n",
    "val_data_gen = val_image_generator.flow_from_dataframe(\n",
    "                                        dataframe = val_data,\n",
    "                                        directory=TRAIN_PATH,x_col=\"id\",\n",
    "                                        y_col=\"breed\",\n",
    "                                        class_mode=\"categorical\",\n",
    "                                        target_size=(IMG_HEIGHT,IMG_WIDTH),\n",
    "                                        batch_size=BATCH_SIZE)"
   ]
  },
  {
   "cell_type": "code",
   "execution_count": 8,
   "metadata": {},
   "outputs": [],
   "source": [
    "# For checking of class distribution in train and validation set\n",
    "# If unused, leave this commented to reduce output on your screen.\n",
    "\n",
    "# breedcnt = dict()\n",
    "# breedcntval = dict()\n",
    "# for i in train_data['breed']:\n",
    "#     try:\n",
    "#         breedcnt[i] += 1\n",
    "#     except:\n",
    "#         breedcnt[i] = 1\n",
    "        \n",
    "# for i in val_data['breed']:\n",
    "#     try:\n",
    "#         breedcntval[i] += 1\n",
    "#     except:\n",
    "#         breedcntval[i] = 1\n",
    "        \n",
    "# for i in breedcnt.keys():\n",
    "#     print(i, \" : \", breedcnt[i], \" | \", breedcntval[i])"
   ]
  },
  {
   "cell_type": "markdown",
   "metadata": {},
   "source": [
    "## Define Model"
   ]
  },
  {
   "cell_type": "code",
   "execution_count": 9,
   "metadata": {},
   "outputs": [],
   "source": [
    "# Define you model here\n",
    "# The model provided is just placeholder\n",
    "# Do not modify the input shape and the output layer\n",
    "def get_base_model():\n",
    "    input1 = Input(shape=(IMG_HEIGHT,IMG_WIDTH, 3))\n",
    "    x = Conv2D(32, kernel_size=3, activation='relu', input_shape=(IMG_HEIGHT,IMG_WIDTH,3))(input1)\n",
    "    x = BatchNormalization()(x)\n",
    "    x = Conv2D(32, kernel_size=3, activation='relu')(x)\n",
    "    x = MaxPooling2D(2)(x)\n",
    "    x = Conv2D(64, kernel_size=3, activation='relu')(x)\n",
    "    x = BatchNormalization()(x)\n",
    "    x = Conv2D(64, kernel_size=3, activation='relu')(x)\n",
    "    x = MaxPooling2D(2)(x)\n",
    "    x = Conv2D(128, kernel_size=3, activation='relu')(x)\n",
    "    x = BatchNormalization()(x)\n",
    "    x = Conv2D(128, kernel_size=3, activation='relu')(x)\n",
    "    x = MaxPooling2D(2)(x)\n",
    "    x = Conv2D(256, kernel_size=3, activation='relu')(x)\n",
    "    x = BatchNormalization()(x)\n",
    "    x = Conv2D(256, kernel_size=3, activation='relu')(x)\n",
    "    x = MaxPooling2D(2)(x)\n",
    "    x = Conv2D(512, kernel_size=3, activation='relu')(x)\n",
    "    x = BatchNormalization()(x)\n",
    "    x = Conv2D(512, kernel_size=3, activation='relu')(x)\n",
    "    x = MaxPooling2D(2)(x)\n",
    "    x = GlobalAveragePooling2D()(x)\n",
    "    out = Dense(120, activation='softmax')(x)\n",
    "    \n",
    "    model = Model(inputs=input1, outputs=out)\n",
    "    model.compile(optimizer=Adam(0.001), loss='categorical_crossentropy',\n",
    "                  metrics=['categorical_crossentropy','categorical_accuracy','accuracy'])\n",
    "    \n",
    "    return model"
   ]
  },
  {
   "cell_type": "code",
   "execution_count": 10,
   "metadata": {},
   "outputs": [],
   "source": [
    "base_model = get_base_model()"
   ]
  },
  {
   "cell_type": "code",
   "execution_count": 11,
   "metadata": {},
   "outputs": [
    {
     "name": "stdout",
     "output_type": "stream",
     "text": [
      "Model: \"model\"\n",
      "_________________________________________________________________\n",
      "Layer (type)                 Output Shape              Param #   \n",
      "=================================================================\n",
      "input_1 (InputLayer)         [(None, 224, 224, 3)]     0         \n",
      "_________________________________________________________________\n",
      "conv2d (Conv2D)              (None, 222, 222, 32)      896       \n",
      "_________________________________________________________________\n",
      "batch_normalization (BatchNo (None, 222, 222, 32)      128       \n",
      "_________________________________________________________________\n",
      "conv2d_1 (Conv2D)            (None, 220, 220, 32)      9248      \n",
      "_________________________________________________________________\n",
      "max_pooling2d (MaxPooling2D) (None, 110, 110, 32)      0         \n",
      "_________________________________________________________________\n",
      "conv2d_2 (Conv2D)            (None, 108, 108, 64)      18496     \n",
      "_________________________________________________________________\n",
      "batch_normalization_1 (Batch (None, 108, 108, 64)      256       \n",
      "_________________________________________________________________\n",
      "conv2d_3 (Conv2D)            (None, 106, 106, 64)      36928     \n",
      "_________________________________________________________________\n",
      "max_pooling2d_1 (MaxPooling2 (None, 53, 53, 64)        0         \n",
      "_________________________________________________________________\n",
      "conv2d_4 (Conv2D)            (None, 51, 51, 128)       73856     \n",
      "_________________________________________________________________\n",
      "batch_normalization_2 (Batch (None, 51, 51, 128)       512       \n",
      "_________________________________________________________________\n",
      "conv2d_5 (Conv2D)            (None, 49, 49, 128)       147584    \n",
      "_________________________________________________________________\n",
      "max_pooling2d_2 (MaxPooling2 (None, 24, 24, 128)       0         \n",
      "_________________________________________________________________\n",
      "conv2d_6 (Conv2D)            (None, 22, 22, 256)       295168    \n",
      "_________________________________________________________________\n",
      "batch_normalization_3 (Batch (None, 22, 22, 256)       1024      \n",
      "_________________________________________________________________\n",
      "conv2d_7 (Conv2D)            (None, 20, 20, 256)       590080    \n",
      "_________________________________________________________________\n",
      "max_pooling2d_3 (MaxPooling2 (None, 10, 10, 256)       0         \n",
      "_________________________________________________________________\n",
      "conv2d_8 (Conv2D)            (None, 8, 8, 512)         1180160   \n",
      "_________________________________________________________________\n",
      "batch_normalization_4 (Batch (None, 8, 8, 512)         2048      \n",
      "_________________________________________________________________\n",
      "conv2d_9 (Conv2D)            (None, 6, 6, 512)         2359808   \n",
      "_________________________________________________________________\n",
      "max_pooling2d_4 (MaxPooling2 (None, 3, 3, 512)         0         \n",
      "_________________________________________________________________\n",
      "global_average_pooling2d (Gl (None, 512)               0         \n",
      "_________________________________________________________________\n",
      "dense (Dense)                (None, 120)               61560     \n",
      "=================================================================\n",
      "Total params: 4,777,752\n",
      "Trainable params: 4,775,768\n",
      "Non-trainable params: 1,984\n",
      "_________________________________________________________________\n"
     ]
    }
   ],
   "source": [
    "# Total parmas should not exceed 120M or the VM may crash\n",
    "base_model.summary()"
   ]
  },
  {
   "cell_type": "markdown",
   "metadata": {},
   "source": [
    "## Train the model"
   ]
  },
  {
   "cell_type": "code",
   "execution_count": 12,
   "metadata": {
    "scrolled": true
   },
   "outputs": [
    {
     "name": "stdout",
     "output_type": "stream",
     "text": [
      "WARNING:tensorflow:`write_grads` will be ignored in TensorFlow 2.0 for the `TensorBoard` Callback.\n",
      "Epoch 1/100\n",
      "35/36 [============================>.] - ETA: 1s - loss: 4.8409 - categorical_crossentropy: 4.8410 - categorical_accuracy: 0.0310 - accuracy: 0.0310\n",
      "Epoch 00001: val_loss improved from inf to 4.98531, saving model to model_custom2_gap_batchnorm.h5\n",
      "36/36 [==============================] - 55s 2s/step - loss: 4.8293 - categorical_crossentropy: 4.8294 - categorical_accuracy: 0.0323 - accuracy: 0.0323 - val_loss: 4.9853 - val_categorical_crossentropy: 4.9853 - val_categorical_accuracy: 0.0156 - val_accuracy: 0.0156\n",
      "Epoch 2/100\n",
      "35/36 [============================>.] - ETA: 1s - loss: 4.2948 - categorical_crossentropy: 4.2948 - categorical_accuracy: 0.0661 - accuracy: 0.0661\n",
      "Epoch 00002: val_loss did not improve from 4.98531\n",
      "36/36 [==============================] - 47s 1s/step - loss: 4.2905 - categorical_crossentropy: 4.2906 - categorical_accuracy: 0.0665 - accuracy: 0.0665 - val_loss: 6.0532 - val_categorical_crossentropy: 6.0532 - val_categorical_accuracy: 0.0117 - val_accuracy: 0.0117\n",
      "Epoch 3/100\n",
      "35/36 [============================>.] - ETA: 1s - loss: 3.9729 - categorical_crossentropy: 3.9730 - categorical_accuracy: 0.0993 - accuracy: 0.0993\n",
      "Epoch 00003: val_loss did not improve from 4.98531\n",
      "36/36 [==============================] - 48s 1s/step - loss: 3.9732 - categorical_crossentropy: 3.9733 - categorical_accuracy: 0.0990 - accuracy: 0.0990 - val_loss: 6.1219 - val_categorical_crossentropy: 6.1219 - val_categorical_accuracy: 0.0098 - val_accuracy: 0.0098\n",
      "Epoch 4/100\n",
      "35/36 [============================>.] - ETA: 1s - loss: 3.6804 - categorical_crossentropy: 3.6805 - categorical_accuracy: 0.1423 - accuracy: 0.1423\n",
      "Epoch 00004: val_loss did not improve from 4.98531\n",
      "36/36 [==============================] - 49s 1s/step - loss: 3.6803 - categorical_crossentropy: 3.6803 - categorical_accuracy: 0.1431 - accuracy: 0.1431 - val_loss: 6.7604 - val_categorical_crossentropy: 6.7604 - val_categorical_accuracy: 0.0108 - val_accuracy: 0.0108\n",
      "Epoch 5/100\n",
      "35/36 [============================>.] - ETA: 1s - loss: 3.3513 - categorical_crossentropy: 3.3512 - categorical_accuracy: 0.1977 - accuracy: 0.1977\n",
      "Epoch 00005: val_loss did not improve from 4.98531\n",
      "36/36 [==============================] - 49s 1s/step - loss: 3.3513 - categorical_crossentropy: 3.3513 - categorical_accuracy: 0.1976 - accuracy: 0.1976 - val_loss: 6.6002 - val_categorical_crossentropy: 6.6004 - val_categorical_accuracy: 0.0108 - val_accuracy: 0.0108\n",
      "Epoch 6/100\n",
      "35/36 [============================>.] - ETA: 1s - loss: 2.8635 - categorical_crossentropy: 2.8631 - categorical_accuracy: 0.3040 - accuracy: 0.3040\n",
      "Epoch 00006: val_loss did not improve from 4.98531\n",
      "36/36 [==============================] - 48s 1s/step - loss: 2.8635 - categorical_crossentropy: 2.8632 - categorical_accuracy: 0.3041 - accuracy: 0.3041 - val_loss: 7.5919 - val_categorical_crossentropy: 7.5921 - val_categorical_accuracy: 0.0117 - val_accuracy: 0.0117\n",
      "Epoch 7/100\n",
      "35/36 [============================>.] - ETA: 1s - loss: 2.6378 - categorical_crossentropy: 2.6379 - categorical_accuracy: 0.3625 - accuracy: 0.3625\n",
      "Epoch 00007: val_loss did not improve from 4.98531\n",
      "36/36 [==============================] - 50s 1s/step - loss: 2.6344 - categorical_crossentropy: 2.6344 - categorical_accuracy: 0.3635 - accuracy: 0.3635 - val_loss: 6.4449 - val_categorical_crossentropy: 6.4449 - val_categorical_accuracy: 0.0098 - val_accuracy: 0.0098\n",
      "Epoch 8/100\n",
      "35/36 [============================>.] - ETA: 1s - loss: 2.4955 - categorical_crossentropy: 2.4955 - categorical_accuracy: 0.3944 - accuracy: 0.3944\n",
      "Epoch 00008: val_loss did not improve from 4.98531\n",
      "36/36 [==============================] - 48s 1s/step - loss: 2.4963 - categorical_crossentropy: 2.4963 - categorical_accuracy: 0.3948 - accuracy: 0.3948 - val_loss: 6.7502 - val_categorical_crossentropy: 6.7502 - val_categorical_accuracy: 0.0117 - val_accuracy: 0.0117\n",
      "Epoch 9/100\n",
      "35/36 [============================>.] - ETA: 1s - loss: 2.3612 - categorical_crossentropy: 2.3611 - categorical_accuracy: 0.4271 - accuracy: 0.4271\n",
      "Epoch 00009: val_loss did not improve from 4.98531\n",
      "36/36 [==============================] - 48s 1s/step - loss: 2.3639 - categorical_crossentropy: 2.3639 - categorical_accuracy: 0.4260 - accuracy: 0.4260 - val_loss: 6.5683 - val_categorical_crossentropy: 6.5683 - val_categorical_accuracy: 0.0117 - val_accuracy: 0.0117\n",
      "Epoch 10/100\n",
      "35/36 [============================>.] - ETA: 1s - loss: 2.1916 - categorical_crossentropy: 2.1916 - categorical_accuracy: 0.4770 - accuracy: 0.4770\n",
      "Epoch 00010: val_loss did not improve from 4.98531\n",
      "36/36 [==============================] - 49s 1s/step - loss: 2.1895 - categorical_crossentropy: 2.1894 - categorical_accuracy: 0.4784 - accuracy: 0.4784 - val_loss: 6.6778 - val_categorical_crossentropy: 6.6778 - val_categorical_accuracy: 0.0117 - val_accuracy: 0.0117\n",
      "Epoch 11/100\n",
      "35/36 [============================>.] - ETA: 1s - loss: 2.1358 - categorical_crossentropy: 2.1359 - categorical_accuracy: 0.5031 - accuracy: 0.5031\n",
      "Epoch 00011: val_loss did not improve from 4.98531\n",
      "36/36 [==============================] - 48s 1s/step - loss: 2.1342 - categorical_crossentropy: 2.1343 - categorical_accuracy: 0.5035 - accuracy: 0.5035 - val_loss: 6.7120 - val_categorical_crossentropy: 6.7122 - val_categorical_accuracy: 0.0137 - val_accuracy: 0.0137\n",
      "Epoch 12/100\n",
      "35/36 [============================>.] - ETA: 1s - loss: 2.1071 - categorical_crossentropy: 2.1072 - categorical_accuracy: 0.5050 - accuracy: 0.5050\n",
      "Epoch 00012: val_loss did not improve from 4.98531\n",
      "36/36 [==============================] - 49s 1s/step - loss: 2.1071 - categorical_crossentropy: 2.1072 - categorical_accuracy: 0.5042 - accuracy: 0.5042 - val_loss: 6.3320 - val_categorical_crossentropy: 6.3319 - val_categorical_accuracy: 0.0156 - val_accuracy: 0.0156\n",
      "Epoch 13/100\n",
      "35/36 [============================>.] - ETA: 1s - loss: 2.0716 - categorical_crossentropy: 2.0716 - categorical_accuracy: 0.5146 - accuracy: 0.5146\n",
      "Epoch 00013: val_loss did not improve from 4.98531\n",
      "36/36 [==============================] - 48s 1s/step - loss: 2.0726 - categorical_crossentropy: 2.0726 - categorical_accuracy: 0.5142 - accuracy: 0.5142 - val_loss: 5.8204 - val_categorical_crossentropy: 5.8203 - val_categorical_accuracy: 0.0186 - val_accuracy: 0.0186\n",
      "Epoch 14/100\n",
      "35/36 [============================>.] - ETA: 1s - loss: 2.0277 - categorical_crossentropy: 2.0277 - categorical_accuracy: 0.5320 - accuracy: 0.5320\n",
      "Epoch 00014: val_loss did not improve from 4.98531\n",
      "36/36 [==============================] - 49s 1s/step - loss: 2.0270 - categorical_crossentropy: 2.0270 - categorical_accuracy: 0.5319 - accuracy: 0.5319 - val_loss: 5.2476 - val_categorical_crossentropy: 5.2475 - val_categorical_accuracy: 0.0274 - val_accuracy: 0.0274\n",
      "Epoch 15/100\n",
      "35/36 [============================>.] - ETA: 1s - loss: 2.0121 - categorical_crossentropy: 2.0122 - categorical_accuracy: 0.5370 - accuracy: 0.5370\n",
      "Epoch 00015: val_loss improved from 4.98531 to 4.64370, saving model to model_custom2_gap_batchnorm.h5\n",
      "36/36 [==============================] - 49s 1s/step - loss: 2.0153 - categorical_crossentropy: 2.0154 - categorical_accuracy: 0.5353 - accuracy: 0.5353 - val_loss: 4.6437 - val_categorical_crossentropy: 4.6437 - val_categorical_accuracy: 0.0567 - val_accuracy: 0.0567\n",
      "Epoch 16/100\n",
      "35/36 [============================>.] - ETA: 1s - loss: 2.0111 - categorical_crossentropy: 2.0112 - categorical_accuracy: 0.5327 - accuracy: 0.5327\n",
      "Epoch 00016: val_loss improved from 4.64370 to 4.20397, saving model to model_custom2_gap_batchnorm.h5\n",
      "36/36 [==============================] - 49s 1s/step - loss: 2.0117 - categorical_crossentropy: 2.0118 - categorical_accuracy: 0.5329 - accuracy: 0.5329 - val_loss: 4.2040 - val_categorical_crossentropy: 4.2038 - val_categorical_accuracy: 0.0880 - val_accuracy: 0.0880\n",
      "Epoch 17/100\n",
      "35/36 [============================>.] - ETA: 1s - loss: 2.0066 - categorical_crossentropy: 2.0064 - categorical_accuracy: 0.5361 - accuracy: 0.5361\n",
      "Epoch 00017: val_loss improved from 4.20397 to 3.89614, saving model to model_custom2_gap_batchnorm.h5\n"
     ]
    },
    {
     "name": "stdout",
     "output_type": "stream",
     "text": [
      "36/36 [==============================] - 50s 1s/step - loss: 2.0064 - categorical_crossentropy: 2.0063 - categorical_accuracy: 0.5356 - accuracy: 0.5356 - val_loss: 3.8961 - val_categorical_crossentropy: 3.8962 - val_categorical_accuracy: 0.1193 - val_accuracy: 0.1193\n",
      "Epoch 18/100\n",
      "35/36 [============================>.] - ETA: 1s - loss: 1.9969 - categorical_crossentropy: 1.9969 - categorical_accuracy: 0.5355 - accuracy: 0.5355\n",
      "Epoch 00018: val_loss improved from 3.89614 to 3.70710, saving model to model_custom2_gap_batchnorm.h5\n",
      "36/36 [==============================] - 49s 1s/step - loss: 2.0002 - categorical_crossentropy: 2.0002 - categorical_accuracy: 0.5342 - accuracy: 0.5342 - val_loss: 3.7071 - val_categorical_crossentropy: 3.7071 - val_categorical_accuracy: 0.1476 - val_accuracy: 0.1476\n",
      "Epoch 19/100\n",
      "35/36 [============================>.] - ETA: 1s - loss: 1.9936 - categorical_crossentropy: 1.9938 - categorical_accuracy: 0.5427 - accuracy: 0.5427\n",
      "Epoch 00019: val_loss improved from 3.70710 to 3.58330, saving model to model_custom2_gap_batchnorm.h5\n",
      "36/36 [==============================] - 49s 1s/step - loss: 1.9918 - categorical_crossentropy: 1.9919 - categorical_accuracy: 0.5432 - accuracy: 0.5432 - val_loss: 3.5833 - val_categorical_crossentropy: 3.5833 - val_categorical_accuracy: 0.1632 - val_accuracy: 0.1632\n",
      "Epoch 20/100\n",
      "35/36 [============================>.] - ETA: 1s - loss: 1.9879 - categorical_crossentropy: 1.9880 - categorical_accuracy: 0.5409 - accuracy: 0.5409\n",
      "Epoch 00020: val_loss improved from 3.58330 to 3.52075, saving model to model_custom2_gap_batchnorm.h5\n",
      "36/36 [==============================] - 48s 1s/step - loss: 1.9871 - categorical_crossentropy: 1.9872 - categorical_accuracy: 0.5396 - accuracy: 0.5396 - val_loss: 3.5207 - val_categorical_crossentropy: 3.5208 - val_categorical_accuracy: 0.1711 - val_accuracy: 0.1711\n",
      "Epoch 21/100\n",
      "35/36 [============================>.] - ETA: 1s - loss: 1.9792 - categorical_crossentropy: 1.9792 - categorical_accuracy: 0.5427 - accuracy: 0.5427\n",
      "Epoch 00021: val_loss improved from 3.52075 to 3.48783, saving model to model_custom2_gap_batchnorm.h5\n",
      "36/36 [==============================] - 49s 1s/step - loss: 1.9813 - categorical_crossentropy: 1.9812 - categorical_accuracy: 0.5420 - accuracy: 0.5420 - val_loss: 3.4878 - val_categorical_crossentropy: 3.4878 - val_categorical_accuracy: 0.1799 - val_accuracy: 0.1799\n",
      "Epoch 22/100\n",
      "35/36 [============================>.] - ETA: 1s - loss: 1.9708 - categorical_crossentropy: 1.9711 - categorical_accuracy: 0.5467 - accuracy: 0.5467\n",
      "Epoch 00022: val_loss improved from 3.48783 to 3.46350, saving model to model_custom2_gap_batchnorm.h5\n",
      "36/36 [==============================] - 49s 1s/step - loss: 1.9725 - categorical_crossentropy: 1.9727 - categorical_accuracy: 0.5459 - accuracy: 0.5459 - val_loss: 3.4635 - val_categorical_crossentropy: 3.4635 - val_categorical_accuracy: 0.1848 - val_accuracy: 0.1848\n",
      "Epoch 23/100\n",
      "35/36 [============================>.] - ETA: 1s - loss: 1.9634 - categorical_crossentropy: 1.9631 - categorical_accuracy: 0.5468 - accuracy: 0.5468\n",
      "Epoch 00023: val_loss improved from 3.46350 to 3.45477, saving model to model_custom2_gap_batchnorm.h5\n",
      "36/36 [==============================] - 49s 1s/step - loss: 1.9659 - categorical_crossentropy: 1.9657 - categorical_accuracy: 0.5458 - accuracy: 0.5458 - val_loss: 3.4548 - val_categorical_crossentropy: 3.4548 - val_categorical_accuracy: 0.1867 - val_accuracy: 0.1867\n",
      "Epoch 24/100\n",
      "35/36 [============================>.] - ETA: 1s - loss: 1.9540 - categorical_crossentropy: 1.9540 - categorical_accuracy: 0.5513 - accuracy: 0.5513\n",
      "Epoch 00024: val_loss improved from 3.45477 to 3.44977, saving model to model_custom2_gap_batchnorm.h5\n",
      "36/36 [==============================] - 50s 1s/step - loss: 1.9583 - categorical_crossentropy: 1.9583 - categorical_accuracy: 0.5504 - accuracy: 0.5504 - val_loss: 3.4498 - val_categorical_crossentropy: 3.4497 - val_categorical_accuracy: 0.1877 - val_accuracy: 0.1877\n",
      "Epoch 25/100\n",
      "35/36 [============================>.] - ETA: 1s - loss: 1.9536 - categorical_crossentropy: 1.9535 - categorical_accuracy: 0.5489 - accuracy: 0.5489\n",
      "Epoch 00025: val_loss improved from 3.44977 to 3.44489, saving model to model_custom2_gap_batchnorm.h5\n",
      "36/36 [==============================] - 49s 1s/step - loss: 1.9526 - categorical_crossentropy: 1.9525 - categorical_accuracy: 0.5501 - accuracy: 0.5501 - val_loss: 3.4449 - val_categorical_crossentropy: 3.4450 - val_categorical_accuracy: 0.1906 - val_accuracy: 0.1906\n",
      "Epoch 26/100\n",
      "35/36 [============================>.] - ETA: 1s - loss: 1.9474 - categorical_crossentropy: 1.9473 - categorical_accuracy: 0.5574 - accuracy: 0.5574\n",
      "Epoch 00026: val_loss improved from 3.44489 to 3.44218, saving model to model_custom2_gap_batchnorm.h5\n",
      "36/36 [==============================] - 49s 1s/step - loss: 1.9449 - categorical_crossentropy: 1.9448 - categorical_accuracy: 0.5589 - accuracy: 0.5589 - val_loss: 3.4422 - val_categorical_crossentropy: 3.4421 - val_categorical_accuracy: 0.1906 - val_accuracy: 0.1906\n",
      "Epoch 27/100\n",
      "35/36 [============================>.] - ETA: 1s - loss: 1.9385 - categorical_crossentropy: 1.9384 - categorical_accuracy: 0.5508 - accuracy: 0.5508\n",
      "Epoch 00027: val_loss did not improve from 3.44218\n",
      "36/36 [==============================] - 49s 1s/step - loss: 1.9381 - categorical_crossentropy: 1.9379 - categorical_accuracy: 0.5513 - accuracy: 0.5513 - val_loss: 3.4427 - val_categorical_crossentropy: 3.4426 - val_categorical_accuracy: 0.1945 - val_accuracy: 0.1945\n",
      "Epoch 28/100\n",
      "35/36 [============================>.] - ETA: 1s - loss: 1.9311 - categorical_crossentropy: 1.9310 - categorical_accuracy: 0.5588 - accuracy: 0.5588\n",
      "Epoch 00028: val_loss did not improve from 3.44218\n",
      "36/36 [==============================] - 49s 1s/step - loss: 1.9282 - categorical_crossentropy: 1.9280 - categorical_accuracy: 0.5597 - accuracy: 0.5597 - val_loss: 3.4440 - val_categorical_crossentropy: 3.4440 - val_categorical_accuracy: 0.1906 - val_accuracy: 0.1906\n",
      "Epoch 29/100\n",
      "35/36 [============================>.] - ETA: 1s - loss: 1.9189 - categorical_crossentropy: 1.9188 - categorical_accuracy: 0.5630 - accuracy: 0.5630\n",
      "Epoch 00029: val_loss improved from 3.44218 to 3.44021, saving model to model_custom2_gap_batchnorm.h5\n",
      "36/36 [==============================] - 49s 1s/step - loss: 1.9221 - categorical_crossentropy: 1.9221 - categorical_accuracy: 0.5611 - accuracy: 0.5611 - val_loss: 3.4402 - val_categorical_crossentropy: 3.4401 - val_categorical_accuracy: 0.1916 - val_accuracy: 0.1916\n",
      "Epoch 30/100\n",
      "35/36 [============================>.] - ETA: 1s - loss: 1.9210 - categorical_crossentropy: 1.9206 - categorical_accuracy: 0.5626 - accuracy: 0.5626\n",
      "Epoch 00030: val_loss improved from 3.44021 to 3.43885, saving model to model_custom2_gap_batchnorm.h5\n",
      "36/36 [==============================] - 49s 1s/step - loss: 1.9189 - categorical_crossentropy: 1.9186 - categorical_accuracy: 0.5628 - accuracy: 0.5628 - val_loss: 3.4389 - val_categorical_crossentropy: 3.4389 - val_categorical_accuracy: 0.1916 - val_accuracy: 0.1916\n",
      "Epoch 31/100\n",
      "35/36 [============================>.] - ETA: 1s - loss: 1.9021 - categorical_crossentropy: 1.9020 - categorical_accuracy: 0.5654 - accuracy: 0.5654\n",
      "Epoch 00031: val_loss did not improve from 3.43885\n",
      "36/36 [==============================] - 48s 1s/step - loss: 1.9044 - categorical_crossentropy: 1.9042 - categorical_accuracy: 0.5655 - accuracy: 0.5655 - val_loss: 3.4408 - val_categorical_crossentropy: 3.4409 - val_categorical_accuracy: 0.1935 - val_accuracy: 0.1935\n",
      "Epoch 32/100\n",
      "35/36 [============================>.] - ETA: 1s - loss: 1.9021 - categorical_crossentropy: 1.9020 - categorical_accuracy: 0.5650 - accuracy: 0.5650\n",
      "Epoch 00032: val_loss did not improve from 3.43885\n",
      "36/36 [==============================] - 49s 1s/step - loss: 1.9041 - categorical_crossentropy: 1.9040 - categorical_accuracy: 0.5646 - accuracy: 0.5646 - val_loss: 3.4406 - val_categorical_crossentropy: 3.4407 - val_categorical_accuracy: 0.1945 - val_accuracy: 0.1945\n",
      "Epoch 33/100\n"
     ]
    },
    {
     "name": "stdout",
     "output_type": "stream",
     "text": [
      "35/36 [============================>.] - ETA: 1s - loss: 1.8908 - categorical_crossentropy: 1.8908 - categorical_accuracy: 0.5680 - accuracy: 0.5680\n",
      "Epoch 00033: val_loss improved from 3.43885 to 3.43832, saving model to model_custom2_gap_batchnorm.h5\n",
      "36/36 [==============================] - 48s 1s/step - loss: 1.8946 - categorical_crossentropy: 1.8946 - categorical_accuracy: 0.5669 - accuracy: 0.5669 - val_loss: 3.4383 - val_categorical_crossentropy: 3.4382 - val_categorical_accuracy: 0.1955 - val_accuracy: 0.1955\n",
      "Epoch 34/100\n",
      "35/36 [============================>.] - ETA: 1s - loss: 1.8940 - categorical_crossentropy: 1.8938 - categorical_accuracy: 0.5689 - accuracy: 0.5689\n",
      "Epoch 00034: val_loss improved from 3.43832 to 3.43716, saving model to model_custom2_gap_batchnorm.h5\n",
      "36/36 [==============================] - 47s 1s/step - loss: 1.8919 - categorical_crossentropy: 1.8917 - categorical_accuracy: 0.5697 - accuracy: 0.5697 - val_loss: 3.4372 - val_categorical_crossentropy: 3.4373 - val_categorical_accuracy: 0.1975 - val_accuracy: 0.1975\n",
      "Epoch 35/100\n",
      "35/36 [============================>.] - ETA: 1s - loss: 1.8871 - categorical_crossentropy: 1.8872 - categorical_accuracy: 0.5711 - accuracy: 0.5711\n",
      "Epoch 00035: val_loss improved from 3.43716 to 3.43526, saving model to model_custom2_gap_batchnorm.h5\n",
      "36/36 [==============================] - 49s 1s/step - loss: 1.8861 - categorical_crossentropy: 1.8861 - categorical_accuracy: 0.5711 - accuracy: 0.5711 - val_loss: 3.4353 - val_categorical_crossentropy: 3.4354 - val_categorical_accuracy: 0.1975 - val_accuracy: 0.1975\n",
      "Epoch 36/100\n",
      "35/36 [============================>.] - ETA: 1s - loss: 1.8721 - categorical_crossentropy: 1.8723 - categorical_accuracy: 0.5739 - accuracy: 0.5739\n",
      "Epoch 00036: val_loss improved from 3.43526 to 3.43281, saving model to model_custom2_gap_batchnorm.h5\n",
      "36/36 [==============================] - 48s 1s/step - loss: 1.8745 - categorical_crossentropy: 1.8747 - categorical_accuracy: 0.5733 - accuracy: 0.5733 - val_loss: 3.4328 - val_categorical_crossentropy: 3.4328 - val_categorical_accuracy: 0.1965 - val_accuracy: 0.1965\n",
      "Epoch 37/100\n",
      "35/36 [============================>.] - ETA: 1s - loss: 1.8666 - categorical_crossentropy: 1.8663 - categorical_accuracy: 0.5775 - accuracy: 0.5775\n",
      "Epoch 00037: val_loss did not improve from 3.43281\n",
      "36/36 [==============================] - 48s 1s/step - loss: 1.8671 - categorical_crossentropy: 1.8668 - categorical_accuracy: 0.5765 - accuracy: 0.5765 - val_loss: 3.4342 - val_categorical_crossentropy: 3.4342 - val_categorical_accuracy: 0.1975 - val_accuracy: 0.1975\n",
      "Epoch 38/100\n",
      "35/36 [============================>.] - ETA: 1s - loss: 1.8557 - categorical_crossentropy: 1.8556 - categorical_accuracy: 0.5807 - accuracy: 0.5807\n",
      "Epoch 00038: val_loss did not improve from 3.43281\n",
      "36/36 [==============================] - 48s 1s/step - loss: 1.8567 - categorical_crossentropy: 1.8567 - categorical_accuracy: 0.5817 - accuracy: 0.5817 - val_loss: 3.4345 - val_categorical_crossentropy: 3.4344 - val_categorical_accuracy: 0.1916 - val_accuracy: 0.1916\n",
      "Epoch 39/100\n",
      "35/36 [============================>.] - ETA: 1s - loss: 1.8535 - categorical_crossentropy: 1.8533 - categorical_accuracy: 0.5800 - accuracy: 0.5800\n",
      "Epoch 00039: val_loss did not improve from 3.43281\n",
      "36/36 [==============================] - 47s 1s/step - loss: 1.8532 - categorical_crossentropy: 1.8531 - categorical_accuracy: 0.5804 - accuracy: 0.5804 - val_loss: 3.4337 - val_categorical_crossentropy: 3.4336 - val_categorical_accuracy: 0.1965 - val_accuracy: 0.1965\n",
      "Epoch 40/100\n",
      "35/36 [============================>.] - ETA: 1s - loss: 1.8483 - categorical_crossentropy: 1.8482 - categorical_accuracy: 0.5800 - accuracy: 0.5800\n",
      "Epoch 00040: val_loss improved from 3.43281 to 3.42997, saving model to model_custom2_gap_batchnorm.h5\n",
      "36/36 [==============================] - 45s 1s/step - loss: 1.8470 - categorical_crossentropy: 1.8469 - categorical_accuracy: 0.5809 - accuracy: 0.5809 - val_loss: 3.4300 - val_categorical_crossentropy: 3.4299 - val_categorical_accuracy: 0.1965 - val_accuracy: 0.1965\n",
      "Epoch 41/100\n",
      "35/36 [============================>.] - ETA: 1s - loss: 1.8371 - categorical_crossentropy: 1.8370 - categorical_accuracy: 0.5850 - accuracy: 0.5850\n",
      "Epoch 00041: val_loss did not improve from 3.42997\n",
      "36/36 [==============================] - 46s 1s/step - loss: 1.8390 - categorical_crossentropy: 1.8389 - categorical_accuracy: 0.5858 - accuracy: 0.5858 - val_loss: 3.4317 - val_categorical_crossentropy: 3.4319 - val_categorical_accuracy: 0.1965 - val_accuracy: 0.1965\n",
      "Epoch 42/100\n",
      "35/36 [============================>.] - ETA: 1s - loss: 1.8312 - categorical_crossentropy: 1.8313 - categorical_accuracy: 0.5854 - accuracy: 0.5854\n",
      "Epoch 00042: val_loss did not improve from 3.42997\n",
      "36/36 [==============================] - 46s 1s/step - loss: 1.8312 - categorical_crossentropy: 1.8313 - categorical_accuracy: 0.5848 - accuracy: 0.5848 - val_loss: 3.4300 - val_categorical_crossentropy: 3.4299 - val_categorical_accuracy: 0.1955 - val_accuracy: 0.1955\n",
      "Epoch 43/100\n",
      "35/36 [============================>.] - ETA: 1s - loss: 1.8251 - categorical_crossentropy: 1.8251 - categorical_accuracy: 0.5868 - accuracy: 0.5868\n",
      "Epoch 00043: val_loss improved from 3.42997 to 3.42885, saving model to model_custom2_gap_batchnorm.h5\n",
      "36/36 [==============================] - 47s 1s/step - loss: 1.8272 - categorical_crossentropy: 1.8273 - categorical_accuracy: 0.5869 - accuracy: 0.5869 - val_loss: 3.4289 - val_categorical_crossentropy: 3.4288 - val_categorical_accuracy: 0.1955 - val_accuracy: 0.1955\n",
      "Epoch 44/100\n",
      "35/36 [============================>.] - ETA: 1s - loss: 1.8195 - categorical_crossentropy: 1.8195 - categorical_accuracy: 0.5906 - accuracy: 0.5906\n",
      "Epoch 00044: val_loss improved from 3.42885 to 3.42885, saving model to model_custom2_gap_batchnorm.h5\n",
      "36/36 [==============================] - 47s 1s/step - loss: 1.8189 - categorical_crossentropy: 1.8189 - categorical_accuracy: 0.5908 - accuracy: 0.5908 - val_loss: 3.4289 - val_categorical_crossentropy: 3.4290 - val_categorical_accuracy: 0.1975 - val_accuracy: 0.1975\n",
      "Epoch 45/100\n",
      "35/36 [============================>.] - ETA: 1s - loss: 1.8108 - categorical_crossentropy: 1.8110 - categorical_accuracy: 0.5933 - accuracy: 0.5933\n",
      "Epoch 00045: val_loss did not improve from 3.42885\n",
      "36/36 [==============================] - 46s 1s/step - loss: 1.8143 - categorical_crossentropy: 1.8145 - categorical_accuracy: 0.5929 - accuracy: 0.5929 - val_loss: 3.4293 - val_categorical_crossentropy: 3.4294 - val_categorical_accuracy: 0.1975 - val_accuracy: 0.1975\n",
      "Epoch 46/100\n",
      "35/36 [============================>.] - ETA: 1s - loss: 1.8088 - categorical_crossentropy: 1.8086 - categorical_accuracy: 0.5919 - accuracy: 0.5919\n",
      "Epoch 00046: val_loss improved from 3.42885 to 3.42563, saving model to model_custom2_gap_batchnorm.h5\n",
      "36/36 [==============================] - 48s 1s/step - loss: 1.8050 - categorical_crossentropy: 1.8048 - categorical_accuracy: 0.5932 - accuracy: 0.5932 - val_loss: 3.4256 - val_categorical_crossentropy: 3.4256 - val_categorical_accuracy: 0.2014 - val_accuracy: 0.2014\n",
      "Epoch 47/100\n",
      "35/36 [============================>.] - ETA: 1s - loss: 1.7958 - categorical_crossentropy: 1.7959 - categorical_accuracy: 0.6002 - accuracy: 0.6002\n",
      "Epoch 00047: val_loss did not improve from 3.42563\n",
      "36/36 [==============================] - 45s 1s/step - loss: 1.7956 - categorical_crossentropy: 1.7956 - categorical_accuracy: 0.6000 - accuracy: 0.6000 - val_loss: 3.4283 - val_categorical_crossentropy: 3.4283 - val_categorical_accuracy: 0.1975 - val_accuracy: 0.1975\n",
      "Epoch 48/100\n",
      "35/36 [============================>.] - ETA: 1s - loss: 1.7879 - categorical_crossentropy: 1.7880 - categorical_accuracy: 0.5975 - accuracy: 0.5975\n",
      "Epoch 00048: val_loss did not improve from 3.42563\n",
      "36/36 [==============================] - 48s 1s/step - loss: 1.7889 - categorical_crossentropy: 1.7891 - categorical_accuracy: 0.5978 - accuracy: 0.5978 - val_loss: 3.4256 - val_categorical_crossentropy: 3.4257 - val_categorical_accuracy: 0.2033 - val_accuracy: 0.2033\n",
      "Epoch 49/100\n"
     ]
    },
    {
     "name": "stdout",
     "output_type": "stream",
     "text": [
      "35/36 [============================>.] - ETA: 1s - loss: 1.7818 - categorical_crossentropy: 1.7818 - categorical_accuracy: 0.5976 - accuracy: 0.5976\n",
      "Epoch 00049: val_loss did not improve from 3.42563\n",
      "36/36 [==============================] - 48s 1s/step - loss: 1.7817 - categorical_crossentropy: 1.7818 - categorical_accuracy: 0.5976 - accuracy: 0.5976 - val_loss: 3.4258 - val_categorical_crossentropy: 3.4257 - val_categorical_accuracy: 0.1975 - val_accuracy: 0.1975\n",
      "Epoch 50/100\n",
      "35/36 [============================>.] - ETA: 1s - loss: 1.7729 - categorical_crossentropy: 1.7731 - categorical_accuracy: 0.5995 - accuracy: 0.5995\n",
      "Epoch 00050: val_loss did not improve from 3.42563\n",
      "36/36 [==============================] - 47s 1s/step - loss: 1.7759 - categorical_crossentropy: 1.7761 - categorical_accuracy: 0.5994 - accuracy: 0.5994 - val_loss: 3.4259 - val_categorical_crossentropy: 3.4259 - val_categorical_accuracy: 0.2043 - val_accuracy: 0.2043\n",
      "Epoch 51/100\n",
      "35/36 [============================>.] - ETA: 1s - loss: 1.7656 - categorical_crossentropy: 1.7658 - categorical_accuracy: 0.6049 - accuracy: 0.6049\n",
      "Epoch 00051: val_loss did not improve from 3.42563\n",
      "36/36 [==============================] - 47s 1s/step - loss: 1.7652 - categorical_crossentropy: 1.7654 - categorical_accuracy: 0.6050 - accuracy: 0.6050 - val_loss: 3.4272 - val_categorical_crossentropy: 3.4270 - val_categorical_accuracy: 0.2043 - val_accuracy: 0.2043\n",
      "Epoch 52/100\n",
      "35/36 [============================>.] - ETA: 1s - loss: 1.7591 - categorical_crossentropy: 1.7592 - categorical_accuracy: 0.6070 - accuracy: 0.6070\n",
      "Epoch 00052: val_loss did not improve from 3.42563\n",
      "36/36 [==============================] - 46s 1s/step - loss: 1.7613 - categorical_crossentropy: 1.7615 - categorical_accuracy: 0.6067 - accuracy: 0.6067 - val_loss: 3.4277 - val_categorical_crossentropy: 3.4278 - val_categorical_accuracy: 0.2063 - val_accuracy: 0.2063\n",
      "Epoch 53/100\n",
      "35/36 [============================>.] - ETA: 1s - loss: 1.7640 - categorical_crossentropy: 1.7639 - categorical_accuracy: 0.6072 - accuracy: 0.6072\n",
      "Epoch 00053: val_loss did not improve from 3.42563\n",
      "36/36 [==============================] - 48s 1s/step - loss: 1.7630 - categorical_crossentropy: 1.7629 - categorical_accuracy: 0.6070 - accuracy: 0.6070 - val_loss: 3.4276 - val_categorical_crossentropy: 3.4275 - val_categorical_accuracy: 0.2043 - val_accuracy: 0.2043\n",
      "Epoch 54/100\n",
      "35/36 [============================>.] - ETA: 1s - loss: 1.7577 - categorical_crossentropy: 1.7580 - categorical_accuracy: 0.6055 - accuracy: 0.6055\n",
      "Epoch 00054: val_loss did not improve from 3.42563\n",
      "36/36 [==============================] - 46s 1s/step - loss: 1.7568 - categorical_crossentropy: 1.7570 - categorical_accuracy: 0.6059 - accuracy: 0.6059 - val_loss: 3.4294 - val_categorical_crossentropy: 3.4294 - val_categorical_accuracy: 0.2063 - val_accuracy: 0.2063\n",
      "Epoch 55/100\n",
      "35/36 [============================>.] - ETA: 1s - loss: 1.7626 - categorical_crossentropy: 1.7625 - categorical_accuracy: 0.6034 - accuracy: 0.6034\n",
      "Epoch 00055: val_loss did not improve from 3.42563\n",
      "36/36 [==============================] - 48s 1s/step - loss: 1.7609 - categorical_crossentropy: 1.7607 - categorical_accuracy: 0.6046 - accuracy: 0.6046 - val_loss: 3.4302 - val_categorical_crossentropy: 3.4304 - val_categorical_accuracy: 0.2063 - val_accuracy: 0.2063\n",
      "Epoch 56/100\n",
      "35/36 [============================>.] - ETA: 1s - loss: 1.7553 - categorical_crossentropy: 1.7555 - categorical_accuracy: 0.6056 - accuracy: 0.6056\n",
      "Epoch 00056: val_loss did not improve from 3.42563\n",
      "36/36 [==============================] - 47s 1s/step - loss: 1.7584 - categorical_crossentropy: 1.7586 - categorical_accuracy: 0.6046 - accuracy: 0.6046 - val_loss: 3.4312 - val_categorical_crossentropy: 3.4311 - val_categorical_accuracy: 0.2053 - val_accuracy: 0.2053\n",
      "Epoch 57/100\n",
      "35/36 [============================>.] - ETA: 1s - loss: 1.7536 - categorical_crossentropy: 1.7535 - categorical_accuracy: 0.6111 - accuracy: 0.6111\n",
      "Epoch 00057: val_loss did not improve from 3.42563\n",
      "36/36 [==============================] - 46s 1s/step - loss: 1.7577 - categorical_crossentropy: 1.7577 - categorical_accuracy: 0.6097 - accuracy: 0.6097 - val_loss: 3.4315 - val_categorical_crossentropy: 3.4316 - val_categorical_accuracy: 0.2053 - val_accuracy: 0.2053\n",
      "Epoch 58/100\n",
      "35/36 [============================>.] - ETA: 1s - loss: 1.7583 - categorical_crossentropy: 1.7587 - categorical_accuracy: 0.6089 - accuracy: 0.6089\n",
      "Epoch 00058: val_loss did not improve from 3.42563\n",
      "36/36 [==============================] - 47s 1s/step - loss: 1.7553 - categorical_crossentropy: 1.7556 - categorical_accuracy: 0.6098 - accuracy: 0.6098 - val_loss: 3.4320 - val_categorical_crossentropy: 3.4320 - val_categorical_accuracy: 0.2053 - val_accuracy: 0.2053\n",
      "Epoch 59/100\n",
      "35/36 [============================>.] - ETA: 1s - loss: 1.7528 - categorical_crossentropy: 1.7529 - categorical_accuracy: 0.6086 - accuracy: 0.6086\n",
      "Epoch 00059: val_loss did not improve from 3.42563\n",
      "36/36 [==============================] - 48s 1s/step - loss: 1.7543 - categorical_crossentropy: 1.7544 - categorical_accuracy: 0.6085 - accuracy: 0.6085 - val_loss: 3.4324 - val_categorical_crossentropy: 3.4324 - val_categorical_accuracy: 0.2053 - val_accuracy: 0.2053\n",
      "Epoch 60/100\n",
      "35/36 [============================>.] - ETA: 1s - loss: 1.7562 - categorical_crossentropy: 1.7563 - categorical_accuracy: 0.6110 - accuracy: 0.6110\n",
      "Epoch 00060: val_loss did not improve from 3.42563\n",
      "36/36 [==============================] - 48s 1s/step - loss: 1.7551 - categorical_crossentropy: 1.7551 - categorical_accuracy: 0.6114 - accuracy: 0.6114 - val_loss: 3.4326 - val_categorical_crossentropy: 3.4326 - val_categorical_accuracy: 0.2053 - val_accuracy: 0.2053\n",
      "Epoch 61/100\n",
      "35/36 [============================>.] - ETA: 1s - loss: 1.7572 - categorical_crossentropy: 1.7570 - categorical_accuracy: 0.6056 - accuracy: 0.6056\n",
      "Epoch 00061: val_loss did not improve from 3.42563\n",
      "36/36 [==============================] - 46s 1s/step - loss: 1.7567 - categorical_crossentropy: 1.7565 - categorical_accuracy: 0.6068 - accuracy: 0.6068 - val_loss: 3.4329 - val_categorical_crossentropy: 3.4328 - val_categorical_accuracy: 0.2053 - val_accuracy: 0.2053\n",
      "Epoch 62/100\n",
      "35/36 [============================>.] - ETA: 1s - loss: 1.7571 - categorical_crossentropy: 1.7570 - categorical_accuracy: 0.6053 - accuracy: 0.6053\n",
      "Epoch 00062: val_loss did not improve from 3.42563\n",
      "36/36 [==============================] - 48s 1s/step - loss: 1.7551 - categorical_crossentropy: 1.7549 - categorical_accuracy: 0.6062 - accuracy: 0.6062 - val_loss: 3.4327 - val_categorical_crossentropy: 3.4328 - val_categorical_accuracy: 0.2053 - val_accuracy: 0.2053\n",
      "Epoch 63/100\n",
      "35/36 [============================>.] - ETA: 1s - loss: 1.7613 - categorical_crossentropy: 1.7614 - categorical_accuracy: 0.6043 - accuracy: 0.6043\n",
      "Epoch 00063: val_loss did not improve from 3.42563\n",
      "36/36 [==============================] - 47s 1s/step - loss: 1.7597 - categorical_crossentropy: 1.7597 - categorical_accuracy: 0.6048 - accuracy: 0.6048 - val_loss: 3.4330 - val_categorical_crossentropy: 3.4330 - val_categorical_accuracy: 0.2053 - val_accuracy: 0.2053\n",
      "Epoch 64/100\n",
      "35/36 [============================>.] - ETA: 1s - loss: 1.7553 - categorical_crossentropy: 1.7552 - categorical_accuracy: 0.6117 - accuracy: 0.6117\n",
      "Epoch 00064: val_loss did not improve from 3.42563\n",
      "36/36 [==============================] - 47s 1s/step - loss: 1.7567 - categorical_crossentropy: 1.7566 - categorical_accuracy: 0.6101 - accuracy: 0.6101 - val_loss: 3.4330 - val_categorical_crossentropy: 3.4330 - val_categorical_accuracy: 0.2053 - val_accuracy: 0.2053\n",
      "Epoch 65/100\n",
      "35/36 [============================>.] - ETA: 1s - loss: 1.7493 - categorical_crossentropy: 1.7493 - categorical_accuracy: 0.6094 - accuracy: 0.6094\n",
      "Epoch 00065: val_loss did not improve from 3.42563\n",
      "36/36 [==============================] - 47s 1s/step - loss: 1.7517 - categorical_crossentropy: 1.7516 - categorical_accuracy: 0.6094 - accuracy: 0.6094 - val_loss: 3.4331 - val_categorical_crossentropy: 3.4330 - val_categorical_accuracy: 0.2053 - val_accuracy: 0.2053\n",
      "Epoch 66/100\n"
     ]
    },
    {
     "name": "stdout",
     "output_type": "stream",
     "text": [
      "35/36 [============================>.] - ETA: 1s - loss: 1.7576 - categorical_crossentropy: 1.7575 - categorical_accuracy: 0.6054 - accuracy: 0.6054\n",
      "Epoch 00066: val_loss did not improve from 3.42563\n",
      "Restoring model weights from the end of the best epoch.\n",
      "36/36 [==============================] - 46s 1s/step - loss: 1.7566 - categorical_crossentropy: 1.7566 - categorical_accuracy: 0.6055 - accuracy: 0.6055 - val_loss: 3.4332 - val_categorical_crossentropy: 3.4331 - val_categorical_accuracy: 0.2053 - val_accuracy: 0.2053\n",
      "Epoch 00066: early stopping\n"
     ]
    }
   ],
   "source": [
    "# Path to save model parameters\n",
    "weight_path_model_base ='model_custom2_gap_batchnorm.h5'\n",
    "# Path to write tensorboard\n",
    "tensorboard_path_model_base = 'Graphs/pattern_nn_custom2_gap_batchnorm'\n",
    "\n",
    "callbacks_list_model_base = [\n",
    "    TensorBoard(log_dir=tensorboard_path_model_base, histogram_freq=1, write_graph=True, write_grads=True),\n",
    "    ModelCheckpoint(\n",
    "            weight_path_model_base,\n",
    "            save_best_only=True,\n",
    "            save_weights_only=True,\n",
    "            monitor='val_loss',\n",
    "            mode='min',\n",
    "            verbose=1\n",
    "        ),\n",
    "    ReduceLROnPlateau(monitor='val_loss', factor=0.2, patience=4, min_lr=0.0000001),\n",
    "    EarlyStopping(\n",
    "        monitor='val_loss', \n",
    "        verbose=1,\n",
    "        patience=20,\n",
    "        mode='min',\n",
    "        restore_best_weights=True)\n",
    "]\n",
    "\n",
    "history_base = base_model.fit_generator(train_data_gen, epochs=EPOCHS, verbose=1, validation_data=val_data_gen,\n",
    "                                        callbacks=callbacks_list_model_base)"
   ]
  },
  {
   "cell_type": "markdown",
   "metadata": {},
   "source": [
    "## Train Logs"
   ]
  },
  {
   "cell_type": "code",
   "execution_count": 14,
   "metadata": {},
   "outputs": [
    {
     "name": "stdout",
     "output_type": "stream",
     "text": [
      "dict_keys(['loss', 'categorical_crossentropy', 'categorical_accuracy', 'accuracy', 'val_loss', 'val_categorical_crossentropy', 'val_categorical_accuracy', 'val_accuracy', 'lr'])\n"
     ]
    }
   ],
   "source": [
    "# What is tracked\n",
    "print(history_base.history.keys())"
   ]
  },
  {
   "cell_type": "code",
   "execution_count": 13,
   "metadata": {},
   "outputs": [
    {
     "data": {
      "image/png": "[encoded data removed]",
      "text/plain": [
       "<Figure size 432x288 with 1 Axes>"
      ]
     },
     "metadata": {
      "needs_background": "light"
     },
     "output_type": "display_data"
    },
    {
     "data": {
      "image/png": "[encoded data removed]",
      "text/plain": [
       "<Figure size 432x288 with 1 Axes>"
      ]
     },
     "metadata": {
      "needs_background": "light"
     },
     "output_type": "display_data"
    },
    {
     "data": {
      "image/png": "[encoded data removed]",
      "text/plain": [
       "<Figure size 432x288 with 1 Axes>"
      ]
     },
     "metadata": {
      "needs_background": "light"
     },
     "output_type": "display_data"
    }
   ],
   "source": [
    "train_loss = history_base.history['loss']\n",
    "train_acc = history_base.history['accuracy']\n",
    "val_loss = history_base.history['val_loss']\n",
    "val_acc = history_base.history['val_accuracy']\n",
    "learnrate = history_base.history['lr']\n",
    "\n",
    "plt.plot(train_loss, color='blue')\n",
    "plt.plot(val_loss, color='red')\n",
    "plt.title('Loss')\n",
    "plt.ylabel('loss')\n",
    "plt.xlabel('epoch')\n",
    "plt.show()\n",
    "\n",
    "plt.plot(train_acc, color='blue')\n",
    "plt.plot(val_acc, color='red')\n",
    "plt.title('Accuracy')\n",
    "plt.ylabel('accuracy')\n",
    "plt.xlabel('epoch')\n",
    "plt.show()\n",
    "\n",
    "plt.plot(learnrate, color='green')\n",
    "plt.title('Learning Rate')\n",
    "plt.ylabel('learning rate')\n",
    "plt.xlabel('epoch')\n",
    "plt.show()"
   ]
  },
  {
   "cell_type": "markdown",
   "metadata": {},
   "source": [
    "## Load class details"
   ]
  },
  {
   "cell_type": "code",
   "execution_count": 14,
   "metadata": {
    "scrolled": true
   },
   "outputs": [],
   "source": [
    "classes = train_data_gen.class_indices"
   ]
  },
  {
   "cell_type": "code",
   "execution_count": 15,
   "metadata": {
    "scrolled": true
   },
   "outputs": [],
   "source": [
    "inverted_classes = dict(map(reversed, classes.items()))"
   ]
  },
  {
   "cell_type": "code",
   "execution_count": 16,
   "metadata": {},
   "outputs": [],
   "source": [
    "class_list = [i for i in classes.keys()]"
   ]
  },
  {
   "cell_type": "markdown",
   "metadata": {},
   "source": [
    "## Load test data"
   ]
  },
  {
   "cell_type": "code",
   "execution_count": 17,
   "metadata": {},
   "outputs": [
    {
     "name": "stdout",
     "output_type": "stream",
     "text": [
      "Found 10357 images belonging to 1 classes.\n"
     ]
    }
   ],
   "source": [
    "test_image_generator = ImageDataGenerator(rescale=1./255)\n",
    "test_data_gen = test_image_generator.flow_from_directory(batch_size=BATCH_SIZE,\n",
    "                                                           directory=TEST_PATH,\n",
    "                                                           target_size=(IMG_HEIGHT, IMG_WIDTH),\n",
    "                                                           class_mode=None)"
   ]
  },
  {
   "cell_type": "markdown",
   "metadata": {},
   "source": [
    "## Run on test data"
   ]
  },
  {
   "cell_type": "code",
   "execution_count": 18,
   "metadata": {},
   "outputs": [
    {
     "name": "stdout",
     "output_type": "stream",
     "text": [
      "41/41 [==============================] - 108s 3s/step\n"
     ]
    }
   ],
   "source": [
    "test_result = base_model.predict_generator(test_data_gen, verbose=1)"
   ]
  },
  {
   "cell_type": "markdown",
   "metadata": {},
   "source": [
    "## Prepare data for csv"
   ]
  },
  {
   "cell_type": "code",
   "execution_count": 19,
   "metadata": {},
   "outputs": [],
   "source": [
    "filenames = [i[i.find('/')+1:i.rfind('.')] for i in test_data_gen.filenames]\n",
    "filenames_arr = np.array(filenames)[np.newaxis].T\n",
    "test_result_with_label = np.concatenate((filenames_arr, test_result), axis=1)\n",
    "csv_header = ['id'] + class_list"
   ]
  },
  {
   "cell_type": "markdown",
   "metadata": {},
   "source": [
    "## Export data to csv"
   ]
  },
  {
   "cell_type": "code",
   "execution_count": 20,
   "metadata": {},
   "outputs": [],
   "source": [
    "# Be aware that the file with the same name should not exist, or it will be overwrited.\n",
    "result_dataframe = pd.DataFrame(test_result_with_label, columns=csv_header)\n",
    "result_dataframe.to_csv('./result_custom2_gap_batchnorm.csv', index=False)"
   ]
  },
  {
   "cell_type": "code",
   "execution_count": null,
   "metadata": {},
   "outputs": [],
   "source": []
  }
 ],
 "metadata": {
  "kernelspec": {
   "display_name": "Python 3",
   "language": "python",
   "name": "python3"
  },
  "language_info": {
   "codemirror_mode": {
    "name": "ipython",
    "version": 3
   },
   "file_extension": ".py",
   "mimetype": "text/x-python",
   "name": "python",
   "nbconvert_exporter": "python",
   "pygments_lexer": "ipython3",
   "version": "3.7.4"
  }
 },
 "nbformat": 4,
 "nbformat_minor": 4
}
