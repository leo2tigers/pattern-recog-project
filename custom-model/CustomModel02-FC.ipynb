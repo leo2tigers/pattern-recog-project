{
 "cells": [
  {
   "cell_type": "markdown",
   "metadata": {},
   "source": [
    "## Load Tensorboard"
   ]
  },
  {
   "cell_type": "code",
   "execution_count": 1,
   "metadata": {},
   "outputs": [],
   "source": [
    "%load_ext tensorboard"
   ]
  },
  {
   "cell_type": "markdown",
   "metadata": {},
   "source": [
    "## Import Libraries"
   ]
  },
  {
   "cell_type": "code",
   "execution_count": 2,
   "metadata": {},
   "outputs": [],
   "source": [
    "import os\n",
    "import numpy as np\n",
    "import pickle\n",
    "import pandas as pd\n",
    "import matplotlib.pyplot as plt\n",
    "import urllib\n",
    "from sklearn import preprocessing\n",
    "from sklearn.model_selection import train_test_split, StratifiedShuffleSplit, StratifiedKFold\n",
    "\n",
    "import tensorflow as tf\n",
    "from tensorflow.keras.models import load_model, Model\n",
    "from tensorflow.keras.preprocessing.image import ImageDataGenerator\n",
    "from tensorflow.keras.layers import Dense, Conv2D, MaxPooling2D, Flatten, Input, Dropout\n",
    "from tensorflow.keras.callbacks import ModelCheckpoint, TensorBoard, ReduceLROnPlateau, EarlyStopping"
   ]
  },
  {
   "cell_type": "markdown",
   "metadata": {},
   "source": [
    "## Initialize Tensorflow"
   ]
  },
  {
   "cell_type": "code",
   "execution_count": 3,
   "metadata": {},
   "outputs": [],
   "source": [
    "from tensorflow.keras import backend as K\n",
    "K.clear_session()"
   ]
  },
  {
   "cell_type": "markdown",
   "metadata": {},
   "source": [
    "## Load Data"
   ]
  },
  {
   "cell_type": "code",
   "execution_count": 4,
   "metadata": {},
   "outputs": [],
   "source": [
    "data = pd.read_csv(\"../labels.csv\")\n",
    "imgs = [\"{}.jpg\".format(x) for x in list(data.id)]\n",
    "img_label = list(data['breed'])\n",
    "\n",
    "# Split data into train and validation set equally\n",
    "b_sp = StratifiedShuffleSplit(1, 0.1)\n",
    "imgs = np.array(imgs)\n",
    "img_label = np.array(img_label)\n",
    "for train_idx, val_idx in b_sp.split(imgs, img_label):\n",
    "    train_x = imgs[train_idx]\n",
    "    train_y = img_label[train_idx]\n",
    "    val_x = imgs[val_idx]\n",
    "    val_y = img_label[val_idx]\n",
    "\n",
    "train_y = train_y.astype(str)\n",
    "val_y = val_y.astype(str)\n",
    "train_data = pd.DataFrame({'id': train_x,'breed': train_y})\n",
    "val_data = pd.DataFrame({'id': val_x,'breed': val_y})"
   ]
  },
  {
   "cell_type": "code",
   "execution_count": 5,
   "metadata": {},
   "outputs": [],
   "source": [
    "BATCH_SIZE = 256\n",
    "\n",
    "# Number of epochs for training\n",
    "EPOCHS = 100\n",
    "\n",
    "# The original image will be resized to the size specified below.\n",
    "IMG_HEIGHT = 224\n",
    "IMG_WIDTH = 224\n",
    "\n",
    "# Path to image for training\n",
    "#TRAIN_PATH = '../img/train/'\n",
    "TRAIN_PATH = '../img/train/'\n",
    "TEST_PATH = '../img/test/'"
   ]
  },
  {
   "cell_type": "code",
   "execution_count": 6,
   "metadata": {},
   "outputs": [],
   "source": [
    "b_sp = StratifiedShuffleSplit(1, 0.1)\n",
    "imgs = np.array(imgs)\n",
    "img_label = np.array(img_label)\n",
    "for train_idx, val_idx in b_sp.split(imgs, img_label):\n",
    "    train_x = imgs[train_idx]\n",
    "    train_y = img_label[train_idx]\n",
    "    val_x = imgs[val_idx]\n",
    "    val_y = img_label[val_idx]\n",
    "    \n",
    "train_data = pd.DataFrame({'id': train_x,'breed': train_y})\n",
    "val_data = pd.DataFrame({'id': val_x,'breed': val_y})"
   ]
  },
  {
   "cell_type": "markdown",
   "metadata": {},
   "source": [
    "## Preprocess Image"
   ]
  },
  {
   "cell_type": "code",
   "execution_count": 7,
   "metadata": {},
   "outputs": [],
   "source": [
    "# For train image generator, more params may be added to generate augmented image.\n",
    "train_image_generator = ImageDataGenerator(rescale=1./255)\n",
    "val_image_generator = ImageDataGenerator(rescale=1./255)"
   ]
  },
  {
   "cell_type": "code",
   "execution_count": 8,
   "metadata": {},
   "outputs": [
    {
     "name": "stdout",
     "output_type": "stream",
     "text": [
      "Found 9199 validated image filenames belonging to 120 classes.\n",
      "Found 1023 validated image filenames belonging to 120 classes.\n"
     ]
    }
   ],
   "source": [
    "train_data_gen = train_image_generator.flow_from_dataframe(\n",
    "                                        dataframe = train_data,\n",
    "                                        directory=TRAIN_PATH,x_col=\"id\",\n",
    "                                        y_col=\"breed\",\n",
    "                                        class_mode=\"categorical\",\n",
    "                                        target_size=(IMG_HEIGHT,IMG_WIDTH),\n",
    "                                        batch_size=BATCH_SIZE,\n",
    "                                        shuffle=True)\n",
    "val_data_gen = val_image_generator.flow_from_dataframe(\n",
    "                                        dataframe = val_data,\n",
    "                                        directory=TRAIN_PATH,x_col=\"id\",\n",
    "                                        y_col=\"breed\",\n",
    "                                        class_mode=\"categorical\",\n",
    "                                        target_size=(IMG_HEIGHT,IMG_WIDTH),\n",
    "                                        batch_size=BATCH_SIZE)"
   ]
  },
  {
   "cell_type": "code",
   "execution_count": 9,
   "metadata": {},
   "outputs": [],
   "source": [
    "# For checking of class distribution in train and validation set\n",
    "# If unused, leave this commented to reduce output on your screen.\n",
    "\n",
    "# breedcnt = dict()\n",
    "# breedcntval = dict()\n",
    "# for i in train_data['breed']:\n",
    "#     try:\n",
    "#         breedcnt[i] += 1\n",
    "#     except:\n",
    "#         breedcnt[i] = 1\n",
    "        \n",
    "# for i in val_data['breed']:\n",
    "#     try:\n",
    "#         breedcntval[i] += 1\n",
    "#     except:\n",
    "#         breedcntval[i] = 1\n",
    "        \n",
    "# for i in breedcnt.keys():\n",
    "#     print(i, \" : \", breedcnt[i], \" | \", breedcntval[i])"
   ]
  },
  {
   "cell_type": "markdown",
   "metadata": {},
   "source": [
    "## Define Model"
   ]
  },
  {
   "cell_type": "code",
   "execution_count": 10,
   "metadata": {},
   "outputs": [],
   "source": [
    "# Define you model here\n",
    "# The model provided is just placeholder\n",
    "# Do not modify the input shape and the output layer\n",
    "def get_base_model():\n",
    "    input1 = Input(shape=(IMG_HEIGHT,IMG_WIDTH, 3))\n",
    "    x = Conv2D(32, kernel_size=3, activation='relu', input_shape=(IMG_HEIGHT,IMG_WIDTH,3))(input1)\n",
    "    x = Conv2D(32, kernel_size=3, activation='relu')(x)\n",
    "    x = MaxPooling2D(2)(x)\n",
    "    x = Conv2D(64, kernel_size=3, activation='relu')(x)\n",
    "    x = Conv2D(64, kernel_size=3, activation='relu')(x)\n",
    "    x = MaxPooling2D(2)(x)\n",
    "    x = Conv2D(128, kernel_size=3, activation='relu')(x)\n",
    "    x = Conv2D(128, kernel_size=3, activation='relu')(x)\n",
    "    x = MaxPooling2D(2)(x)\n",
    "    x = Conv2D(256, kernel_size=3, activation='relu')(x)\n",
    "    x = Conv2D(256, kernel_size=3, activation='relu')(x)\n",
    "    x = MaxPooling2D(2)(x)\n",
    "    x = Conv2D(512, kernel_size=3, activation='relu')(x)\n",
    "    x = Conv2D(512, kernel_size=3, activation='relu')(x)\n",
    "    x = MaxPooling2D(2)(x)\n",
    "    x = Flatten()(x)\n",
    "    x = Dense(1024, activation='relu')(x)\n",
    "    x = Dropout(0.2)(x)\n",
    "    x = Dense(512, activation='relu')(x)\n",
    "    x = Dropout(0.2)(x)\n",
    "    out = Dense(120, activation='softmax')(x)\n",
    "    \n",
    "    model = Model(inputs=input1, outputs=out)\n",
    "    model.compile(optimizer='adam', loss='categorical_crossentropy',\n",
    "                  metrics=['categorical_crossentropy','categorical_accuracy','accuracy'])\n",
    "    \n",
    "    return model"
   ]
  },
  {
   "cell_type": "code",
   "execution_count": 11,
   "metadata": {},
   "outputs": [],
   "source": [
    "base_model = get_base_model()"
   ]
  },
  {
   "cell_type": "code",
   "execution_count": 12,
   "metadata": {},
   "outputs": [
    {
     "name": "stdout",
     "output_type": "stream",
     "text": [
      "Model: \"model\"\n",
      "_________________________________________________________________\n",
      "Layer (type)                 Output Shape              Param #   \n",
      "=================================================================\n",
      "input_1 (InputLayer)         [(None, 224, 224, 3)]     0         \n",
      "_________________________________________________________________\n",
      "conv2d (Conv2D)              (None, 222, 222, 32)      896       \n",
      "_________________________________________________________________\n",
      "conv2d_1 (Conv2D)            (None, 220, 220, 32)      9248      \n",
      "_________________________________________________________________\n",
      "max_pooling2d (MaxPooling2D) (None, 110, 110, 32)      0         \n",
      "_________________________________________________________________\n",
      "conv2d_2 (Conv2D)            (None, 108, 108, 64)      18496     \n",
      "_________________________________________________________________\n",
      "conv2d_3 (Conv2D)            (None, 106, 106, 64)      36928     \n",
      "_________________________________________________________________\n",
      "max_pooling2d_1 (MaxPooling2 (None, 53, 53, 64)        0         \n",
      "_________________________________________________________________\n",
      "conv2d_4 (Conv2D)            (None, 51, 51, 128)       73856     \n",
      "_________________________________________________________________\n",
      "conv2d_5 (Conv2D)            (None, 49, 49, 128)       147584    \n",
      "_________________________________________________________________\n",
      "max_pooling2d_2 (MaxPooling2 (None, 24, 24, 128)       0         \n",
      "_________________________________________________________________\n",
      "conv2d_6 (Conv2D)            (None, 22, 22, 256)       295168    \n",
      "_________________________________________________________________\n",
      "conv2d_7 (Conv2D)            (None, 20, 20, 256)       590080    \n",
      "_________________________________________________________________\n",
      "max_pooling2d_3 (MaxPooling2 (None, 10, 10, 256)       0         \n",
      "_________________________________________________________________\n",
      "conv2d_8 (Conv2D)            (None, 8, 8, 512)         1180160   \n",
      "_________________________________________________________________\n",
      "conv2d_9 (Conv2D)            (None, 6, 6, 512)         2359808   \n",
      "_________________________________________________________________\n",
      "max_pooling2d_4 (MaxPooling2 (None, 3, 3, 512)         0         \n",
      "_________________________________________________________________\n",
      "flatten (Flatten)            (None, 4608)              0         \n",
      "_________________________________________________________________\n",
      "dense (Dense)                (None, 1024)              4719616   \n",
      "_________________________________________________________________\n",
      "dropout (Dropout)            (None, 1024)              0         \n",
      "_________________________________________________________________\n",
      "dense_1 (Dense)              (None, 512)               524800    \n",
      "_________________________________________________________________\n",
      "dropout_1 (Dropout)          (None, 512)               0         \n",
      "_________________________________________________________________\n",
      "dense_2 (Dense)              (None, 120)               61560     \n",
      "=================================================================\n",
      "Total params: 10,018,200\n",
      "Trainable params: 10,018,200\n",
      "Non-trainable params: 0\n",
      "_________________________________________________________________\n"
     ]
    }
   ],
   "source": [
    "# Total parmas should not exceed 120M or the VM may crash\n",
    "base_model.summary()"
   ]
  },
  {
   "cell_type": "markdown",
   "metadata": {},
   "source": [
    "## Train the model"
   ]
  },
  {
   "cell_type": "code",
   "execution_count": 17,
   "metadata": {
    "scrolled": true
   },
   "outputs": [
    {
     "name": "stdout",
     "output_type": "stream",
     "text": [
      "WARNING:tensorflow:`write_grads` will be ignored in TensorFlow 2.0 for the `TensorBoard` Callback.\n",
      "Epoch 1/100\n",
      "35/36 [============================>.] - ETA: 1s - loss: 4.7866 - categorical_crossentropy: 4.7866 - categorical_accuracy: 0.0089 - accuracy: 0.0089\n",
      "Epoch 00001: val_loss improved from inf to 4.77985, saving model to model_custom2_fc.h5\n",
      "36/36 [==============================] - 55s 2s/step - loss: 4.7865 - categorical_crossentropy: 4.7865 - categorical_accuracy: 0.0090 - accuracy: 0.0090 - val_loss: 4.7798 - val_categorical_crossentropy: 4.7798 - val_categorical_accuracy: 0.0127 - val_accuracy: 0.0127\n",
      "Epoch 2/100\n",
      "35/36 [============================>.] - ETA: 1s - loss: 4.7819 - categorical_crossentropy: 4.7819 - categorical_accuracy: 0.0105 - accuracy: 0.0105\n",
      "Epoch 00002: val_loss improved from 4.77985 to 4.77834, saving model to model_custom2_fc.h5\n",
      "36/36 [==============================] - 48s 1s/step - loss: 4.7817 - categorical_crossentropy: 4.7817 - categorical_accuracy: 0.0109 - accuracy: 0.0109 - val_loss: 4.7783 - val_categorical_crossentropy: 4.7783 - val_categorical_accuracy: 0.0127 - val_accuracy: 0.0127\n",
      "Epoch 3/100\n",
      "35/36 [============================>.] - ETA: 1s - loss: 4.7797 - categorical_crossentropy: 4.7797 - categorical_accuracy: 0.0123 - accuracy: 0.0123\n",
      "Epoch 00003: val_loss improved from 4.77834 to 4.77635, saving model to model_custom2_fc.h5\n",
      "36/36 [==============================] - 51s 1s/step - loss: 4.7798 - categorical_crossentropy: 4.7798 - categorical_accuracy: 0.0122 - accuracy: 0.0122 - val_loss: 4.7764 - val_categorical_crossentropy: 4.7764 - val_categorical_accuracy: 0.0127 - val_accuracy: 0.0127\n",
      "Epoch 4/100\n",
      "35/36 [============================>.] - ETA: 1s - loss: 4.7782 - categorical_crossentropy: 4.7782 - categorical_accuracy: 0.0117 - accuracy: 0.0117\n",
      "Epoch 00004: val_loss improved from 4.77635 to 4.77564, saving model to model_custom2_fc.h5\n",
      "36/36 [==============================] - 49s 1s/step - loss: 4.7786 - categorical_crossentropy: 4.7786 - categorical_accuracy: 0.0120 - accuracy: 0.0120 - val_loss: 4.7756 - val_categorical_crossentropy: 4.7757 - val_categorical_accuracy: 0.0127 - val_accuracy: 0.0127\n",
      "Epoch 5/100\n",
      "35/36 [============================>.] - ETA: 1s - loss: 4.7791 - categorical_crossentropy: 4.7791 - categorical_accuracy: 0.0110 - accuracy: 0.0110\n",
      "Epoch 00005: val_loss improved from 4.77564 to 4.77508, saving model to model_custom2_fc.h5\n",
      "36/36 [==============================] - 50s 1s/step - loss: 4.7792 - categorical_crossentropy: 4.7792 - categorical_accuracy: 0.0109 - accuracy: 0.0109 - val_loss: 4.7751 - val_categorical_crossentropy: 4.7751 - val_categorical_accuracy: 0.0127 - val_accuracy: 0.0127\n",
      "Epoch 6/100\n",
      "35/36 [============================>.] - ETA: 1s - loss: 4.7782 - categorical_crossentropy: 4.7782 - categorical_accuracy: 0.0124 - accuracy: 0.0124\n",
      "Epoch 00006: val_loss did not improve from 4.77508\n",
      "36/36 [==============================] - 49s 1s/step - loss: 4.7787 - categorical_crossentropy: 4.7787 - categorical_accuracy: 0.0123 - accuracy: 0.0123 - val_loss: 4.7753 - val_categorical_crossentropy: 4.7754 - val_categorical_accuracy: 0.0127 - val_accuracy: 0.0127\n",
      "Epoch 7/100\n",
      "35/36 [============================>.] - ETA: 1s - loss: 4.7774 - categorical_crossentropy: 4.7774 - categorical_accuracy: 0.0123 - accuracy: 0.0123\n",
      "Epoch 00007: val_loss improved from 4.77508 to 4.77502, saving model to model_custom2_fc.h5\n",
      "36/36 [==============================] - 51s 1s/step - loss: 4.7779 - categorical_crossentropy: 4.7778 - categorical_accuracy: 0.0122 - accuracy: 0.0122 - val_loss: 4.7750 - val_categorical_crossentropy: 4.7750 - val_categorical_accuracy: 0.0127 - val_accuracy: 0.0127\n",
      "Epoch 8/100\n",
      "35/36 [============================>.] - ETA: 1s - loss: 4.7778 - categorical_crossentropy: 4.7778 - categorical_accuracy: 0.0124 - accuracy: 0.0124\n",
      "Epoch 00008: val_loss did not improve from 4.77502\n",
      "36/36 [==============================] - 48s 1s/step - loss: 4.7779 - categorical_crossentropy: 4.7779 - categorical_accuracy: 0.0124 - accuracy: 0.0124 - val_loss: 4.7753 - val_categorical_crossentropy: 4.7753 - val_categorical_accuracy: 0.0127 - val_accuracy: 0.0127\n",
      "Epoch 9/100\n",
      "35/36 [============================>.] - ETA: 1s - loss: 4.7778 - categorical_crossentropy: 4.7778 - categorical_accuracy: 0.0119 - accuracy: 0.0119\n",
      "Epoch 00009: val_loss did not improve from 4.77502\n",
      "36/36 [==============================] - 50s 1s/step - loss: 4.7781 - categorical_crossentropy: 4.7781 - categorical_accuracy: 0.0117 - accuracy: 0.0117 - val_loss: 4.7751 - val_categorical_crossentropy: 4.7751 - val_categorical_accuracy: 0.0127 - val_accuracy: 0.0127\n",
      "Epoch 10/100\n",
      "35/36 [============================>.] - ETA: 1s - loss: 4.7764 - categorical_crossentropy: 4.7764 - categorical_accuracy: 0.0113 - accuracy: 0.0113\n",
      "Epoch 00010: val_loss did not improve from 4.77502\n",
      "36/36 [==============================] - 49s 1s/step - loss: 4.7764 - categorical_crossentropy: 4.7763 - categorical_accuracy: 0.0113 - accuracy: 0.0113 - val_loss: 4.7751 - val_categorical_crossentropy: 4.7751 - val_categorical_accuracy: 0.0127 - val_accuracy: 0.0127\n",
      "Epoch 11/100\n",
      "35/36 [============================>.] - ETA: 1s - loss: 4.7766 - categorical_crossentropy: 4.7766 - categorical_accuracy: 0.0117 - accuracy: 0.0117\n",
      "Epoch 00011: val_loss did not improve from 4.77502\n",
      "36/36 [==============================] - 50s 1s/step - loss: 4.7765 - categorical_crossentropy: 4.7765 - categorical_accuracy: 0.0117 - accuracy: 0.0117 - val_loss: 4.7751 - val_categorical_crossentropy: 4.7751 - val_categorical_accuracy: 0.0127 - val_accuracy: 0.0127\n",
      "Epoch 12/100\n",
      "35/36 [============================>.] - ETA: 1s - loss: 4.7771 - categorical_crossentropy: 4.7771 - categorical_accuracy: 0.0122 - accuracy: 0.0122\n",
      "Epoch 00012: val_loss improved from 4.77502 to 4.77496, saving model to model_custom2_fc.h5\n",
      "36/36 [==============================] - 50s 1s/step - loss: 4.7768 - categorical_crossentropy: 4.7768 - categorical_accuracy: 0.0122 - accuracy: 0.0122 - val_loss: 4.7750 - val_categorical_crossentropy: 4.7750 - val_categorical_accuracy: 0.0127 - val_accuracy: 0.0127\n",
      "Epoch 13/100\n",
      "35/36 [============================>.] - ETA: 1s - loss: 4.7762 - categorical_crossentropy: 4.7763 - categorical_accuracy: 0.0124 - accuracy: 0.0124\n",
      "Epoch 00013: val_loss did not improve from 4.77496\n",
      "36/36 [==============================] - 50s 1s/step - loss: 4.7767 - categorical_crossentropy: 4.7767 - categorical_accuracy: 0.0124 - accuracy: 0.0124 - val_loss: 4.7750 - val_categorical_crossentropy: 4.7750 - val_categorical_accuracy: 0.0127 - val_accuracy: 0.0127\n",
      "Epoch 14/100\n",
      "35/36 [============================>.] - ETA: 1s - loss: 4.7767 - categorical_crossentropy: 4.7767 - categorical_accuracy: 0.0122 - accuracy: 0.0122\n",
      "Epoch 00014: val_loss did not improve from 4.77496\n",
      "36/36 [==============================] - 48s 1s/step - loss: 4.7767 - categorical_crossentropy: 4.7767 - categorical_accuracy: 0.0122 - accuracy: 0.0122 - val_loss: 4.7750 - val_categorical_crossentropy: 4.7750 - val_categorical_accuracy: 0.0127 - val_accuracy: 0.0127\n",
      "Epoch 15/100\n",
      "35/36 [============================>.] - ETA: 1s - loss: 4.7772 - categorical_crossentropy: 4.7772 - categorical_accuracy: 0.0120 - accuracy: 0.0120\n",
      "Epoch 00015: val_loss did not improve from 4.77496\n",
      "36/36 [==============================] - 49s 1s/step - loss: 4.7768 - categorical_crossentropy: 4.7768 - categorical_accuracy: 0.0122 - accuracy: 0.0122 - val_loss: 4.7750 - val_categorical_crossentropy: 4.7750 - val_categorical_accuracy: 0.0127 - val_accuracy: 0.0127\n",
      "Epoch 16/100\n",
      "35/36 [============================>.] - ETA: 1s - loss: 4.7767 - categorical_crossentropy: 4.7767 - categorical_accuracy: 0.0127 - accuracy: 0.0127\n",
      "Epoch 00016: val_loss did not improve from 4.77496\n",
      "36/36 [==============================] - 48s 1s/step - loss: 4.7765 - categorical_crossentropy: 4.7765 - categorical_accuracy: 0.0125 - accuracy: 0.0125 - val_loss: 4.7750 - val_categorical_crossentropy: 4.7750 - val_categorical_accuracy: 0.0127 - val_accuracy: 0.0127\n",
      "Epoch 17/100\n"
     ]
    },
    {
     "name": "stdout",
     "output_type": "stream",
     "text": [
      "35/36 [============================>.] - ETA: 1s - loss: 4.7770 - categorical_crossentropy: 4.7770 - categorical_accuracy: 0.0130 - accuracy: 0.0130\n",
      "Epoch 00017: val_loss did not improve from 4.77496\n",
      "36/36 [==============================] - 50s 1s/step - loss: 4.7765 - categorical_crossentropy: 4.7765 - categorical_accuracy: 0.0127 - accuracy: 0.0127 - val_loss: 4.7750 - val_categorical_crossentropy: 4.7750 - val_categorical_accuracy: 0.0127 - val_accuracy: 0.0127\n",
      "Epoch 18/100\n",
      "35/36 [============================>.] - ETA: 1s - loss: 4.7758 - categorical_crossentropy: 4.7759 - categorical_accuracy: 0.0117 - accuracy: 0.0117\n",
      "Epoch 00018: val_loss did not improve from 4.77496\n",
      "36/36 [==============================] - 49s 1s/step - loss: 4.7759 - categorical_crossentropy: 4.7760 - categorical_accuracy: 0.0120 - accuracy: 0.0120 - val_loss: 4.7750 - val_categorical_crossentropy: 4.7750 - val_categorical_accuracy: 0.0127 - val_accuracy: 0.0127\n",
      "Epoch 19/100\n",
      "35/36 [============================>.] - ETA: 1s - loss: 4.7764 - categorical_crossentropy: 4.7764 - categorical_accuracy: 0.0116 - accuracy: 0.0116\n",
      "Epoch 00019: val_loss did not improve from 4.77496\n",
      "36/36 [==============================] - 49s 1s/step - loss: 4.7763 - categorical_crossentropy: 4.7763 - categorical_accuracy: 0.0118 - accuracy: 0.0118 - val_loss: 4.7750 - val_categorical_crossentropy: 4.7750 - val_categorical_accuracy: 0.0127 - val_accuracy: 0.0127\n",
      "Epoch 20/100\n",
      "35/36 [============================>.] - ETA: 1s - loss: 4.7768 - categorical_crossentropy: 4.7769 - categorical_accuracy: 0.0121 - accuracy: 0.0121\n",
      "Epoch 00020: val_loss did not improve from 4.77496\n",
      "36/36 [==============================] - 49s 1s/step - loss: 4.7764 - categorical_crossentropy: 4.7764 - categorical_accuracy: 0.0124 - accuracy: 0.0124 - val_loss: 4.7750 - val_categorical_crossentropy: 4.7750 - val_categorical_accuracy: 0.0127 - val_accuracy: 0.0127\n",
      "Epoch 21/100\n",
      "35/36 [============================>.] - ETA: 1s - loss: 4.7761 - categorical_crossentropy: 4.7761 - categorical_accuracy: 0.0124 - accuracy: 0.0124\n",
      "Epoch 00021: val_loss did not improve from 4.77496\n",
      "36/36 [==============================] - 48s 1s/step - loss: 4.7762 - categorical_crossentropy: 4.7762 - categorical_accuracy: 0.0124 - accuracy: 0.0124 - val_loss: 4.7750 - val_categorical_crossentropy: 4.7750 - val_categorical_accuracy: 0.0127 - val_accuracy: 0.0127\n",
      "Epoch 22/100\n",
      "35/36 [============================>.] - ETA: 1s - loss: 4.7766 - categorical_crossentropy: 4.7766 - categorical_accuracy: 0.0123 - accuracy: 0.0123\n",
      "Epoch 00022: val_loss did not improve from 4.77496\n",
      "36/36 [==============================] - 50s 1s/step - loss: 4.7763 - categorical_crossentropy: 4.7764 - categorical_accuracy: 0.0123 - accuracy: 0.0123 - val_loss: 4.7750 - val_categorical_crossentropy: 4.7750 - val_categorical_accuracy: 0.0127 - val_accuracy: 0.0127\n",
      "Epoch 23/100\n",
      "35/36 [============================>.] - ETA: 1s - loss: 4.7761 - categorical_crossentropy: 4.7761 - categorical_accuracy: 0.0123 - accuracy: 0.0123\n",
      "Epoch 00023: val_loss did not improve from 4.77496\n",
      "36/36 [==============================] - 50s 1s/step - loss: 4.7765 - categorical_crossentropy: 4.7765 - categorical_accuracy: 0.0123 - accuracy: 0.0123 - val_loss: 4.7750 - val_categorical_crossentropy: 4.7750 - val_categorical_accuracy: 0.0127 - val_accuracy: 0.0127\n",
      "Epoch 24/100\n",
      "35/36 [============================>.] - ETA: 1s - loss: 4.7764 - categorical_crossentropy: 4.7764 - categorical_accuracy: 0.0121 - accuracy: 0.0121\n",
      "Epoch 00024: val_loss improved from 4.77496 to 4.77496, saving model to model_custom2_fc.h5\n",
      "36/36 [==============================] - 50s 1s/step - loss: 4.7763 - categorical_crossentropy: 4.7763 - categorical_accuracy: 0.0120 - accuracy: 0.0120 - val_loss: 4.7750 - val_categorical_crossentropy: 4.7750 - val_categorical_accuracy: 0.0127 - val_accuracy: 0.0127\n",
      "Epoch 25/100\n",
      "35/36 [============================>.] - ETA: 1s - loss: 4.7761 - categorical_crossentropy: 4.7761 - categorical_accuracy: 0.0119 - accuracy: 0.0119\n",
      "Epoch 00025: val_loss did not improve from 4.77496\n",
      "36/36 [==============================] - 49s 1s/step - loss: 4.7761 - categorical_crossentropy: 4.7761 - categorical_accuracy: 0.0118 - accuracy: 0.0118 - val_loss: 4.7750 - val_categorical_crossentropy: 4.7750 - val_categorical_accuracy: 0.0127 - val_accuracy: 0.0127\n",
      "Epoch 26/100\n",
      "35/36 [============================>.] - ETA: 1s - loss: 4.7763 - categorical_crossentropy: 4.7764 - categorical_accuracy: 0.0126 - accuracy: 0.0126\n",
      "Epoch 00026: val_loss did not improve from 4.77496\n",
      "36/36 [==============================] - 50s 1s/step - loss: 4.7762 - categorical_crossentropy: 4.7762 - categorical_accuracy: 0.0124 - accuracy: 0.0124 - val_loss: 4.7750 - val_categorical_crossentropy: 4.7750 - val_categorical_accuracy: 0.0127 - val_accuracy: 0.0127\n",
      "Epoch 27/100\n",
      "35/36 [============================>.] - ETA: 1s - loss: 4.7763 - categorical_crossentropy: 4.7763 - categorical_accuracy: 0.0123 - accuracy: 0.0123\n",
      "Epoch 00027: val_loss did not improve from 4.77496\n",
      "36/36 [==============================] - 49s 1s/step - loss: 4.7762 - categorical_crossentropy: 4.7762 - categorical_accuracy: 0.0122 - accuracy: 0.0122 - val_loss: 4.7750 - val_categorical_crossentropy: 4.7750 - val_categorical_accuracy: 0.0127 - val_accuracy: 0.0127\n",
      "Epoch 28/100\n",
      "35/36 [============================>.] - ETA: 1s - loss: 4.7760 - categorical_crossentropy: 4.7761 - categorical_accuracy: 0.0121 - accuracy: 0.0121\n",
      "Epoch 00028: val_loss did not improve from 4.77496\n",
      "36/36 [==============================] - 49s 1s/step - loss: 4.7761 - categorical_crossentropy: 4.7761 - categorical_accuracy: 0.0117 - accuracy: 0.0117 - val_loss: 4.7750 - val_categorical_crossentropy: 4.7750 - val_categorical_accuracy: 0.0127 - val_accuracy: 0.0127\n",
      "Epoch 29/100\n",
      "35/36 [============================>.] - ETA: 1s - loss: 4.7761 - categorical_crossentropy: 4.7761 - categorical_accuracy: 0.0123 - accuracy: 0.0123\n",
      "Epoch 00029: val_loss did not improve from 4.77496\n",
      "36/36 [==============================] - 49s 1s/step - loss: 4.7764 - categorical_crossentropy: 4.7764 - categorical_accuracy: 0.0123 - accuracy: 0.0123 - val_loss: 4.7750 - val_categorical_crossentropy: 4.7750 - val_categorical_accuracy: 0.0127 - val_accuracy: 0.0127\n",
      "Epoch 30/100\n",
      "35/36 [============================>.] - ETA: 1s - loss: 4.7764 - categorical_crossentropy: 4.7764 - categorical_accuracy: 0.0127 - accuracy: 0.0127\n",
      "Epoch 00030: val_loss did not improve from 4.77496\n",
      "36/36 [==============================] - 49s 1s/step - loss: 4.7762 - categorical_crossentropy: 4.7762 - categorical_accuracy: 0.0125 - accuracy: 0.0125 - val_loss: 4.7750 - val_categorical_crossentropy: 4.7750 - val_categorical_accuracy: 0.0127 - val_accuracy: 0.0127\n",
      "Epoch 31/100\n",
      "35/36 [============================>.] - ETA: 1s - loss: 4.7760 - categorical_crossentropy: 4.7760 - categorical_accuracy: 0.0126 - accuracy: 0.0126\n",
      "Epoch 00031: val_loss did not improve from 4.77496\n",
      "36/36 [==============================] - 49s 1s/step - loss: 4.7762 - categorical_crossentropy: 4.7761 - categorical_accuracy: 0.0126 - accuracy: 0.0126 - val_loss: 4.7750 - val_categorical_crossentropy: 4.7750 - val_categorical_accuracy: 0.0127 - val_accuracy: 0.0127\n",
      "Epoch 32/100\n",
      "35/36 [============================>.] - ETA: 1s - loss: 4.7760 - categorical_crossentropy: 4.7760 - categorical_accuracy: 0.0121 - accuracy: 0.0121\n",
      "Epoch 00032: val_loss did not improve from 4.77496\n",
      "36/36 [==============================] - 48s 1s/step - loss: 4.7762 - categorical_crossentropy: 4.7762 - categorical_accuracy: 0.0123 - accuracy: 0.0123 - val_loss: 4.7750 - val_categorical_crossentropy: 4.7750 - val_categorical_accuracy: 0.0127 - val_accuracy: 0.0127\n",
      "Epoch 33/100\n",
      "35/36 [============================>.] - ETA: 1s - loss: 4.7757 - categorical_crossentropy: 4.7757 - categorical_accuracy: 0.0121 - accuracy: 0.0121\n",
      "Epoch 00033: val_loss did not improve from 4.77496\n",
      "36/36 [==============================] - 49s 1s/step - loss: 4.7758 - categorical_crossentropy: 4.7758 - categorical_accuracy: 0.0122 - accuracy: 0.0122 - val_loss: 4.7750 - val_categorical_crossentropy: 4.7750 - val_categorical_accuracy: 0.0127 - val_accuracy: 0.0127\n"
     ]
    },
    {
     "name": "stdout",
     "output_type": "stream",
     "text": [
      "Epoch 34/100\n",
      "35/36 [============================>.] - ETA: 1s - loss: 4.7763 - categorical_crossentropy: 4.7763 - categorical_accuracy: 0.0125 - accuracy: 0.0125\n",
      "Epoch 00034: val_loss did not improve from 4.77496\n",
      "36/36 [==============================] - 50s 1s/step - loss: 4.7762 - categorical_crossentropy: 4.7762 - categorical_accuracy: 0.0123 - accuracy: 0.0123 - val_loss: 4.7750 - val_categorical_crossentropy: 4.7750 - val_categorical_accuracy: 0.0127 - val_accuracy: 0.0127\n",
      "Epoch 35/100\n",
      "35/36 [============================>.] - ETA: 1s - loss: 4.7763 - categorical_crossentropy: 4.7763 - categorical_accuracy: 0.0126 - accuracy: 0.0126\n",
      "Epoch 00035: val_loss did not improve from 4.77496\n",
      "36/36 [==============================] - 49s 1s/step - loss: 4.7763 - categorical_crossentropy: 4.7763 - categorical_accuracy: 0.0124 - accuracy: 0.0124 - val_loss: 4.7750 - val_categorical_crossentropy: 4.7750 - val_categorical_accuracy: 0.0127 - val_accuracy: 0.0127\n",
      "Epoch 36/100\n",
      "35/36 [============================>.] - ETA: 1s - loss: 4.7760 - categorical_crossentropy: 4.7760 - categorical_accuracy: 0.0123 - accuracy: 0.0123\n",
      "Epoch 00036: val_loss did not improve from 4.77496\n",
      "36/36 [==============================] - 48s 1s/step - loss: 4.7759 - categorical_crossentropy: 4.7759 - categorical_accuracy: 0.0122 - accuracy: 0.0122 - val_loss: 4.7750 - val_categorical_crossentropy: 4.7750 - val_categorical_accuracy: 0.0127 - val_accuracy: 0.0127\n",
      "Epoch 37/100\n",
      "35/36 [============================>.] - ETA: 1s - loss: 4.7762 - categorical_crossentropy: 4.7762 - categorical_accuracy: 0.0130 - accuracy: 0.0130\n",
      "Epoch 00037: val_loss did not improve from 4.77496\n",
      "36/36 [==============================] - 49s 1s/step - loss: 4.7761 - categorical_crossentropy: 4.7761 - categorical_accuracy: 0.0127 - accuracy: 0.0127 - val_loss: 4.7750 - val_categorical_crossentropy: 4.7750 - val_categorical_accuracy: 0.0127 - val_accuracy: 0.0127\n",
      "Epoch 38/100\n",
      "35/36 [============================>.] - ETA: 1s - loss: 4.7761 - categorical_crossentropy: 4.7761 - categorical_accuracy: 0.0120 - accuracy: 0.0120\n",
      "Epoch 00038: val_loss did not improve from 4.77496\n",
      "36/36 [==============================] - 49s 1s/step - loss: 4.7763 - categorical_crossentropy: 4.7763 - categorical_accuracy: 0.0123 - accuracy: 0.0123 - val_loss: 4.7750 - val_categorical_crossentropy: 4.7750 - val_categorical_accuracy: 0.0127 - val_accuracy: 0.0127\n",
      "Epoch 39/100\n",
      "35/36 [============================>.] - ETA: 1s - loss: 4.7757 - categorical_crossentropy: 4.7757 - categorical_accuracy: 0.0119 - accuracy: 0.0119\n",
      "Epoch 00039: val_loss did not improve from 4.77496\n",
      "36/36 [==============================] - 50s 1s/step - loss: 4.7758 - categorical_crossentropy: 4.7758 - categorical_accuracy: 0.0123 - accuracy: 0.0123 - val_loss: 4.7750 - val_categorical_crossentropy: 4.7750 - val_categorical_accuracy: 0.0127 - val_accuracy: 0.0127\n",
      "Epoch 40/100\n",
      "35/36 [============================>.] - ETA: 1s - loss: 4.7763 - categorical_crossentropy: 4.7763 - categorical_accuracy: 0.0123 - accuracy: 0.0123\n",
      "Epoch 00040: val_loss did not improve from 4.77496\n",
      "Restoring model weights from the end of the best epoch.\n",
      "36/36 [==============================] - 49s 1s/step - loss: 4.7761 - categorical_crossentropy: 4.7761 - categorical_accuracy: 0.0123 - accuracy: 0.0123 - val_loss: 4.7750 - val_categorical_crossentropy: 4.7750 - val_categorical_accuracy: 0.0127 - val_accuracy: 0.0127\n",
      "Epoch 00040: early stopping\n"
     ]
    }
   ],
   "source": [
    "# Path to save model parameters\n",
    "weight_path_model_base ='model_custom2_fc.h5'\n",
    "# Path to write tensorboard\n",
    "tensorboard_path_model_base = 'Graphs/pattern_nn_custom2_fc'\n",
    "\n",
    "callbacks_list_model_base = [\n",
    "    TensorBoard(log_dir=tensorboard_path_model_base, histogram_freq=1, write_graph=True, write_grads=True),\n",
    "    ModelCheckpoint(\n",
    "            weight_path_model_base,\n",
    "            save_best_only=True,\n",
    "            save_weights_only=True,\n",
    "            monitor='val_loss',\n",
    "            mode='min',\n",
    "            verbose=1\n",
    "        ),\n",
    "    ReduceLROnPlateau(monitor='val_loss', factor=0.2, patience=4, min_lr=0.0000001),\n",
    "    EarlyStopping(\n",
    "        monitor='val_loss', \n",
    "        verbose=1,\n",
    "        patience=16,\n",
    "        mode='min',\n",
    "        restore_best_weights=True)\n",
    "\n",
    "]\n",
    "\n",
    "history_base = base_model.fit_generator(train_data_gen, epochs=EPOCHS, verbose=1, validation_data=val_data_gen,\n",
    "                                        callbacks=callbacks_list_model_base)"
   ]
  },
  {
   "cell_type": "markdown",
   "metadata": {},
   "source": [
    "## Train Logs"
   ]
  },
  {
   "cell_type": "code",
   "execution_count": 14,
   "metadata": {},
   "outputs": [
    {
     "name": "stdout",
     "output_type": "stream",
     "text": [
      "dict_keys(['loss', 'categorical_crossentropy', 'categorical_accuracy', 'accuracy', 'val_loss', 'val_categorical_crossentropy', 'val_categorical_accuracy', 'val_accuracy', 'lr'])\n"
     ]
    }
   ],
   "source": [
    "# What is tracked\n",
    "print(history_base.history.keys())"
   ]
  },
  {
   "cell_type": "code",
   "execution_count": 18,
   "metadata": {},
   "outputs": [
    {
     "data": {
      "image/png": "[encoded data removed]",
      "text/plain": [
       "<Figure size 432x288 with 1 Axes>"
      ]
     },
     "metadata": {
      "needs_background": "light"
     },
     "output_type": "display_data"
    },
    {
     "data": {
      "image/png": "[encoded data removed]",
      "text/plain": [
       "<Figure size 432x288 with 1 Axes>"
      ]
     },
     "metadata": {
      "needs_background": "light"
     },
     "output_type": "display_data"
    },
    {
     "data": {
      "image/png": "[encoded data removed]",
      "text/plain": [
       "<Figure size 432x288 with 1 Axes>"
      ]
     },
     "metadata": {
      "needs_background": "light"
     },
     "output_type": "display_data"
    }
   ],
   "source": [
    "train_loss = history_base.history['loss']\n",
    "train_acc = history_base.history['accuracy']\n",
    "val_loss = history_base.history['val_loss']\n",
    "val_acc = history_base.history['val_accuracy']\n",
    "learnrate = history_base.history['lr']\n",
    "\n",
    "plt.plot(train_loss, color='blue')\n",
    "plt.plot(val_loss, color='red')\n",
    "plt.title('Loss')\n",
    "plt.ylabel('loss')\n",
    "plt.xlabel('epoch')\n",
    "plt.show()\n",
    "\n",
    "plt.plot(train_acc, color='blue')\n",
    "plt.plot(val_acc, color='red')\n",
    "plt.title('Accuracy')\n",
    "plt.ylabel('accuracy')\n",
    "plt.xlabel('epoch')\n",
    "plt.show()\n",
    "\n",
    "plt.plot(learnrate, color='green')\n",
    "plt.title('Learning Rate')\n",
    "plt.ylabel('learning rate')\n",
    "plt.xlabel('epoch')\n",
    "plt.show()"
   ]
  },
  {
   "cell_type": "markdown",
   "metadata": {},
   "source": [
    "## Load class details"
   ]
  },
  {
   "cell_type": "code",
   "execution_count": 22,
   "metadata": {
    "scrolled": true
   },
   "outputs": [],
   "source": [
    "classes = train_data_gen.class_indices"
   ]
  },
  {
   "cell_type": "code",
   "execution_count": 20,
   "metadata": {
    "scrolled": true
   },
   "outputs": [],
   "source": [
    "inverted_classes = dict(map(reversed, classes.items()))"
   ]
  },
  {
   "cell_type": "code",
   "execution_count": 26,
   "metadata": {},
   "outputs": [],
   "source": [
    "class_list = [i for i in classes.keys()]"
   ]
  },
  {
   "cell_type": "markdown",
   "metadata": {},
   "source": [
    "## Load test data"
   ]
  },
  {
   "cell_type": "code",
   "execution_count": 23,
   "metadata": {},
   "outputs": [
    {
     "name": "stdout",
     "output_type": "stream",
     "text": [
      "Found 10357 images belonging to 1 classes.\n"
     ]
    }
   ],
   "source": [
    "test_image_generator = ImageDataGenerator(rescale=1./255)\n",
    "test_data_gen = test_image_generator.flow_from_directory(batch_size=BATCH_SIZE,\n",
    "                                                           directory=TEST_PATH,\n",
    "                                                           target_size=(IMG_HEIGHT, IMG_WIDTH),\n",
    "                                                           class_mode=None)"
   ]
  },
  {
   "cell_type": "markdown",
   "metadata": {},
   "source": [
    "## Run on test data"
   ]
  },
  {
   "cell_type": "code",
   "execution_count": 24,
   "metadata": {},
   "outputs": [
    {
     "name": "stdout",
     "output_type": "stream",
     "text": [
      "41/41 [==============================] - 49s 1s/step\n"
     ]
    }
   ],
   "source": [
    "test_result = base_model.predict_generator(test_data_gen, verbose=1)"
   ]
  },
  {
   "cell_type": "markdown",
   "metadata": {},
   "source": [
    "## Prepare data for csv"
   ]
  },
  {
   "cell_type": "code",
   "execution_count": 27,
   "metadata": {},
   "outputs": [],
   "source": [
    "filenames = [i[i.find('/')+1:i.rfind('.')] for i in test_data_gen.filenames]\n",
    "filenames_arr = np.array(filenames)[np.newaxis].T\n",
    "test_result_with_label = np.concatenate((filenames_arr, test_result), axis=1)\n",
    "csv_header = ['id'] + class_list"
   ]
  },
  {
   "cell_type": "markdown",
   "metadata": {},
   "source": [
    "## Export data to csv"
   ]
  },
  {
   "cell_type": "code",
   "execution_count": 28,
   "metadata": {},
   "outputs": [],
   "source": [
    "# Be aware that the file with the same name should not exist, or it will be overwrited.\n",
    "result_dataframe = pd.DataFrame(test_result_with_label, columns=csv_header)\n",
    "result_dataframe.to_csv('./result_custom2_fc.csv', index=False)"
   ]
  },
  {
   "cell_type": "code",
   "execution_count": 15,
   "metadata": {},
   "outputs": [
    {
     "name": "stdout",
     "output_type": "stream",
     "text": [
      "Downloading data from https://github.com/fchollet/deep-learning-models/releases/download/v0.1/vgg19_weights_tf_dim_ordering_tf_kernels_notop.h5\n",
      "80142336/80134624 [==============================] - 6s 0us/step\n"
     ]
    }
   ],
   "source": [
    "from tensorflow.keras.applications import VGG19\n",
    "\n",
    "vgg19 = VGG19(input_shape=(IMG_HEIGHT,IMG_WIDTH,3), include_top=False, weights='imagenet')"
   ]
  },
  {
   "cell_type": "code",
   "execution_count": 16,
   "metadata": {},
   "outputs": [
    {
     "name": "stdout",
     "output_type": "stream",
     "text": [
      "Model: \"vgg19\"\n",
      "_________________________________________________________________\n",
      "Layer (type)                 Output Shape              Param #   \n",
      "=================================================================\n",
      "input_3 (InputLayer)         [(None, 224, 224, 3)]     0         \n",
      "_________________________________________________________________\n",
      "block1_conv1 (Conv2D)        (None, 224, 224, 64)      1792      \n",
      "_________________________________________________________________\n",
      "block1_conv2 (Conv2D)        (None, 224, 224, 64)      36928     \n",
      "_________________________________________________________________\n",
      "block1_pool (MaxPooling2D)   (None, 112, 112, 64)      0         \n",
      "_________________________________________________________________\n",
      "block2_conv1 (Conv2D)        (None, 112, 112, 128)     73856     \n",
      "_________________________________________________________________\n",
      "block2_conv2 (Conv2D)        (None, 112, 112, 128)     147584    \n",
      "_________________________________________________________________\n",
      "block2_pool (MaxPooling2D)   (None, 56, 56, 128)       0         \n",
      "_________________________________________________________________\n",
      "block3_conv1 (Conv2D)        (None, 56, 56, 256)       295168    \n",
      "_________________________________________________________________\n",
      "block3_conv2 (Conv2D)        (None, 56, 56, 256)       590080    \n",
      "_________________________________________________________________\n",
      "block3_conv3 (Conv2D)        (None, 56, 56, 256)       590080    \n",
      "_________________________________________________________________\n",
      "block3_conv4 (Conv2D)        (None, 56, 56, 256)       590080    \n",
      "_________________________________________________________________\n",
      "block3_pool (MaxPooling2D)   (None, 28, 28, 256)       0         \n",
      "_________________________________________________________________\n",
      "block4_conv1 (Conv2D)        (None, 28, 28, 512)       1180160   \n",
      "_________________________________________________________________\n",
      "block4_conv2 (Conv2D)        (None, 28, 28, 512)       2359808   \n",
      "_________________________________________________________________\n",
      "block4_conv3 (Conv2D)        (None, 28, 28, 512)       2359808   \n",
      "_________________________________________________________________\n",
      "block4_conv4 (Conv2D)        (None, 28, 28, 512)       2359808   \n",
      "_________________________________________________________________\n",
      "block4_pool (MaxPooling2D)   (None, 14, 14, 512)       0         \n",
      "_________________________________________________________________\n",
      "block5_conv1 (Conv2D)        (None, 14, 14, 512)       2359808   \n",
      "_________________________________________________________________\n",
      "block5_conv2 (Conv2D)        (None, 14, 14, 512)       2359808   \n",
      "_________________________________________________________________\n",
      "block5_conv3 (Conv2D)        (None, 14, 14, 512)       2359808   \n",
      "_________________________________________________________________\n",
      "block5_conv4 (Conv2D)        (None, 14, 14, 512)       2359808   \n",
      "_________________________________________________________________\n",
      "block5_pool (MaxPooling2D)   (None, 7, 7, 512)         0         \n",
      "=================================================================\n",
      "Total params: 20,024,384\n",
      "Trainable params: 20,024,384\n",
      "Non-trainable params: 0\n",
      "_________________________________________________________________\n"
     ]
    }
   ],
   "source": [
    "vgg19.summary()"
   ]
  }
 ],
 "metadata": {
  "kernelspec": {
   "display_name": "Python 3",
   "language": "python",
   "name": "python3"
  },
  "language_info": {
   "codemirror_mode": {
    "name": "ipython",
    "version": 3
   },
   "file_extension": ".py",
   "mimetype": "text/x-python",
   "name": "python",
   "nbconvert_exporter": "python",
   "pygments_lexer": "ipython3",
   "version": "3.7.4"
  }
 },
 "nbformat": 4,
 "nbformat_minor": 4
}
