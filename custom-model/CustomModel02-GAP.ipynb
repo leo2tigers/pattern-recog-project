{
 "cells": [
  {
   "cell_type": "markdown",
   "metadata": {},
   "source": [
    "## Load Tensorboard"
   ]
  },
  {
   "cell_type": "code",
   "execution_count": 1,
   "metadata": {},
   "outputs": [],
   "source": [
    "%load_ext tensorboard"
   ]
  },
  {
   "cell_type": "markdown",
   "metadata": {},
   "source": [
    "## Import Libraries"
   ]
  },
  {
   "cell_type": "code",
   "execution_count": 2,
   "metadata": {},
   "outputs": [],
   "source": [
    "import os\n",
    "import numpy as np\n",
    "import pickle\n",
    "import pandas as pd\n",
    "import matplotlib.pyplot as plt\n",
    "import urllib\n",
    "from sklearn import preprocessing\n",
    "from sklearn.model_selection import train_test_split, StratifiedShuffleSplit, StratifiedKFold\n",
    "\n",
    "import tensorflow as tf\n",
    "from tensorflow.keras.models import load_model, Model\n",
    "from tensorflow.keras.preprocessing.image import ImageDataGenerator\n",
    "from tensorflow.keras.layers import Dense, Conv2D, MaxPooling2D, Flatten, Input, Dropout, GlobalAveragePooling2D\n",
    "from tensorflow.keras.callbacks import ModelCheckpoint, TensorBoard, ReduceLROnPlateau, EarlyStopping"
   ]
  },
  {
   "cell_type": "markdown",
   "metadata": {},
   "source": [
    "## Initialize Tensorflow"
   ]
  },
  {
   "cell_type": "code",
   "execution_count": 3,
   "metadata": {},
   "outputs": [],
   "source": [
    "from tensorflow.keras import backend as K\n",
    "K.clear_session()"
   ]
  },
  {
   "cell_type": "markdown",
   "metadata": {},
   "source": [
    "## Load Data"
   ]
  },
  {
   "cell_type": "code",
   "execution_count": 4,
   "metadata": {},
   "outputs": [],
   "source": [
    "data = pd.read_csv(\"../labels.csv\")\n",
    "imgs = [\"{}.jpg\".format(x) for x in list(data.id)]\n",
    "img_label = list(data['breed'])\n",
    "\n",
    "# Split data into train and validation set equally\n",
    "b_sp = StratifiedShuffleSplit(1, 0.1)\n",
    "imgs = np.array(imgs)\n",
    "img_label = np.array(img_label)\n",
    "for train_idx, val_idx in b_sp.split(imgs, img_label):\n",
    "    train_x = imgs[train_idx]\n",
    "    train_y = img_label[train_idx]\n",
    "    val_x = imgs[val_idx]\n",
    "    val_y = img_label[val_idx]\n",
    "\n",
    "train_y = train_y.astype(str)\n",
    "val_y = val_y.astype(str)\n",
    "train_data = pd.DataFrame({'id': train_x,'breed': train_y})\n",
    "val_data = pd.DataFrame({'id': val_x,'breed': val_y})"
   ]
  },
  {
   "cell_type": "code",
   "execution_count": 5,
   "metadata": {},
   "outputs": [],
   "source": [
    "BATCH_SIZE = 256\n",
    "\n",
    "# Number of epochs for training\n",
    "EPOCHS = 100\n",
    "\n",
    "# The original image will be resized to the size specified below.\n",
    "IMG_HEIGHT = 224\n",
    "IMG_WIDTH = 224\n",
    "\n",
    "# Path to image for training\n",
    "TRAIN_PATH = '../img/train/'\n",
    "TEST_PATH = '../img/test/'"
   ]
  },
  {
   "cell_type": "markdown",
   "metadata": {},
   "source": [
    "## Preprocess Image"
   ]
  },
  {
   "cell_type": "code",
   "execution_count": 6,
   "metadata": {},
   "outputs": [],
   "source": [
    "# For train image generator, more params may be added to generate augmented image.\n",
    "train_image_generator = ImageDataGenerator(rescale=1./255)\n",
    "val_image_generator = ImageDataGenerator(rescale=1./255)"
   ]
  },
  {
   "cell_type": "code",
   "execution_count": 7,
   "metadata": {},
   "outputs": [
    {
     "name": "stdout",
     "output_type": "stream",
     "text": [
      "Found 9199 validated image filenames belonging to 120 classes.\n",
      "Found 1023 validated image filenames belonging to 120 classes.\n"
     ]
    }
   ],
   "source": [
    "train_data_gen = train_image_generator.flow_from_dataframe(\n",
    "                                        dataframe = train_data,\n",
    "                                        directory=TRAIN_PATH,x_col=\"id\",\n",
    "                                        y_col=\"breed\",\n",
    "                                        class_mode=\"categorical\",\n",
    "                                        target_size=(IMG_HEIGHT,IMG_WIDTH),\n",
    "                                        batch_size=BATCH_SIZE,\n",
    "                                        shuffle=True)\n",
    "val_data_gen = val_image_generator.flow_from_dataframe(\n",
    "                                        dataframe = val_data,\n",
    "                                        directory=TRAIN_PATH,x_col=\"id\",\n",
    "                                        y_col=\"breed\",\n",
    "                                        class_mode=\"categorical\",\n",
    "                                        target_size=(IMG_HEIGHT,IMG_WIDTH),\n",
    "                                        batch_size=BATCH_SIZE)"
   ]
  },
  {
   "cell_type": "code",
   "execution_count": 8,
   "metadata": {},
   "outputs": [],
   "source": [
    "# For checking of class distribution in train and validation set\n",
    "# If unused, leave this commented to reduce output on your screen.\n",
    "\n",
    "# breedcnt = dict()\n",
    "# breedcntval = dict()\n",
    "# for i in train_data['breed']:\n",
    "#     try:\n",
    "#         breedcnt[i] += 1\n",
    "#     except:\n",
    "#         breedcnt[i] = 1\n",
    "        \n",
    "# for i in val_data['breed']:\n",
    "#     try:\n",
    "#         breedcntval[i] += 1\n",
    "#     except:\n",
    "#         breedcntval[i] = 1\n",
    "        \n",
    "# for i in breedcnt.keys():\n",
    "#     print(i, \" : \", breedcnt[i], \" | \", breedcntval[i])"
   ]
  },
  {
   "cell_type": "markdown",
   "metadata": {},
   "source": [
    "## Define Model"
   ]
  },
  {
   "cell_type": "code",
   "execution_count": 9,
   "metadata": {},
   "outputs": [],
   "source": [
    "# Define you model here\n",
    "# The model provided is just placeholder\n",
    "# Do not modify the input shape and the output layer\n",
    "def get_base_model():\n",
    "    input1 = Input(shape=(IMG_HEIGHT,IMG_WIDTH, 3))\n",
    "    x = Conv2D(32, kernel_size=3, activation='relu', input_shape=(IMG_HEIGHT,IMG_WIDTH,3))(input1)\n",
    "    x = Conv2D(32, kernel_size=3, activation='relu')(x)\n",
    "    x = MaxPooling2D(2)(x)\n",
    "    x = Conv2D(64, kernel_size=3, activation='relu')(x)\n",
    "    x = Conv2D(64, kernel_size=3, activation='relu')(x)\n",
    "    x = MaxPooling2D(2)(x)\n",
    "    x = Conv2D(128, kernel_size=3, activation='relu')(x)\n",
    "    x = Conv2D(128, kernel_size=3, activation='relu')(x)\n",
    "    x = MaxPooling2D(2)(x)\n",
    "    x = Conv2D(256, kernel_size=3, activation='relu')(x)\n",
    "    x = Conv2D(256, kernel_size=3, activation='relu')(x)\n",
    "    x = MaxPooling2D(2)(x)\n",
    "    x = Conv2D(512, kernel_size=3, activation='relu')(x)\n",
    "    x = Conv2D(512, kernel_size=3, activation='relu')(x)\n",
    "    x = MaxPooling2D(2)(x)\n",
    "    x = GlobalAveragePooling2D()(x)\n",
    "    out = Dense(120, activation='softmax')(x)\n",
    "    \n",
    "    model = Model(inputs=input1, outputs=out)\n",
    "    model.compile(optimizer='adam', loss='categorical_crossentropy',\n",
    "                  metrics=['categorical_crossentropy','categorical_accuracy','accuracy'])\n",
    "    \n",
    "    return model"
   ]
  },
  {
   "cell_type": "code",
   "execution_count": 10,
   "metadata": {},
   "outputs": [],
   "source": [
    "base_model = get_base_model()"
   ]
  },
  {
   "cell_type": "code",
   "execution_count": 11,
   "metadata": {},
   "outputs": [
    {
     "name": "stdout",
     "output_type": "stream",
     "text": [
      "Model: \"model\"\n",
      "_________________________________________________________________\n",
      "Layer (type)                 Output Shape              Param #   \n",
      "=================================================================\n",
      "input_1 (InputLayer)         [(None, 224, 224, 3)]     0         \n",
      "_________________________________________________________________\n",
      "conv2d (Conv2D)              (None, 222, 222, 32)      896       \n",
      "_________________________________________________________________\n",
      "conv2d_1 (Conv2D)            (None, 220, 220, 32)      9248      \n",
      "_________________________________________________________________\n",
      "max_pooling2d (MaxPooling2D) (None, 110, 110, 32)      0         \n",
      "_________________________________________________________________\n",
      "conv2d_2 (Conv2D)            (None, 108, 108, 64)      18496     \n",
      "_________________________________________________________________\n",
      "conv2d_3 (Conv2D)            (None, 106, 106, 64)      36928     \n",
      "_________________________________________________________________\n",
      "max_pooling2d_1 (MaxPooling2 (None, 53, 53, 64)        0         \n",
      "_________________________________________________________________\n",
      "conv2d_4 (Conv2D)            (None, 51, 51, 128)       73856     \n",
      "_________________________________________________________________\n",
      "conv2d_5 (Conv2D)            (None, 49, 49, 128)       147584    \n",
      "_________________________________________________________________\n",
      "max_pooling2d_2 (MaxPooling2 (None, 24, 24, 128)       0         \n",
      "_________________________________________________________________\n",
      "conv2d_6 (Conv2D)            (None, 22, 22, 256)       295168    \n",
      "_________________________________________________________________\n",
      "conv2d_7 (Conv2D)            (None, 20, 20, 256)       590080    \n",
      "_________________________________________________________________\n",
      "max_pooling2d_3 (MaxPooling2 (None, 10, 10, 256)       0         \n",
      "_________________________________________________________________\n",
      "conv2d_8 (Conv2D)            (None, 8, 8, 512)         1180160   \n",
      "_________________________________________________________________\n",
      "conv2d_9 (Conv2D)            (None, 6, 6, 512)         2359808   \n",
      "_________________________________________________________________\n",
      "max_pooling2d_4 (MaxPooling2 (None, 3, 3, 512)         0         \n",
      "_________________________________________________________________\n",
      "global_average_pooling2d (Gl (None, 512)               0         \n",
      "_________________________________________________________________\n",
      "dense (Dense)                (None, 120)               61560     \n",
      "=================================================================\n",
      "Total params: 4,773,784\n",
      "Trainable params: 4,773,784\n",
      "Non-trainable params: 0\n",
      "_________________________________________________________________\n"
     ]
    }
   ],
   "source": [
    "# Total parmas should not exceed 120M or the VM may crash\n",
    "base_model.summary()"
   ]
  },
  {
   "cell_type": "markdown",
   "metadata": {},
   "source": [
    "## Train the model"
   ]
  },
  {
   "cell_type": "code",
   "execution_count": 12,
   "metadata": {
    "scrolled": true
   },
   "outputs": [
    {
     "name": "stdout",
     "output_type": "stream",
     "text": [
      "WARNING:tensorflow:`write_grads` will be ignored in TensorFlow 2.0 for the `TensorBoard` Callback.\n",
      "Epoch 1/100\n",
      "35/36 [============================>.] - ETA: 1s - loss: 4.7924 - categorical_crossentropy: 4.7924 - categorical_accuracy: 0.0094 - accuracy: 0.0094\n",
      "Epoch 00001: val_loss improved from inf to 4.78484, saving model to model_custom2_gap.h5\n",
      "36/36 [==============================] - 54s 2s/step - loss: 4.7922 - categorical_crossentropy: 4.7922 - categorical_accuracy: 0.0096 - accuracy: 0.0096 - val_loss: 4.7848 - val_categorical_crossentropy: 4.7848 - val_categorical_accuracy: 0.0117 - val_accuracy: 0.0117\n",
      "Epoch 2/100\n",
      "35/36 [============================>.] - ETA: 1s - loss: 4.7823 - categorical_crossentropy: 4.7823 - categorical_accuracy: 0.0103 - accuracy: 0.0103\n",
      "Epoch 00002: val_loss improved from 4.78484 to 4.78395, saving model to model_custom2_gap.h5\n",
      "36/36 [==============================] - 48s 1s/step - loss: 4.7825 - categorical_crossentropy: 4.7825 - categorical_accuracy: 0.0103 - accuracy: 0.0103 - val_loss: 4.7839 - val_categorical_crossentropy: 4.7839 - val_categorical_accuracy: 0.0127 - val_accuracy: 0.0127\n",
      "Epoch 3/100\n",
      "35/36 [============================>.] - ETA: 1s - loss: 4.7801 - categorical_crossentropy: 4.7800 - categorical_accuracy: 0.0113 - accuracy: 0.0113\n",
      "Epoch 00003: val_loss improved from 4.78395 to 4.77291, saving model to model_custom2_gap.h5\n",
      "36/36 [==============================] - 50s 1s/step - loss: 4.7804 - categorical_crossentropy: 4.7804 - categorical_accuracy: 0.0113 - accuracy: 0.0113 - val_loss: 4.7729 - val_categorical_crossentropy: 4.7729 - val_categorical_accuracy: 0.0127 - val_accuracy: 0.0127\n",
      "Epoch 4/100\n",
      "35/36 [============================>.] - ETA: 1s - loss: 4.7780 - categorical_crossentropy: 4.7780 - categorical_accuracy: 0.0112 - accuracy: 0.0112\n",
      "Epoch 00004: val_loss improved from 4.77291 to 4.76834, saving model to model_custom2_gap.h5\n",
      "36/36 [==============================] - 49s 1s/step - loss: 4.7777 - categorical_crossentropy: 4.7777 - categorical_accuracy: 0.0111 - accuracy: 0.0111 - val_loss: 4.7683 - val_categorical_crossentropy: 4.7683 - val_categorical_accuracy: 0.0117 - val_accuracy: 0.0117\n",
      "Epoch 5/100\n",
      "35/36 [============================>.] - ETA: 1s - loss: 4.7502 - categorical_crossentropy: 4.7502 - categorical_accuracy: 0.0158 - accuracy: 0.0158\n",
      "Epoch 00005: val_loss improved from 4.76834 to 4.70825, saving model to model_custom2_gap.h5\n",
      "36/36 [==============================] - 50s 1s/step - loss: 4.7495 - categorical_crossentropy: 4.7495 - categorical_accuracy: 0.0157 - accuracy: 0.0157 - val_loss: 4.7083 - val_categorical_crossentropy: 4.7082 - val_categorical_accuracy: 0.0156 - val_accuracy: 0.0156\n",
      "Epoch 6/100\n",
      "35/36 [============================>.] - ETA: 1s - loss: 4.6619 - categorical_crossentropy: 4.6619 - categorical_accuracy: 0.0208 - accuracy: 0.0208\n",
      "Epoch 00006: val_loss improved from 4.70825 to 4.57959, saving model to model_custom2_gap.h5\n",
      "36/36 [==============================] - 48s 1s/step - loss: 4.6600 - categorical_crossentropy: 4.6599 - categorical_accuracy: 0.0208 - accuracy: 0.0208 - val_loss: 4.5796 - val_categorical_crossentropy: 4.5796 - val_categorical_accuracy: 0.0264 - val_accuracy: 0.0264\n",
      "Epoch 7/100\n",
      "35/36 [============================>.] - ETA: 1s - loss: 4.5691 - categorical_crossentropy: 4.5691 - categorical_accuracy: 0.0250 - accuracy: 0.0250\n",
      "Epoch 00007: val_loss improved from 4.57959 to 4.49708, saving model to model_custom2_gap.h5\n",
      "36/36 [==============================] - 49s 1s/step - loss: 4.5667 - categorical_crossentropy: 4.5667 - categorical_accuracy: 0.0253 - accuracy: 0.0253 - val_loss: 4.4971 - val_categorical_crossentropy: 4.4970 - val_categorical_accuracy: 0.0332 - val_accuracy: 0.0332\n",
      "Epoch 8/100\n",
      "35/36 [============================>.] - ETA: 1s - loss: 4.4742 - categorical_crossentropy: 4.4742 - categorical_accuracy: 0.0305 - accuracy: 0.0305\n",
      "Epoch 00008: val_loss improved from 4.49708 to 4.44340, saving model to model_custom2_gap.h5\n",
      "36/36 [==============================] - 50s 1s/step - loss: 4.4743 - categorical_crossentropy: 4.4743 - categorical_accuracy: 0.0308 - accuracy: 0.0308 - val_loss: 4.4434 - val_categorical_crossentropy: 4.4435 - val_categorical_accuracy: 0.0352 - val_accuracy: 0.0352\n",
      "Epoch 9/100\n",
      "35/36 [============================>.] - ETA: 1s - loss: 4.4074 - categorical_crossentropy: 4.4074 - categorical_accuracy: 0.0394 - accuracy: 0.0394\n",
      "Epoch 00009: val_loss improved from 4.44340 to 4.38767, saving model to model_custom2_gap.h5\n",
      "36/36 [==============================] - 48s 1s/step - loss: 4.4070 - categorical_crossentropy: 4.4070 - categorical_accuracy: 0.0390 - accuracy: 0.0390 - val_loss: 4.3877 - val_categorical_crossentropy: 4.3876 - val_categorical_accuracy: 0.0518 - val_accuracy: 0.0518\n",
      "Epoch 10/100\n",
      "35/36 [============================>.] - ETA: 1s - loss: 4.3207 - categorical_crossentropy: 4.3204 - categorical_accuracy: 0.0496 - accuracy: 0.0496\n",
      "Epoch 00010: val_loss improved from 4.38767 to 4.28747, saving model to model_custom2_gap.h5\n",
      "36/36 [==============================] - 48s 1s/step - loss: 4.3196 - categorical_crossentropy: 4.3193 - categorical_accuracy: 0.0496 - accuracy: 0.0496 - val_loss: 4.2875 - val_categorical_crossentropy: 4.2875 - val_categorical_accuracy: 0.0587 - val_accuracy: 0.0587\n",
      "Epoch 11/100\n",
      "35/36 [============================>.] - ETA: 1s - loss: 4.2250 - categorical_crossentropy: 4.2250 - categorical_accuracy: 0.0596 - accuracy: 0.0596\n",
      "Epoch 00011: val_loss improved from 4.28747 to 4.22275, saving model to model_custom2_gap.h5\n",
      "36/36 [==============================] - 50s 1s/step - loss: 4.2246 - categorical_crossentropy: 4.2246 - categorical_accuracy: 0.0598 - accuracy: 0.0598 - val_loss: 4.2228 - val_categorical_crossentropy: 4.2227 - val_categorical_accuracy: 0.0577 - val_accuracy: 0.0577\n",
      "Epoch 12/100\n",
      "35/36 [============================>.] - ETA: 1s - loss: 4.1369 - categorical_crossentropy: 4.1370 - categorical_accuracy: 0.0716 - accuracy: 0.0716\n",
      "Epoch 00012: val_loss improved from 4.22275 to 4.21381, saving model to model_custom2_gap.h5\n",
      "36/36 [==============================] - 48s 1s/step - loss: 4.1348 - categorical_crossentropy: 4.1349 - categorical_accuracy: 0.0714 - accuracy: 0.0714 - val_loss: 4.2138 - val_categorical_crossentropy: 4.2138 - val_categorical_accuracy: 0.0547 - val_accuracy: 0.0547\n",
      "Epoch 13/100\n",
      "35/36 [============================>.] - ETA: 1s - loss: 4.0487 - categorical_crossentropy: 4.0487 - categorical_accuracy: 0.0836 - accuracy: 0.0836\n",
      "Epoch 00013: val_loss improved from 4.21381 to 4.14192, saving model to model_custom2_gap.h5\n",
      "36/36 [==============================] - 50s 1s/step - loss: 4.0472 - categorical_crossentropy: 4.0473 - categorical_accuracy: 0.0837 - accuracy: 0.0837 - val_loss: 4.1419 - val_categorical_crossentropy: 4.1420 - val_categorical_accuracy: 0.0753 - val_accuracy: 0.0753\n",
      "Epoch 14/100\n",
      "35/36 [============================>.] - ETA: 1s - loss: 3.9769 - categorical_crossentropy: 3.9772 - categorical_accuracy: 0.0900 - accuracy: 0.0900\n",
      "Epoch 00014: val_loss improved from 4.14192 to 4.12189, saving model to model_custom2_gap.h5\n",
      "36/36 [==============================] - 49s 1s/step - loss: 3.9755 - categorical_crossentropy: 3.9757 - categorical_accuracy: 0.0899 - accuracy: 0.0899 - val_loss: 4.1219 - val_categorical_crossentropy: 4.1219 - val_categorical_accuracy: 0.0772 - val_accuracy: 0.0772\n",
      "Epoch 15/100\n",
      "35/36 [============================>.] - ETA: 1s - loss: 3.8667 - categorical_crossentropy: 3.8664 - categorical_accuracy: 0.1095 - accuracy: 0.1095\n",
      "Epoch 00015: val_loss did not improve from 4.12189\n",
      "36/36 [==============================] - 47s 1s/step - loss: 3.8629 - categorical_crossentropy: 3.8626 - categorical_accuracy: 0.1097 - accuracy: 0.1097 - val_loss: 4.1288 - val_categorical_crossentropy: 4.1288 - val_categorical_accuracy: 0.0821 - val_accuracy: 0.0821\n",
      "Epoch 16/100\n",
      "35/36 [============================>.] - ETA: 1s - loss: 3.7484 - categorical_crossentropy: 3.7485 - categorical_accuracy: 0.1265 - accuracy: 0.1265\n",
      "Epoch 00016: val_loss improved from 4.12189 to 4.09085, saving model to model_custom2_gap.h5\n",
      "36/36 [==============================] - 50s 1s/step - loss: 3.7513 - categorical_crossentropy: 3.7514 - categorical_accuracy: 0.1264 - accuracy: 0.1264 - val_loss: 4.0909 - val_categorical_crossentropy: 4.0907 - val_categorical_accuracy: 0.0802 - val_accuracy: 0.0802\n"
     ]
    },
    {
     "name": "stdout",
     "output_type": "stream",
     "text": [
      "Epoch 17/100\n",
      "35/36 [============================>.] - ETA: 1s - loss: 3.6482 - categorical_crossentropy: 3.6482 - categorical_accuracy: 0.1447 - accuracy: 0.1447\n",
      "Epoch 00017: val_loss did not improve from 4.09085\n",
      "36/36 [==============================] - 49s 1s/step - loss: 3.6492 - categorical_crossentropy: 3.6492 - categorical_accuracy: 0.1449 - accuracy: 0.1449 - val_loss: 4.0937 - val_categorical_crossentropy: 4.0936 - val_categorical_accuracy: 0.0909 - val_accuracy: 0.0909\n",
      "Epoch 18/100\n",
      "35/36 [============================>.] - ETA: 1s - loss: 3.4980 - categorical_crossentropy: 3.4982 - categorical_accuracy: 0.1726 - accuracy: 0.1726\n",
      "Epoch 00018: val_loss did not improve from 4.09085\n",
      "36/36 [==============================] - 48s 1s/step - loss: 3.5012 - categorical_crossentropy: 3.5014 - categorical_accuracy: 0.1726 - accuracy: 0.1726 - val_loss: 4.1709 - val_categorical_crossentropy: 4.1708 - val_categorical_accuracy: 0.0850 - val_accuracy: 0.0850\n",
      "Epoch 19/100\n",
      "35/36 [============================>.] - ETA: 1s - loss: 3.3370 - categorical_crossentropy: 3.3377 - categorical_accuracy: 0.2055 - accuracy: 0.2055\n",
      "Epoch 00019: val_loss did not improve from 4.09085\n",
      "36/36 [==============================] - 48s 1s/step - loss: 3.3395 - categorical_crossentropy: 3.3402 - categorical_accuracy: 0.2044 - accuracy: 0.2044 - val_loss: 4.1998 - val_categorical_crossentropy: 4.1998 - val_categorical_accuracy: 0.0919 - val_accuracy: 0.0919\n",
      "Epoch 20/100\n",
      "35/36 [============================>.] - ETA: 1s - loss: 3.1538 - categorical_crossentropy: 3.1538 - categorical_accuracy: 0.2365 - accuracy: 0.2365\n",
      "Epoch 00020: val_loss did not improve from 4.09085\n",
      "36/36 [==============================] - 49s 1s/step - loss: 3.1536 - categorical_crossentropy: 3.1536 - categorical_accuracy: 0.2360 - accuracy: 0.2360 - val_loss: 4.3083 - val_categorical_crossentropy: 4.3084 - val_categorical_accuracy: 0.0978 - val_accuracy: 0.0978\n",
      "Epoch 21/100\n",
      "35/36 [============================>.] - ETA: 1s - loss: 2.6721 - categorical_crossentropy: 2.6717 - categorical_accuracy: 0.3394 - accuracy: 0.3394\n",
      "Epoch 00021: val_loss did not improve from 4.09085\n",
      "36/36 [==============================] - 50s 1s/step - loss: 2.6713 - categorical_crossentropy: 2.6710 - categorical_accuracy: 0.3400 - accuracy: 0.3400 - val_loss: 4.5495 - val_categorical_crossentropy: 4.5496 - val_categorical_accuracy: 0.0929 - val_accuracy: 0.0929\n",
      "Epoch 22/100\n",
      "35/36 [============================>.] - ETA: 1s - loss: 2.4231 - categorical_crossentropy: 2.4230 - categorical_accuracy: 0.3963 - accuracy: 0.3963\n",
      "Epoch 00022: val_loss did not improve from 4.09085\n",
      "36/36 [==============================] - 48s 1s/step - loss: 2.4257 - categorical_crossentropy: 2.4257 - categorical_accuracy: 0.3959 - accuracy: 0.3959 - val_loss: 4.7116 - val_categorical_crossentropy: 4.7117 - val_categorical_accuracy: 0.0948 - val_accuracy: 0.0948\n",
      "Epoch 23/100\n",
      "35/36 [============================>.] - ETA: 1s - loss: 2.2548 - categorical_crossentropy: 2.2546 - categorical_accuracy: 0.4307 - accuracy: 0.4307\n",
      "Epoch 00023: val_loss did not improve from 4.09085\n",
      "36/36 [==============================] - 50s 1s/step - loss: 2.2578 - categorical_crossentropy: 2.2576 - categorical_accuracy: 0.4302 - accuracy: 0.4302 - val_loss: 5.0023 - val_categorical_crossentropy: 5.0022 - val_categorical_accuracy: 0.0890 - val_accuracy: 0.0890\n",
      "Epoch 24/100\n",
      "35/36 [============================>.] - ETA: 1s - loss: 2.0953 - categorical_crossentropy: 2.0953 - categorical_accuracy: 0.4686 - accuracy: 0.4686\n",
      "Epoch 00024: val_loss did not improve from 4.09085\n",
      "36/36 [==============================] - 49s 1s/step - loss: 2.0969 - categorical_crossentropy: 2.0969 - categorical_accuracy: 0.4689 - accuracy: 0.4689 - val_loss: 5.1571 - val_categorical_crossentropy: 5.1571 - val_categorical_accuracy: 0.0909 - val_accuracy: 0.0909\n",
      "Epoch 25/100\n",
      "35/36 [============================>.] - ETA: 1s - loss: 1.8590 - categorical_crossentropy: 1.8588 - categorical_accuracy: 0.5319 - accuracy: 0.5319\n",
      "Epoch 00025: val_loss did not improve from 4.09085\n",
      "36/36 [==============================] - 49s 1s/step - loss: 1.8572 - categorical_crossentropy: 1.8570 - categorical_accuracy: 0.5331 - accuracy: 0.5331 - val_loss: 5.4693 - val_categorical_crossentropy: 5.4697 - val_categorical_accuracy: 0.0890 - val_accuracy: 0.0890\n",
      "Epoch 26/100\n",
      "35/36 [============================>.] - ETA: 1s - loss: 1.7719 - categorical_crossentropy: 1.7718 - categorical_accuracy: 0.5544 - accuracy: 0.5544\n",
      "Epoch 00026: val_loss did not improve from 4.09085\n",
      "36/36 [==============================] - 50s 1s/step - loss: 1.7668 - categorical_crossentropy: 1.7668 - categorical_accuracy: 0.5559 - accuracy: 0.5559 - val_loss: 5.5593 - val_categorical_crossentropy: 5.5595 - val_categorical_accuracy: 0.0880 - val_accuracy: 0.0880\n",
      "Epoch 27/100\n",
      "35/36 [============================>.] - ETA: 1s - loss: 1.7146 - categorical_crossentropy: 1.7150 - categorical_accuracy: 0.5660 - accuracy: 0.5660\n",
      "Epoch 00027: val_loss did not improve from 4.09085\n",
      "36/36 [==============================] - 49s 1s/step - loss: 1.7131 - categorical_crossentropy: 1.7135 - categorical_accuracy: 0.5667 - accuracy: 0.5667 - val_loss: 5.7387 - val_categorical_crossentropy: 5.7387 - val_categorical_accuracy: 0.0899 - val_accuracy: 0.0899\n",
      "Epoch 28/100\n",
      "35/36 [============================>.] - ETA: 1s - loss: 1.6605 - categorical_crossentropy: 1.6607 - categorical_accuracy: 0.5816 - accuracy: 0.5816\n",
      "Epoch 00028: val_loss did not improve from 4.09085\n",
      "36/36 [==============================] - 48s 1s/step - loss: 1.6620 - categorical_crossentropy: 1.6622 - categorical_accuracy: 0.5806 - accuracy: 0.5806 - val_loss: 5.7971 - val_categorical_crossentropy: 5.7970 - val_categorical_accuracy: 0.0880 - val_accuracy: 0.0880\n",
      "Epoch 29/100\n",
      "35/36 [============================>.] - ETA: 1s - loss: 1.6020 - categorical_crossentropy: 1.6020 - categorical_accuracy: 0.5976 - accuracy: 0.5976\n",
      "Epoch 00029: val_loss did not improve from 4.09085\n",
      "36/36 [==============================] - 50s 1s/step - loss: 1.5954 - categorical_crossentropy: 1.5954 - categorical_accuracy: 0.5993 - accuracy: 0.5993 - val_loss: 5.8532 - val_categorical_crossentropy: 5.8533 - val_categorical_accuracy: 0.0929 - val_accuracy: 0.0929\n",
      "Epoch 30/100\n",
      "35/36 [============================>.] - ETA: 1s - loss: 1.5799 - categorical_crossentropy: 1.5800 - categorical_accuracy: 0.6035 - accuracy: 0.6035\n",
      "Epoch 00030: val_loss did not improve from 4.09085\n",
      "36/36 [==============================] - 49s 1s/step - loss: 1.5802 - categorical_crossentropy: 1.5803 - categorical_accuracy: 0.6040 - accuracy: 0.6040 - val_loss: 5.8831 - val_categorical_crossentropy: 5.8832 - val_categorical_accuracy: 0.0919 - val_accuracy: 0.0919\n",
      "Epoch 31/100\n",
      "35/36 [============================>.] - ETA: 1s - loss: 1.5645 - categorical_crossentropy: 1.5647 - categorical_accuracy: 0.6084 - accuracy: 0.6084\n",
      "Epoch 00031: val_loss did not improve from 4.09085\n",
      "36/36 [==============================] - 50s 1s/step - loss: 1.5670 - categorical_crossentropy: 1.5673 - categorical_accuracy: 0.6069 - accuracy: 0.6069 - val_loss: 5.9399 - val_categorical_crossentropy: 5.9397 - val_categorical_accuracy: 0.0880 - val_accuracy: 0.0880\n",
      "Epoch 32/100\n",
      "35/36 [============================>.] - ETA: 1s - loss: 1.5558 - categorical_crossentropy: 1.5560 - categorical_accuracy: 0.6087 - accuracy: 0.6087\n",
      "Epoch 00032: val_loss did not improve from 4.09085\n",
      "36/36 [==============================] - 49s 1s/step - loss: 1.5546 - categorical_crossentropy: 1.5548 - categorical_accuracy: 0.6092 - accuracy: 0.6092 - val_loss: 5.9754 - val_categorical_crossentropy: 5.9751 - val_categorical_accuracy: 0.0899 - val_accuracy: 0.0899\n",
      "Epoch 33/100\n",
      "35/36 [============================>.] - ETA: 1s - loss: 1.5380 - categorical_crossentropy: 1.5381 - categorical_accuracy: 0.6155 - accuracy: 0.6155\n",
      "Epoch 00033: val_loss did not improve from 4.09085\n",
      "36/36 [==============================] - 48s 1s/step - loss: 1.5398 - categorical_crossentropy: 1.5399 - categorical_accuracy: 0.6143 - accuracy: 0.6143 - val_loss: 5.9758 - val_categorical_crossentropy: 5.9757 - val_categorical_accuracy: 0.0899 - val_accuracy: 0.0899\n"
     ]
    },
    {
     "name": "stdout",
     "output_type": "stream",
     "text": [
      "Epoch 34/100\n",
      "35/36 [============================>.] - ETA: 1s - loss: 1.5369 - categorical_crossentropy: 1.5367 - categorical_accuracy: 0.6174 - accuracy: 0.6174\n",
      "Epoch 00034: val_loss did not improve from 4.09085\n",
      "36/36 [==============================] - 49s 1s/step - loss: 1.5368 - categorical_crossentropy: 1.5367 - categorical_accuracy: 0.6165 - accuracy: 0.6165 - val_loss: 5.9783 - val_categorical_crossentropy: 5.9783 - val_categorical_accuracy: 0.0919 - val_accuracy: 0.0919\n",
      "Epoch 35/100\n",
      "35/36 [============================>.] - ETA: 1s - loss: 1.5367 - categorical_crossentropy: 1.5367 - categorical_accuracy: 0.6162 - accuracy: 0.6162\n",
      "Epoch 00035: val_loss did not improve from 4.09085\n",
      "36/36 [==============================] - 50s 1s/step - loss: 1.5336 - categorical_crossentropy: 1.5336 - categorical_accuracy: 0.6160 - accuracy: 0.6160 - val_loss: 5.9982 - val_categorical_crossentropy: 5.9982 - val_categorical_accuracy: 0.0899 - val_accuracy: 0.0899\n",
      "Epoch 36/100\n",
      "35/36 [============================>.] - ETA: 1s - loss: 1.5354 - categorical_crossentropy: 1.5354 - categorical_accuracy: 0.6161 - accuracy: 0.6161\n",
      "Epoch 00036: val_loss did not improve from 4.09085\n",
      "Restoring model weights from the end of the best epoch.\n",
      "36/36 [==============================] - 50s 1s/step - loss: 1.5311 - categorical_crossentropy: 1.5310 - categorical_accuracy: 0.6169 - accuracy: 0.6169 - val_loss: 6.0067 - val_categorical_crossentropy: 6.0067 - val_categorical_accuracy: 0.0909 - val_accuracy: 0.0909\n",
      "Epoch 00036: early stopping\n"
     ]
    }
   ],
   "source": [
    "# Path to save model parameters\n",
    "weight_path_model_base ='model_custom2_gap.h5'\n",
    "# Path to write tensorboard\n",
    "tensorboard_path_model_base = 'Graphs/pattern_nn_custom2_gap'\n",
    "\n",
    "callbacks_list_model_base = [\n",
    "    TensorBoard(log_dir=tensorboard_path_model_base, histogram_freq=1, write_graph=True, write_grads=True),\n",
    "    ModelCheckpoint(\n",
    "            weight_path_model_base,\n",
    "            save_best_only=True,\n",
    "            save_weights_only=True,\n",
    "            monitor='val_loss',\n",
    "            mode='min',\n",
    "            verbose=1\n",
    "        ),\n",
    "    ReduceLROnPlateau(monitor='val_loss', factor=0.25, patience=4, min_lr=0.0000001),\n",
    "    EarlyStopping(\n",
    "        monitor='val_loss', \n",
    "        verbose=1,\n",
    "        patience=20,\n",
    "        mode='min',\n",
    "        restore_best_weights=True)\n",
    "]\n",
    "\n",
    "history_base = base_model.fit_generator(train_data_gen, epochs=EPOCHS, verbose=1, validation_data=val_data_gen,\n",
    "                                        callbacks=callbacks_list_model_base)"
   ]
  },
  {
   "cell_type": "markdown",
   "metadata": {},
   "source": [
    "## Train Logs"
   ]
  },
  {
   "cell_type": "code",
   "execution_count": 14,
   "metadata": {},
   "outputs": [
    {
     "name": "stdout",
     "output_type": "stream",
     "text": [
      "dict_keys(['loss', 'categorical_crossentropy', 'categorical_accuracy', 'accuracy', 'val_loss', 'val_categorical_crossentropy', 'val_categorical_accuracy', 'val_accuracy', 'lr'])\n"
     ]
    }
   ],
   "source": [
    "# What is tracked\n",
    "print(history_base.history.keys())"
   ]
  },
  {
   "cell_type": "code",
   "execution_count": 13,
   "metadata": {},
   "outputs": [
    {
     "data": {
      "image/png": "[encoded data removed]",
      "text/plain": [
       "<Figure size 432x288 with 1 Axes>"
      ]
     },
     "metadata": {
      "needs_background": "light"
     },
     "output_type": "display_data"
    },
    {
     "data": {
      "image/png": "[encoded data removed]",
      "text/plain": [
       "<Figure size 432x288 with 1 Axes>"
      ]
     },
     "metadata": {
      "needs_background": "light"
     },
     "output_type": "display_data"
    },
    {
     "data": {
      "image/png": "[encoded data removed]",
      "text/plain": [
       "<Figure size 432x288 with 1 Axes>"
      ]
     },
     "metadata": {
      "needs_background": "light"
     },
     "output_type": "display_data"
    }
   ],
   "source": [
    "train_loss = history_base.history['loss']\n",
    "train_acc = history_base.history['accuracy']\n",
    "val_loss = history_base.history['val_loss']\n",
    "val_acc = history_base.history['val_accuracy']\n",
    "learnrate = history_base.history['lr']\n",
    "\n",
    "plt.plot(train_loss, color='blue')\n",
    "plt.plot(val_loss, color='red')\n",
    "plt.title('Loss')\n",
    "plt.ylabel('loss')\n",
    "plt.xlabel('epoch')\n",
    "plt.show()\n",
    "\n",
    "plt.plot(train_acc, color='blue')\n",
    "plt.plot(val_acc, color='red')\n",
    "plt.title('Accuracy')\n",
    "plt.ylabel('accuracy')\n",
    "plt.xlabel('epoch')\n",
    "plt.show()\n",
    "\n",
    "plt.plot(learnrate, color='green')\n",
    "plt.title('Learning Rate')\n",
    "plt.ylabel('learning rate')\n",
    "plt.xlabel('epoch')\n",
    "plt.show()"
   ]
  },
  {
   "cell_type": "markdown",
   "metadata": {},
   "source": [
    "## Load class details"
   ]
  },
  {
   "cell_type": "code",
   "execution_count": 14,
   "metadata": {
    "scrolled": true
   },
   "outputs": [],
   "source": [
    "classes = train_data_gen.class_indices"
   ]
  },
  {
   "cell_type": "code",
   "execution_count": 15,
   "metadata": {
    "scrolled": true
   },
   "outputs": [],
   "source": [
    "inverted_classes = dict(map(reversed, classes.items()))"
   ]
  },
  {
   "cell_type": "code",
   "execution_count": 16,
   "metadata": {},
   "outputs": [],
   "source": [
    "class_list = [i for i in classes.keys()]"
   ]
  },
  {
   "cell_type": "markdown",
   "metadata": {},
   "source": [
    "## Load test data"
   ]
  },
  {
   "cell_type": "code",
   "execution_count": 17,
   "metadata": {},
   "outputs": [
    {
     "name": "stdout",
     "output_type": "stream",
     "text": [
      "Found 10357 images belonging to 1 classes.\n"
     ]
    }
   ],
   "source": [
    "test_image_generator = ImageDataGenerator(rescale=1./255)\n",
    "test_data_gen = test_image_generator.flow_from_directory(batch_size=BATCH_SIZE,\n",
    "                                                           directory=TEST_PATH,\n",
    "                                                           target_size=(IMG_HEIGHT, IMG_WIDTH),\n",
    "                                                           class_mode=None)"
   ]
  },
  {
   "cell_type": "markdown",
   "metadata": {},
   "source": [
    "## Run on test data"
   ]
  },
  {
   "cell_type": "code",
   "execution_count": null,
   "metadata": {},
   "outputs": [
    {
     "name": "stdout",
     "output_type": "stream",
     "text": [
      "23/41 [===============>..............] - ETA: 47s"
     ]
    }
   ],
   "source": [
    "test_result = base_model.predict_generator(test_data_gen, verbose=1)"
   ]
  },
  {
   "cell_type": "markdown",
   "metadata": {},
   "source": [
    "## Prepare data for csv"
   ]
  },
  {
   "cell_type": "code",
   "execution_count": 24,
   "metadata": {},
   "outputs": [],
   "source": [
    "filenames = [i[i.find('/')+1:i.rfind('.')] for i in test_data_gen.filenames]\n",
    "filenames_arr = np.array(filenames)[np.newaxis].T\n",
    "test_result_with_label = np.concatenate((filenames_arr, test_result), axis=1)\n",
    "csv_header = ['id'] + class_list"
   ]
  },
  {
   "cell_type": "markdown",
   "metadata": {},
   "source": [
    "## Export data to csv"
   ]
  },
  {
   "cell_type": "code",
   "execution_count": 25,
   "metadata": {},
   "outputs": [],
   "source": [
    "# Be aware that the file with the same name should not exist, or it will be overwrited.\n",
    "result_dataframe = pd.DataFrame(test_result_with_label, columns=csv_header)\n",
    "result_dataframe.to_csv('./result_custom2_gap.csv', index=False)"
   ]
  },
  {
   "cell_type": "code",
   "execution_count": null,
   "metadata": {},
   "outputs": [],
   "source": []
  }
 ],
 "metadata": {
  "kernelspec": {
   "display_name": "Python 3",
   "language": "python",
   "name": "python3"
  },
  "language_info": {
   "codemirror_mode": {
    "name": "ipython",
    "version": 3
   },
   "file_extension": ".py",
   "mimetype": "text/x-python",
   "name": "python",
   "nbconvert_exporter": "python",
   "pygments_lexer": "ipython3",
   "version": "3.7.4"
  }
 },
 "nbformat": 4,
 "nbformat_minor": 4
}
