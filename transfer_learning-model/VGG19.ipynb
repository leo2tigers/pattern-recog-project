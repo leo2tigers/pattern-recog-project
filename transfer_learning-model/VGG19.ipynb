{
 "cells": [
  {
   "cell_type": "markdown",
   "metadata": {},
   "source": [
    "## Load Tensorboard"
   ]
  },
  {
   "cell_type": "code",
   "execution_count": 1,
   "metadata": {},
   "outputs": [],
   "source": [
    "%load_ext tensorboard"
   ]
  },
  {
   "cell_type": "markdown",
   "metadata": {},
   "source": [
    "## Import Libraries"
   ]
  },
  {
   "cell_type": "code",
   "execution_count": 2,
   "metadata": {},
   "outputs": [],
   "source": [
    "import os\n",
    "import numpy as np\n",
    "import pickle\n",
    "import pandas as pd\n",
    "import matplotlib.pyplot as plt\n",
    "import urllib\n",
    "from sklearn import preprocessing\n",
    "from sklearn.model_selection import train_test_split, StratifiedShuffleSplit, StratifiedKFold\n",
    "\n",
    "import tensorflow as tf\n",
    "from tensorflow.keras.models import load_model, Model\n",
    "from tensorflow.keras.preprocessing.image import ImageDataGenerator\n",
    "from tensorflow.keras.layers import Dense, Conv2D, MaxPooling2D, Flatten, Input, Dropout, GlobalAveragePooling2D\n",
    "from tensorflow.keras.callbacks import ModelCheckpoint, TensorBoard, ReduceLROnPlateau, EarlyStopping\n",
    "from tensorflow.keras.optimizers import Adam\n",
    "from tensorflow.keras.applications import VGG19"
   ]
  },
  {
   "cell_type": "markdown",
   "metadata": {},
   "source": [
    "## Initialize Tensorflow"
   ]
  },
  {
   "cell_type": "code",
   "execution_count": 3,
   "metadata": {},
   "outputs": [],
   "source": [
    "from tensorflow.keras import backend as K\n",
    "K.clear_session()"
   ]
  },
  {
   "cell_type": "markdown",
   "metadata": {},
   "source": [
    "## Load Data"
   ]
  },
  {
   "cell_type": "code",
   "execution_count": 4,
   "metadata": {},
   "outputs": [],
   "source": [
    "data = pd.read_csv(\"../labels.csv\")\n",
    "imgs = [\"{}.jpg\".format(x) for x in list(data.id)]\n",
    "img_label = list(data['breed'])\n",
    "\n",
    "# Split data into train and validation set equally\n",
    "b_sp = StratifiedShuffleSplit(1, 0.1)\n",
    "imgs = np.array(imgs)\n",
    "img_label = np.array(img_label)\n",
    "for train_idx, val_idx in b_sp.split(imgs, img_label):\n",
    "    train_x = imgs[train_idx]\n",
    "    train_y = img_label[train_idx]\n",
    "    val_x = imgs[val_idx]\n",
    "    val_y = img_label[val_idx]\n",
    "\n",
    "train_y = train_y.astype(str)\n",
    "val_y = val_y.astype(str)\n",
    "train_data = pd.DataFrame({'id': train_x,'breed': train_y})\n",
    "val_data = pd.DataFrame({'id': val_x,'breed': val_y})"
   ]
  },
  {
   "cell_type": "code",
   "execution_count": 5,
   "metadata": {},
   "outputs": [],
   "source": [
    "BATCH_SIZE = 160\n",
    "\n",
    "# Number of epochs for training\n",
    "EPOCHS = 200\n",
    "\n",
    "# The original image will be resized to the size specified below.\n",
    "IMG_HEIGHT = 224\n",
    "IMG_WIDTH = 224\n",
    "\n",
    "# Path to image for training\n",
    "#TRAIN_PATH = '../img/train/'\n",
    "TRAIN_PATH = '../img/train/'\n",
    "TEST_PATH = '../img/test/'"
   ]
  },
  {
   "cell_type": "markdown",
   "metadata": {},
   "source": [
    "## Preprocess Image"
   ]
  },
  {
   "cell_type": "code",
   "execution_count": 6,
   "metadata": {},
   "outputs": [],
   "source": [
    "# For train image generator, more params may be added to generate augmented image.\n",
    "train_image_generator = ImageDataGenerator(rescale=1./255)\n",
    "val_image_generator = ImageDataGenerator(rescale=1./255)"
   ]
  },
  {
   "cell_type": "code",
   "execution_count": 7,
   "metadata": {},
   "outputs": [
    {
     "name": "stdout",
     "output_type": "stream",
     "text": [
      "Found 9199 validated image filenames belonging to 120 classes.\n",
      "Found 1023 validated image filenames belonging to 120 classes.\n"
     ]
    }
   ],
   "source": [
    "train_data_gen = train_image_generator.flow_from_dataframe(\n",
    "                                        dataframe = train_data,\n",
    "                                        directory=TRAIN_PATH,x_col=\"id\",\n",
    "                                        y_col=\"breed\",\n",
    "                                        class_mode=\"categorical\",\n",
    "                                        target_size=(IMG_HEIGHT,IMG_WIDTH),\n",
    "                                        batch_size=BATCH_SIZE,\n",
    "                                        shuffle=True)\n",
    "val_data_gen = val_image_generator.flow_from_dataframe(\n",
    "                                        dataframe = val_data,\n",
    "                                        directory=TRAIN_PATH,x_col=\"id\",\n",
    "                                        y_col=\"breed\",\n",
    "                                        class_mode=\"categorical\",\n",
    "                                        target_size=(IMG_HEIGHT,IMG_WIDTH),\n",
    "                                        batch_size=BATCH_SIZE)"
   ]
  },
  {
   "cell_type": "code",
   "execution_count": 8,
   "metadata": {},
   "outputs": [],
   "source": [
    "# For checking of class distribution in train and validation set\n",
    "# If unused, leave this commented to reduce output on your screen.\n",
    "\n",
    "# breedcnt = dict()\n",
    "# breedcntval = dict()\n",
    "# for i in train_data['breed']:\n",
    "#     try:\n",
    "#         breedcnt[i] += 1\n",
    "#     except:\n",
    "#         breedcnt[i] = 1\n",
    "        \n",
    "# for i in val_data['breed']:\n",
    "#     try:\n",
    "#         breedcntval[i] += 1\n",
    "#     except:\n",
    "#         breedcntval[i] = 1\n",
    "        \n",
    "# for i in breedcnt.keys():\n",
    "#     print(i, \" : \", breedcnt[i], \" | \", breedcntval[i])"
   ]
  },
  {
   "cell_type": "markdown",
   "metadata": {},
   "source": [
    "## Define Model"
   ]
  },
  {
   "cell_type": "code",
   "execution_count": 9,
   "metadata": {},
   "outputs": [],
   "source": [
    "# Define you model here\n",
    "# The model provided is just placeholder\n",
    "# Do not modify the input shape and the output layer\n",
    "def get_base_model():\n",
    "    vgg_model = VGG19(include_top=False, weights='imagenet',\n",
    "                       input_shape=(IMG_HEIGHT,IMG_WIDTH, 3), pooling='avg')\n",
    "    vgg_model.trainable = False\n",
    "    vgg_model.summary()\n",
    "    input1 = Input(shape=(IMG_HEIGHT,IMG_WIDTH, 3))\n",
    "    vgg_layer = vgg_model(input1)\n",
    "    out = Dense(120, activation='softmax')(vgg_layer)\n",
    "    \n",
    "    model = Model(inputs=input1, outputs=out)\n",
    "    model.compile(optimizer=Adam(0.001), loss='categorical_crossentropy',\n",
    "                  metrics=['categorical_crossentropy','categorical_accuracy','accuracy'])\n",
    "    \n",
    "    return model"
   ]
  },
  {
   "cell_type": "code",
   "execution_count": 10,
   "metadata": {},
   "outputs": [
    {
     "name": "stdout",
     "output_type": "stream",
     "text": [
      "Model: \"vgg19\"\n",
      "_________________________________________________________________\n",
      "Layer (type)                 Output Shape              Param #   \n",
      "=================================================================\n",
      "input_1 (InputLayer)         [(None, 224, 224, 3)]     0         \n",
      "_________________________________________________________________\n",
      "block1_conv1 (Conv2D)        (None, 224, 224, 64)      1792      \n",
      "_________________________________________________________________\n",
      "block1_conv2 (Conv2D)        (None, 224, 224, 64)      36928     \n",
      "_________________________________________________________________\n",
      "block1_pool (MaxPooling2D)   (None, 112, 112, 64)      0         \n",
      "_________________________________________________________________\n",
      "block2_conv1 (Conv2D)        (None, 112, 112, 128)     73856     \n",
      "_________________________________________________________________\n",
      "block2_conv2 (Conv2D)        (None, 112, 112, 128)     147584    \n",
      "_________________________________________________________________\n",
      "block2_pool (MaxPooling2D)   (None, 56, 56, 128)       0         \n",
      "_________________________________________________________________\n",
      "block3_conv1 (Conv2D)        (None, 56, 56, 256)       295168    \n",
      "_________________________________________________________________\n",
      "block3_conv2 (Conv2D)        (None, 56, 56, 256)       590080    \n",
      "_________________________________________________________________\n",
      "block3_conv3 (Conv2D)        (None, 56, 56, 256)       590080    \n",
      "_________________________________________________________________\n",
      "block3_conv4 (Conv2D)        (None, 56, 56, 256)       590080    \n",
      "_________________________________________________________________\n",
      "block3_pool (MaxPooling2D)   (None, 28, 28, 256)       0         \n",
      "_________________________________________________________________\n",
      "block4_conv1 (Conv2D)        (None, 28, 28, 512)       1180160   \n",
      "_________________________________________________________________\n",
      "block4_conv2 (Conv2D)        (None, 28, 28, 512)       2359808   \n",
      "_________________________________________________________________\n",
      "block4_conv3 (Conv2D)        (None, 28, 28, 512)       2359808   \n",
      "_________________________________________________________________\n",
      "block4_conv4 (Conv2D)        (None, 28, 28, 512)       2359808   \n",
      "_________________________________________________________________\n",
      "block4_pool (MaxPooling2D)   (None, 14, 14, 512)       0         \n",
      "_________________________________________________________________\n",
      "block5_conv1 (Conv2D)        (None, 14, 14, 512)       2359808   \n",
      "_________________________________________________________________\n",
      "block5_conv2 (Conv2D)        (None, 14, 14, 512)       2359808   \n",
      "_________________________________________________________________\n",
      "block5_conv3 (Conv2D)        (None, 14, 14, 512)       2359808   \n",
      "_________________________________________________________________\n",
      "block5_conv4 (Conv2D)        (None, 14, 14, 512)       2359808   \n",
      "_________________________________________________________________\n",
      "block5_pool (MaxPooling2D)   (None, 7, 7, 512)         0         \n",
      "_________________________________________________________________\n",
      "global_average_pooling2d (Gl (None, 512)               0         \n",
      "=================================================================\n",
      "Total params: 20,024,384\n",
      "Trainable params: 0\n",
      "Non-trainable params: 20,024,384\n",
      "_________________________________________________________________\n"
     ]
    }
   ],
   "source": [
    "base_model = get_base_model()"
   ]
  },
  {
   "cell_type": "code",
   "execution_count": 11,
   "metadata": {},
   "outputs": [
    {
     "name": "stdout",
     "output_type": "stream",
     "text": [
      "Model: \"model\"\n",
      "_________________________________________________________________\n",
      "Layer (type)                 Output Shape              Param #   \n",
      "=================================================================\n",
      "input_2 (InputLayer)         [(None, 224, 224, 3)]     0         \n",
      "_________________________________________________________________\n",
      "vgg19 (Model)                (None, 512)               20024384  \n",
      "_________________________________________________________________\n",
      "dense (Dense)                (None, 120)               61560     \n",
      "=================================================================\n",
      "Total params: 20,085,944\n",
      "Trainable params: 61,560\n",
      "Non-trainable params: 20,024,384\n",
      "_________________________________________________________________\n"
     ]
    }
   ],
   "source": [
    "# Total params should not exceed 120M or the VM may crash\n",
    "base_model.summary()"
   ]
  },
  {
   "cell_type": "markdown",
   "metadata": {},
   "source": [
    "## Train the model"
   ]
  },
  {
   "cell_type": "code",
   "execution_count": 12,
   "metadata": {
    "scrolled": true
   },
   "outputs": [
    {
     "name": "stdout",
     "output_type": "stream",
     "text": [
      "WARNING:tensorflow:`write_grads` will be ignored in TensorFlow 2.0 for the `TensorBoard` Callback.\n",
      "Epoch 1/200\n",
      "57/58 [============================>.] - ETA: 1s - loss: 4.7988 - categorical_crossentropy: 4.7989 - categorical_accuracy: 0.0149 - accuracy: 0.0149\n",
      "Epoch 00001: val_loss improved from inf to 4.70081, saving model to model_vgg19_2.h5\n",
      "58/58 [==============================] - 92s 2s/step - loss: 4.7974 - categorical_crossentropy: 4.7974 - categorical_accuracy: 0.0150 - accuracy: 0.0150 - val_loss: 4.7008 - val_categorical_crossentropy: 4.7049 - val_categorical_accuracy: 0.0244 - val_accuracy: 0.0244\n",
      "Epoch 2/200\n",
      "57/58 [============================>.] - ETA: 1s - loss: 4.6613 - categorical_crossentropy: 4.6615 - categorical_accuracy: 0.0367 - accuracy: 0.0367\n",
      "Epoch 00002: val_loss improved from 4.70081 to 4.61059, saving model to model_vgg19_2.h5\n",
      "58/58 [==============================] - 80s 1s/step - loss: 4.6605 - categorical_crossentropy: 4.6607 - categorical_accuracy: 0.0370 - accuracy: 0.0370 - val_loss: 4.6106 - val_categorical_crossentropy: 4.6144 - val_categorical_accuracy: 0.0440 - val_accuracy: 0.0440\n",
      "Epoch 3/200\n",
      "57/58 [============================>.] - ETA: 1s - loss: 4.5659 - categorical_crossentropy: 4.5655 - categorical_accuracy: 0.0575 - accuracy: 0.0575\n",
      "Epoch 00003: val_loss improved from 4.61059 to 4.53571, saving model to model_vgg19_2.h5\n",
      "58/58 [==============================] - 80s 1s/step - loss: 4.5659 - categorical_crossentropy: 4.5655 - categorical_accuracy: 0.0576 - accuracy: 0.0576 - val_loss: 4.5357 - val_categorical_crossentropy: 4.5388 - val_categorical_accuracy: 0.0684 - val_accuracy: 0.0684\n",
      "Epoch 4/200\n",
      "57/58 [============================>.] - ETA: 1s - loss: 4.4786 - categorical_crossentropy: 4.4791 - categorical_accuracy: 0.0844 - accuracy: 0.0844\n",
      "Epoch 00004: val_loss improved from 4.53571 to 4.46346, saving model to model_vgg19_2.h5\n",
      "58/58 [==============================] - 71s 1s/step - loss: 4.4784 - categorical_crossentropy: 4.4789 - categorical_accuracy: 0.0846 - accuracy: 0.0846 - val_loss: 4.4635 - val_categorical_crossentropy: 4.4692 - val_categorical_accuracy: 0.0811 - val_accuracy: 0.0811\n",
      "Epoch 5/200\n",
      "57/58 [============================>.] - ETA: 1s - loss: 4.3997 - categorical_crossentropy: 4.3995 - categorical_accuracy: 0.0967 - accuracy: 0.0967\n",
      "Epoch 00005: val_loss improved from 4.46346 to 4.41661, saving model to model_vgg19_2.h5\n",
      "58/58 [==============================] - 81s 1s/step - loss: 4.3992 - categorical_crossentropy: 4.3990 - categorical_accuracy: 0.0972 - accuracy: 0.0972 - val_loss: 4.4166 - val_categorical_crossentropy: 4.4107 - val_categorical_accuracy: 0.1065 - val_accuracy: 0.1065\n",
      "Epoch 6/200\n",
      "57/58 [============================>.] - ETA: 1s - loss: 4.3285 - categorical_crossentropy: 4.3283 - categorical_accuracy: 0.1147 - accuracy: 0.1147\n",
      "Epoch 00006: val_loss improved from 4.41661 to 4.36866, saving model to model_vgg19_2.h5\n",
      "58/58 [==============================] - 73s 1s/step - loss: 4.3264 - categorical_crossentropy: 4.3262 - categorical_accuracy: 0.1153 - accuracy: 0.1153 - val_loss: 4.3687 - val_categorical_crossentropy: 4.3558 - val_categorical_accuracy: 0.0968 - val_accuracy: 0.0968\n",
      "Epoch 7/200\n",
      "57/58 [============================>.] - ETA: 1s - loss: 4.2608 - categorical_crossentropy: 4.2609 - categorical_accuracy: 0.1215 - accuracy: 0.1215\n",
      "Epoch 00007: val_loss improved from 4.36866 to 4.29886, saving model to model_vgg19_2.h5\n",
      "58/58 [==============================] - 80s 1s/step - loss: 4.2604 - categorical_crossentropy: 4.2605 - categorical_accuracy: 0.1209 - accuracy: 0.1209 - val_loss: 4.2989 - val_categorical_crossentropy: 4.3030 - val_categorical_accuracy: 0.0997 - val_accuracy: 0.0997\n",
      "Epoch 8/200\n",
      "57/58 [============================>.] - ETA: 1s - loss: 4.1972 - categorical_crossentropy: 4.1974 - categorical_accuracy: 0.1376 - accuracy: 0.1376\n",
      "Epoch 00008: val_loss improved from 4.29886 to 4.25042, saving model to model_vgg19_2.h5\n",
      "58/58 [==============================] - 80s 1s/step - loss: 4.1970 - categorical_crossentropy: 4.1972 - categorical_accuracy: 0.1385 - accuracy: 0.1385 - val_loss: 4.2504 - val_categorical_crossentropy: 4.2579 - val_categorical_accuracy: 0.1329 - val_accuracy: 0.1329\n",
      "Epoch 9/200\n",
      "57/58 [============================>.] - ETA: 1s - loss: 4.1395 - categorical_crossentropy: 4.1400 - categorical_accuracy: 0.1505 - accuracy: 0.1505\n",
      "Epoch 00009: val_loss improved from 4.25042 to 4.21268, saving model to model_vgg19_2.h5\n",
      "58/58 [==============================] - 81s 1s/step - loss: 4.1393 - categorical_crossentropy: 4.1398 - categorical_accuracy: 0.1507 - accuracy: 0.1507 - val_loss: 4.2127 - val_categorical_crossentropy: 4.2107 - val_categorical_accuracy: 0.1075 - val_accuracy: 0.1075\n",
      "Epoch 10/200\n",
      "57/58 [============================>.] - ETA: 1s - loss: 4.0842 - categorical_crossentropy: 4.0840 - categorical_accuracy: 0.1645 - accuracy: 0.1645\n",
      "Epoch 00010: val_loss improved from 4.21268 to 4.16054, saving model to model_vgg19_2.h5\n",
      "58/58 [==============================] - 80s 1s/step - loss: 4.0843 - categorical_crossentropy: 4.0841 - categorical_accuracy: 0.1643 - accuracy: 0.1643 - val_loss: 4.1605 - val_categorical_crossentropy: 4.1702 - val_categorical_accuracy: 0.1271 - val_accuracy: 0.1271\n",
      "Epoch 11/200\n",
      "57/58 [============================>.] - ETA: 1s - loss: 4.0353 - categorical_crossentropy: 4.0363 - categorical_accuracy: 0.1704 - accuracy: 0.1704\n",
      "Epoch 00011: val_loss improved from 4.16054 to 4.13324, saving model to model_vgg19_2.h5\n",
      "58/58 [==============================] - 80s 1s/step - loss: 4.0345 - categorical_crossentropy: 4.0354 - categorical_accuracy: 0.1705 - accuracy: 0.1705 - val_loss: 4.1332 - val_categorical_crossentropy: 4.1320 - val_categorical_accuracy: 0.1388 - val_accuracy: 0.1388\n",
      "Epoch 12/200\n",
      "57/58 [============================>.] - ETA: 1s - loss: 3.9846 - categorical_crossentropy: 3.9854 - categorical_accuracy: 0.1810 - accuracy: 0.1810\n",
      "Epoch 00012: val_loss improved from 4.13324 to 4.09475, saving model to model_vgg19_2.h5\n",
      "58/58 [==============================] - 80s 1s/step - loss: 3.9849 - categorical_crossentropy: 3.9857 - categorical_accuracy: 0.1803 - accuracy: 0.1803 - val_loss: 4.0947 - val_categorical_crossentropy: 4.0940 - val_categorical_accuracy: 0.1515 - val_accuracy: 0.1515\n",
      "Epoch 13/200\n",
      "57/58 [============================>.] - ETA: 1s - loss: 3.9381 - categorical_crossentropy: 3.9384 - categorical_accuracy: 0.1861 - accuracy: 0.1861\n",
      "Epoch 00013: val_loss improved from 4.09475 to 4.06190, saving model to model_vgg19_2.h5\n",
      "58/58 [==============================] - 80s 1s/step - loss: 3.9385 - categorical_crossentropy: 3.9389 - categorical_accuracy: 0.1858 - accuracy: 0.1858 - val_loss: 4.0619 - val_categorical_crossentropy: 4.0623 - val_categorical_accuracy: 0.1408 - val_accuracy: 0.1408\n",
      "Epoch 14/200\n",
      "57/58 [============================>.] - ETA: 1s - loss: 3.8950 - categorical_crossentropy: 3.8960 - categorical_accuracy: 0.1966 - accuracy: 0.1966\n",
      "Epoch 00014: val_loss improved from 4.06190 to 4.02759, saving model to model_vgg19_2.h5\n",
      "58/58 [==============================] - 79s 1s/step - loss: 3.8938 - categorical_crossentropy: 3.8948 - categorical_accuracy: 0.1973 - accuracy: 0.1973 - val_loss: 4.0276 - val_categorical_crossentropy: 4.0319 - val_categorical_accuracy: 0.1496 - val_accuracy: 0.1496\n",
      "Epoch 15/200\n",
      "57/58 [============================>.] - ETA: 1s - loss: 3.8542 - categorical_crossentropy: 3.8548 - categorical_accuracy: 0.2041 - accuracy: 0.2041\n",
      "Epoch 00015: val_loss improved from 4.02759 to 3.99779, saving model to model_vgg19_2.h5\n",
      "58/58 [==============================] - 80s 1s/step - loss: 3.8529 - categorical_crossentropy: 3.8534 - categorical_accuracy: 0.2049 - accuracy: 0.2049 - val_loss: 3.9978 - val_categorical_crossentropy: 4.0017 - val_categorical_accuracy: 0.1632 - val_accuracy: 0.1632\n",
      "Epoch 16/200\n",
      "57/58 [============================>.] - ETA: 1s - loss: 3.8119 - categorical_crossentropy: 3.8125 - categorical_accuracy: 0.2152 - accuracy: 0.2152\n",
      "Epoch 00016: val_loss improved from 3.99779 to 3.98519, saving model to model_vgg19_2.h5\n",
      "58/58 [==============================] - 79s 1s/step - loss: 3.8137 - categorical_crossentropy: 3.8143 - categorical_accuracy: 0.2145 - accuracy: 0.2145 - val_loss: 3.9852 - val_categorical_crossentropy: 3.9741 - val_categorical_accuracy: 0.1486 - val_accuracy: 0.1486\n"
     ]
    },
    {
     "name": "stdout",
     "output_type": "stream",
     "text": [
      "Epoch 17/200\n",
      "57/58 [============================>.] - ETA: 1s - loss: 3.7766 - categorical_crossentropy: 3.7760 - categorical_accuracy: 0.2233 - accuracy: 0.2233\n",
      "Epoch 00017: val_loss improved from 3.98519 to 3.94648, saving model to model_vgg19_2.h5\n",
      "58/58 [==============================] - 80s 1s/step - loss: 3.7763 - categorical_crossentropy: 3.7757 - categorical_accuracy: 0.2221 - accuracy: 0.2221 - val_loss: 3.9465 - val_categorical_crossentropy: 3.9463 - val_categorical_accuracy: 0.1623 - val_accuracy: 0.1623\n",
      "Epoch 18/200\n",
      "57/58 [============================>.] - ETA: 1s - loss: 3.7357 - categorical_crossentropy: 3.7357 - categorical_accuracy: 0.2279 - accuracy: 0.2279\n",
      "Epoch 00018: val_loss improved from 3.94648 to 3.90881, saving model to model_vgg19_2.h5\n",
      "58/58 [==============================] - 80s 1s/step - loss: 3.7369 - categorical_crossentropy: 3.7363 - categorical_accuracy: 0.2272 - accuracy: 0.2272 - val_loss: 3.9088 - val_categorical_crossentropy: 3.9177 - val_categorical_accuracy: 0.1662 - val_accuracy: 0.1662\n",
      "Epoch 19/200\n",
      "57/58 [============================>.] - ETA: 1s - loss: 3.7035 - categorical_crossentropy: 3.7036 - categorical_accuracy: 0.2316 - accuracy: 0.2316\n",
      "Epoch 00019: val_loss improved from 3.90881 to 3.90272, saving model to model_vgg19_2.h5\n",
      "58/58 [==============================] - 80s 1s/step - loss: 3.7025 - categorical_crossentropy: 3.7026 - categorical_accuracy: 0.2317 - accuracy: 0.2317 - val_loss: 3.9027 - val_categorical_crossentropy: 3.8989 - val_categorical_accuracy: 0.1603 - val_accuracy: 0.1603\n",
      "Epoch 20/200\n",
      "57/58 [============================>.] - ETA: 1s - loss: 3.6675 - categorical_crossentropy: 3.6668 - categorical_accuracy: 0.2418 - accuracy: 0.2418\n",
      "Epoch 00020: val_loss improved from 3.90272 to 3.88012, saving model to model_vgg19_2.h5\n",
      "58/58 [==============================] - 81s 1s/step - loss: 3.6686 - categorical_crossentropy: 3.6681 - categorical_accuracy: 0.2407 - accuracy: 0.2407 - val_loss: 3.8801 - val_categorical_crossentropy: 3.8710 - val_categorical_accuracy: 0.1838 - val_accuracy: 0.1838\n",
      "Epoch 21/200\n",
      "57/58 [============================>.] - ETA: 1s - loss: 3.6346 - categorical_crossentropy: 3.6352 - categorical_accuracy: 0.2415 - accuracy: 0.2415\n",
      "Epoch 00021: val_loss improved from 3.88012 to 3.85347, saving model to model_vgg19_2.h5\n",
      "58/58 [==============================] - 80s 1s/step - loss: 3.6343 - categorical_crossentropy: 3.6349 - categorical_accuracy: 0.2413 - accuracy: 0.2413 - val_loss: 3.8535 - val_categorical_crossentropy: 3.8525 - val_categorical_accuracy: 0.1779 - val_accuracy: 0.1779\n",
      "Epoch 22/200\n",
      "57/58 [============================>.] - ETA: 1s - loss: 3.6053 - categorical_crossentropy: 3.6050 - categorical_accuracy: 0.2524 - accuracy: 0.2524\n",
      "Epoch 00022: val_loss improved from 3.85347 to 3.81587, saving model to model_vgg19_2.h5\n",
      "58/58 [==============================] - 80s 1s/step - loss: 3.6048 - categorical_crossentropy: 3.6044 - categorical_accuracy: 0.2532 - accuracy: 0.2532 - val_loss: 3.8159 - val_categorical_crossentropy: 3.8283 - val_categorical_accuracy: 0.1867 - val_accuracy: 0.1867\n",
      "Epoch 23/200\n",
      "57/58 [============================>.] - ETA: 1s - loss: 3.5719 - categorical_crossentropy: 3.5727 - categorical_accuracy: 0.2551 - accuracy: 0.2551\n",
      "Epoch 00023: val_loss improved from 3.81587 to 3.80541, saving model to model_vgg19_2.h5\n",
      "58/58 [==============================] - 80s 1s/step - loss: 3.5724 - categorical_crossentropy: 3.5731 - categorical_accuracy: 0.2545 - accuracy: 0.2545 - val_loss: 3.8054 - val_categorical_crossentropy: 3.8111 - val_categorical_accuracy: 0.1828 - val_accuracy: 0.1828\n",
      "Epoch 24/200\n",
      "57/58 [============================>.] - ETA: 1s - loss: 3.5461 - categorical_crossentropy: 3.5457 - categorical_accuracy: 0.2624 - accuracy: 0.2624\n",
      "Epoch 00024: val_loss did not improve from 3.80541\n",
      "58/58 [==============================] - 79s 1s/step - loss: 3.5466 - categorical_crossentropy: 3.5462 - categorical_accuracy: 0.2621 - accuracy: 0.2621 - val_loss: 3.8118 - val_categorical_crossentropy: 3.7913 - val_categorical_accuracy: 0.1808 - val_accuracy: 0.1808\n",
      "Epoch 25/200\n",
      "57/58 [============================>.] - ETA: 1s - loss: 3.5198 - categorical_crossentropy: 3.5185 - categorical_accuracy: 0.2625 - accuracy: 0.2625\n",
      "Epoch 00025: val_loss improved from 3.80541 to 3.77720, saving model to model_vgg19_2.h5\n",
      "58/58 [==============================] - 81s 1s/step - loss: 3.5181 - categorical_crossentropy: 3.5170 - categorical_accuracy: 0.2627 - accuracy: 0.2627 - val_loss: 3.7772 - val_categorical_crossentropy: 3.7703 - val_categorical_accuracy: 0.1975 - val_accuracy: 0.1975\n",
      "Epoch 26/200\n",
      "57/58 [============================>.] - ETA: 1s - loss: 3.4865 - categorical_crossentropy: 3.4871 - categorical_accuracy: 0.2756 - accuracy: 0.2756\n",
      "Epoch 00026: val_loss improved from 3.77720 to 3.76553, saving model to model_vgg19_2.h5\n",
      "58/58 [==============================] - 81s 1s/step - loss: 3.4874 - categorical_crossentropy: 3.4880 - categorical_accuracy: 0.2751 - accuracy: 0.2751 - val_loss: 3.7655 - val_categorical_crossentropy: 3.7568 - val_categorical_accuracy: 0.1926 - val_accuracy: 0.1926\n",
      "Epoch 27/200\n",
      "57/58 [============================>.] - ETA: 1s - loss: 3.4610 - categorical_crossentropy: 3.4606 - categorical_accuracy: 0.2772 - accuracy: 0.2772\n",
      "Epoch 00027: val_loss improved from 3.76553 to 3.72642, saving model to model_vgg19_2.h5\n",
      "58/58 [==============================] - 81s 1s/step - loss: 3.4618 - categorical_crossentropy: 3.4615 - categorical_accuracy: 0.2770 - accuracy: 0.2770 - val_loss: 3.7264 - val_categorical_crossentropy: 3.7390 - val_categorical_accuracy: 0.1877 - val_accuracy: 0.1877\n",
      "Epoch 28/200\n",
      "57/58 [============================>.] - ETA: 1s - loss: 3.4343 - categorical_crossentropy: 3.4348 - categorical_accuracy: 0.2800 - accuracy: 0.2800\n",
      "Epoch 00028: val_loss did not improve from 3.72642\n",
      "58/58 [==============================] - 80s 1s/step - loss: 3.4355 - categorical_crossentropy: 3.4360 - categorical_accuracy: 0.2794 - accuracy: 0.2794 - val_loss: 3.7317 - val_categorical_crossentropy: 3.7217 - val_categorical_accuracy: 0.1906 - val_accuracy: 0.1906\n",
      "Epoch 29/200\n",
      "57/58 [============================>.] - ETA: 1s - loss: 3.4100 - categorical_crossentropy: 3.4106 - categorical_accuracy: 0.2832 - accuracy: 0.2832\n",
      "Epoch 00029: val_loss improved from 3.72642 to 3.68453, saving model to model_vgg19_2.h5\n",
      "58/58 [==============================] - 80s 1s/step - loss: 3.4104 - categorical_crossentropy: 3.4111 - categorical_accuracy: 0.2834 - accuracy: 0.2834 - val_loss: 3.6845 - val_categorical_crossentropy: 3.7053 - val_categorical_accuracy: 0.1955 - val_accuracy: 0.1955\n",
      "Epoch 30/200\n",
      "57/58 [============================>.] - ETA: 1s - loss: 3.3856 - categorical_crossentropy: 3.3862 - categorical_accuracy: 0.2864 - accuracy: 0.2864\n",
      "Epoch 00030: val_loss improved from 3.68453 to 3.68120, saving model to model_vgg19_2.h5\n",
      "58/58 [==============================] - 80s 1s/step - loss: 3.3845 - categorical_crossentropy: 3.3851 - categorical_accuracy: 0.2871 - accuracy: 0.2871 - val_loss: 3.6812 - val_categorical_crossentropy: 3.6890 - val_categorical_accuracy: 0.1935 - val_accuracy: 0.1935\n",
      "Epoch 31/200\n",
      "57/58 [============================>.] - ETA: 1s - loss: 3.3626 - categorical_crossentropy: 3.3635 - categorical_accuracy: 0.2943 - accuracy: 0.2943\n",
      "Epoch 00031: val_loss improved from 3.68120 to 3.67911, saving model to model_vgg19_2.h5\n",
      "58/58 [==============================] - 81s 1s/step - loss: 3.3613 - categorical_crossentropy: 3.3621 - categorical_accuracy: 0.2951 - accuracy: 0.2951 - val_loss: 3.6791 - val_categorical_crossentropy: 3.6758 - val_categorical_accuracy: 0.1916 - val_accuracy: 0.1916\n",
      "Epoch 32/200\n",
      "57/58 [============================>.] - ETA: 1s - loss: 3.3407 - categorical_crossentropy: 3.3396 - categorical_accuracy: 0.2979 - accuracy: 0.2979\n",
      "Epoch 00032: val_loss improved from 3.67911 to 3.64740, saving model to model_vgg19_2.h5\n",
      "58/58 [==============================] - 81s 1s/step - loss: 3.3396 - categorical_crossentropy: 3.3385 - categorical_accuracy: 0.2981 - accuracy: 0.2981 - val_loss: 3.6474 - val_categorical_crossentropy: 3.6592 - val_categorical_accuracy: 0.1994 - val_accuracy: 0.1994\n"
     ]
    },
    {
     "name": "stdout",
     "output_type": "stream",
     "text": [
      "Epoch 33/200\n",
      "57/58 [============================>.] - ETA: 1s - loss: 3.3159 - categorical_crossentropy: 3.3158 - categorical_accuracy: 0.3079 - accuracy: 0.3079\n",
      "Epoch 00033: val_loss did not improve from 3.64740\n",
      "58/58 [==============================] - 80s 1s/step - loss: 3.3159 - categorical_crossentropy: 3.3158 - categorical_accuracy: 0.3072 - accuracy: 0.3072 - val_loss: 3.6551 - val_categorical_crossentropy: 3.6485 - val_categorical_accuracy: 0.2063 - val_accuracy: 0.2063\n",
      "Epoch 34/200\n",
      "57/58 [============================>.] - ETA: 1s - loss: 3.2914 - categorical_crossentropy: 3.2931 - categorical_accuracy: 0.3091 - accuracy: 0.3091\n",
      "Epoch 00034: val_loss improved from 3.64740 to 3.62025, saving model to model_vgg19_2.h5\n",
      "58/58 [==============================] - 80s 1s/step - loss: 3.2915 - categorical_crossentropy: 3.2931 - categorical_accuracy: 0.3092 - accuracy: 0.3092 - val_loss: 3.6202 - val_categorical_crossentropy: 3.6346 - val_categorical_accuracy: 0.2023 - val_accuracy: 0.2023\n",
      "Epoch 35/200\n",
      "57/58 [============================>.] - ETA: 1s - loss: 3.2745 - categorical_crossentropy: 3.2733 - categorical_accuracy: 0.3099 - accuracy: 0.3099\n",
      "Epoch 00035: val_loss did not improve from 3.62025\n",
      "58/58 [==============================] - 79s 1s/step - loss: 3.2733 - categorical_crossentropy: 3.2721 - categorical_accuracy: 0.3105 - accuracy: 0.3105 - val_loss: 3.6418 - val_categorical_crossentropy: 3.6181 - val_categorical_accuracy: 0.2033 - val_accuracy: 0.2033\n",
      "Epoch 36/200\n",
      "57/58 [============================>.] - ETA: 1s - loss: 3.2485 - categorical_crossentropy: 3.2489 - categorical_accuracy: 0.3214 - accuracy: 0.3214\n",
      "Epoch 00036: val_loss improved from 3.62025 to 3.61078, saving model to model_vgg19_2.h5\n",
      "58/58 [==============================] - 81s 1s/step - loss: 3.2484 - categorical_crossentropy: 3.2489 - categorical_accuracy: 0.3218 - accuracy: 0.3218 - val_loss: 3.6108 - val_categorical_crossentropy: 3.6071 - val_categorical_accuracy: 0.2131 - val_accuracy: 0.2131\n",
      "Epoch 37/200\n",
      "57/58 [============================>.] - ETA: 1s - loss: 3.2302 - categorical_crossentropy: 3.2311 - categorical_accuracy: 0.3188 - accuracy: 0.3188\n",
      "Epoch 00037: val_loss improved from 3.61078 to 3.59550, saving model to model_vgg19_2.h5\n",
      "58/58 [==============================] - 80s 1s/step - loss: 3.2312 - categorical_crossentropy: 3.2320 - categorical_accuracy: 0.3188 - accuracy: 0.3188 - val_loss: 3.5955 - val_categorical_crossentropy: 3.5966 - val_categorical_accuracy: 0.2229 - val_accuracy: 0.2229\n",
      "Epoch 38/200\n",
      "57/58 [============================>.] - ETA: 1s - loss: 3.2147 - categorical_crossentropy: 3.2144 - categorical_accuracy: 0.3240 - accuracy: 0.3240\n",
      "Epoch 00038: val_loss improved from 3.59550 to 3.59153, saving model to model_vgg19_2.h5\n",
      "58/58 [==============================] - 80s 1s/step - loss: 3.2118 - categorical_crossentropy: 3.2115 - categorical_accuracy: 0.3249 - accuracy: 0.3249 - val_loss: 3.5915 - val_categorical_crossentropy: 3.5829 - val_categorical_accuracy: 0.2111 - val_accuracy: 0.2111\n",
      "Epoch 39/200\n",
      "57/58 [============================>.] - ETA: 1s - loss: 3.1913 - categorical_crossentropy: 3.1900 - categorical_accuracy: 0.3289 - accuracy: 0.3289\n",
      "Epoch 00039: val_loss improved from 3.59153 to 3.58585, saving model to model_vgg19_2.h5\n",
      "58/58 [==============================] - 80s 1s/step - loss: 3.1926 - categorical_crossentropy: 3.1914 - categorical_accuracy: 0.3276 - accuracy: 0.3276 - val_loss: 3.5859 - val_categorical_crossentropy: 3.5759 - val_categorical_accuracy: 0.1994 - val_accuracy: 0.1994\n",
      "Epoch 40/200\n",
      "57/58 [============================>.] - ETA: 1s - loss: 3.1733 - categorical_crossentropy: 3.1744 - categorical_accuracy: 0.3307 - accuracy: 0.3307\n",
      "Epoch 00040: val_loss improved from 3.58585 to 3.56493, saving model to model_vgg19_2.h5\n",
      "58/58 [==============================] - 80s 1s/step - loss: 3.1710 - categorical_crossentropy: 3.1721 - categorical_accuracy: 0.3309 - accuracy: 0.3309 - val_loss: 3.5649 - val_categorical_crossentropy: 3.5602 - val_categorical_accuracy: 0.2004 - val_accuracy: 0.2004\n",
      "Epoch 41/200\n",
      "57/58 [============================>.] - ETA: 1s - loss: 3.1537 - categorical_crossentropy: 3.1527 - categorical_accuracy: 0.3317 - accuracy: 0.3317\n",
      "Epoch 00041: val_loss improved from 3.56493 to 3.55205, saving model to model_vgg19_2.h5\n",
      "58/58 [==============================] - 80s 1s/step - loss: 3.1544 - categorical_crossentropy: 3.1534 - categorical_accuracy: 0.3317 - accuracy: 0.3317 - val_loss: 3.5520 - val_categorical_crossentropy: 3.5496 - val_categorical_accuracy: 0.2082 - val_accuracy: 0.2082\n",
      "Epoch 42/200\n",
      "57/58 [============================>.] - ETA: 1s - loss: 3.1362 - categorical_crossentropy: 3.1361 - categorical_accuracy: 0.3428 - accuracy: 0.3428\n",
      "Epoch 00042: val_loss did not improve from 3.55205\n",
      "58/58 [==============================] - 79s 1s/step - loss: 3.1351 - categorical_crossentropy: 3.1350 - categorical_accuracy: 0.3425 - accuracy: 0.3425 - val_loss: 3.5628 - val_categorical_crossentropy: 3.5417 - val_categorical_accuracy: 0.2141 - val_accuracy: 0.2141\n",
      "Epoch 43/200\n",
      "57/58 [============================>.] - ETA: 1s - loss: 3.1201 - categorical_crossentropy: 3.1204 - categorical_accuracy: 0.3404 - accuracy: 0.3404\n",
      "Epoch 00043: val_loss improved from 3.55205 to 3.53544, saving model to model_vgg19_2.h5\n",
      "58/58 [==============================] - 80s 1s/step - loss: 3.1173 - categorical_crossentropy: 3.1175 - categorical_accuracy: 0.3416 - accuracy: 0.3416 - val_loss: 3.5354 - val_categorical_crossentropy: 3.5319 - val_categorical_accuracy: 0.2180 - val_accuracy: 0.2180\n",
      "Epoch 44/200\n",
      "57/58 [============================>.] - ETA: 1s - loss: 3.0991 - categorical_crossentropy: 3.0996 - categorical_accuracy: 0.3421 - accuracy: 0.3421\n",
      "Epoch 00044: val_loss improved from 3.53544 to 3.52888, saving model to model_vgg19_2.h5\n",
      "58/58 [==============================] - 80s 1s/step - loss: 3.0991 - categorical_crossentropy: 3.0997 - categorical_accuracy: 0.3425 - accuracy: 0.3425 - val_loss: 3.5289 - val_categorical_crossentropy: 3.5205 - val_categorical_accuracy: 0.2131 - val_accuracy: 0.2131\n",
      "Epoch 45/200\n",
      "57/58 [============================>.] - ETA: 1s - loss: 3.0815 - categorical_crossentropy: 3.0832 - categorical_accuracy: 0.3488 - accuracy: 0.3488\n",
      "Epoch 00045: val_loss improved from 3.52888 to 3.52263, saving model to model_vgg19_2.h5\n",
      "58/58 [==============================] - 80s 1s/step - loss: 3.0801 - categorical_crossentropy: 3.0817 - categorical_accuracy: 0.3496 - accuracy: 0.3496 - val_loss: 3.5226 - val_categorical_crossentropy: 3.5159 - val_categorical_accuracy: 0.2170 - val_accuracy: 0.2170\n",
      "Epoch 46/200\n",
      "57/58 [============================>.] - ETA: 1s - loss: 3.0648 - categorical_crossentropy: 3.0665 - categorical_accuracy: 0.3471 - accuracy: 0.3471\n",
      "Epoch 00046: val_loss improved from 3.52263 to 3.50582, saving model to model_vgg19_2.h5\n",
      "58/58 [==============================] - 80s 1s/step - loss: 3.0637 - categorical_crossentropy: 3.0653 - categorical_accuracy: 0.3472 - accuracy: 0.3472 - val_loss: 3.5058 - val_categorical_crossentropy: 3.5022 - val_categorical_accuracy: 0.2239 - val_accuracy: 0.2239\n",
      "Epoch 47/200\n",
      "57/58 [============================>.] - ETA: 1s - loss: 3.0489 - categorical_crossentropy: 3.0493 - categorical_accuracy: 0.3560 - accuracy: 0.3560\n",
      "Epoch 00047: val_loss improved from 3.50582 to 3.46955, saving model to model_vgg19_2.h5\n",
      "58/58 [==============================] - 81s 1s/step - loss: 3.0481 - categorical_crossentropy: 3.0486 - categorical_accuracy: 0.3565 - accuracy: 0.3565 - val_loss: 3.4695 - val_categorical_crossentropy: 3.4955 - val_categorical_accuracy: 0.2160 - val_accuracy: 0.2160\n",
      "Epoch 48/200\n",
      "57/58 [============================>.] - ETA: 1s - loss: 3.0297 - categorical_crossentropy: 3.0298 - categorical_accuracy: 0.3551 - accuracy: 0.3551\n",
      "Epoch 00048: val_loss did not improve from 3.46955\n",
      "58/58 [==============================] - 80s 1s/step - loss: 3.0322 - categorical_crossentropy: 3.0324 - categorical_accuracy: 0.3548 - accuracy: 0.3548 - val_loss: 3.4859 - val_categorical_crossentropy: 3.4842 - val_categorical_accuracy: 0.2199 - val_accuracy: 0.2199\n",
      "Epoch 49/200\n"
     ]
    },
    {
     "name": "stdout",
     "output_type": "stream",
     "text": [
      "57/58 [============================>.] - ETA: 1s - loss: 3.0149 - categorical_crossentropy: 3.0147 - categorical_accuracy: 0.3593 - accuracy: 0.3593\n",
      "Epoch 00049: val_loss improved from 3.46955 to 3.46414, saving model to model_vgg19_2.h5\n",
      "58/58 [==============================] - 80s 1s/step - loss: 3.0169 - categorical_crossentropy: 3.0167 - categorical_accuracy: 0.3590 - accuracy: 0.3590 - val_loss: 3.4641 - val_categorical_crossentropy: 3.4753 - val_categorical_accuracy: 0.2160 - val_accuracy: 0.2160\n",
      "Epoch 50/200\n",
      "57/58 [============================>.] - ETA: 1s - loss: 3.0009 - categorical_crossentropy: 3.0013 - categorical_accuracy: 0.3605 - accuracy: 0.3605\n",
      "Epoch 00050: val_loss did not improve from 3.46414\n",
      "58/58 [==============================] - 79s 1s/step - loss: 3.0010 - categorical_crossentropy: 3.0013 - categorical_accuracy: 0.3604 - accuracy: 0.3604 - val_loss: 3.4659 - val_categorical_crossentropy: 3.4694 - val_categorical_accuracy: 0.2131 - val_accuracy: 0.2131\n",
      "Epoch 51/200\n",
      "57/58 [============================>.] - ETA: 1s - loss: 2.9862 - categorical_crossentropy: 2.9859 - categorical_accuracy: 0.3635 - accuracy: 0.3635\n",
      "Epoch 00051: val_loss improved from 3.46414 to 3.45136, saving model to model_vgg19_2.h5\n",
      "58/58 [==============================] - 80s 1s/step - loss: 2.9853 - categorical_crossentropy: 2.9850 - categorical_accuracy: 0.3640 - accuracy: 0.3640 - val_loss: 3.4514 - val_categorical_crossentropy: 3.4605 - val_categorical_accuracy: 0.2121 - val_accuracy: 0.2121\n",
      "Epoch 52/200\n",
      "57/58 [============================>.] - ETA: 1s - loss: 2.9722 - categorical_crossentropy: 2.9708 - categorical_accuracy: 0.3665 - accuracy: 0.3665\n",
      "Epoch 00052: val_loss improved from 3.45136 to 3.44502, saving model to model_vgg19_2.h5\n",
      "58/58 [==============================] - 80s 1s/step - loss: 2.9711 - categorical_crossentropy: 2.9697 - categorical_accuracy: 0.3673 - accuracy: 0.3673 - val_loss: 3.4450 - val_categorical_crossentropy: 3.4577 - val_categorical_accuracy: 0.2063 - val_accuracy: 0.2063\n",
      "Epoch 53/200\n",
      "57/58 [============================>.] - ETA: 1s - loss: 2.9586 - categorical_crossentropy: 2.9575 - categorical_accuracy: 0.3687 - accuracy: 0.3687\n",
      "Epoch 00053: val_loss did not improve from 3.44502\n",
      "58/58 [==============================] - 80s 1s/step - loss: 2.9602 - categorical_crossentropy: 2.9592 - categorical_accuracy: 0.3691 - accuracy: 0.3691 - val_loss: 3.4500 - val_categorical_crossentropy: 3.4497 - val_categorical_accuracy: 0.2190 - val_accuracy: 0.2190\n",
      "Epoch 54/200\n",
      "57/58 [============================>.] - ETA: 1s - loss: 2.9428 - categorical_crossentropy: 2.9425 - categorical_accuracy: 0.3717 - accuracy: 0.3717\n",
      "Epoch 00054: val_loss did not improve from 3.44502\n",
      "58/58 [==============================] - 79s 1s/step - loss: 2.9433 - categorical_crossentropy: 2.9430 - categorical_accuracy: 0.3711 - accuracy: 0.3711 - val_loss: 3.4795 - val_categorical_crossentropy: 3.4405 - val_categorical_accuracy: 0.2229 - val_accuracy: 0.2229\n",
      "Epoch 55/200\n",
      "57/58 [============================>.] - ETA: 1s - loss: 2.9252 - categorical_crossentropy: 2.9265 - categorical_accuracy: 0.3781 - accuracy: 0.3781\n",
      "Epoch 00055: val_loss improved from 3.44502 to 3.42395, saving model to model_vgg19_2.h5\n",
      "58/58 [==============================] - 80s 1s/step - loss: 2.9263 - categorical_crossentropy: 2.9276 - categorical_accuracy: 0.3774 - accuracy: 0.3774 - val_loss: 3.4240 - val_categorical_crossentropy: 3.4308 - val_categorical_accuracy: 0.2229 - val_accuracy: 0.2229\n",
      "Epoch 56/200\n",
      "57/58 [============================>.] - ETA: 1s - loss: 2.9145 - categorical_crossentropy: 2.9136 - categorical_accuracy: 0.3794 - accuracy: 0.3794\n",
      "Epoch 00056: val_loss did not improve from 3.42395\n",
      "58/58 [==============================] - 80s 1s/step - loss: 2.9145 - categorical_crossentropy: 2.9136 - categorical_accuracy: 0.3790 - accuracy: 0.3790 - val_loss: 3.4516 - val_categorical_crossentropy: 3.4234 - val_categorical_accuracy: 0.2297 - val_accuracy: 0.2297\n",
      "Epoch 57/200\n",
      "57/58 [============================>.] - ETA: 1s - loss: 2.8997 - categorical_crossentropy: 2.8987 - categorical_accuracy: 0.3860 - accuracy: 0.3860\n",
      "Epoch 00057: val_loss did not improve from 3.42395\n",
      "58/58 [==============================] - 79s 1s/step - loss: 2.8993 - categorical_crossentropy: 2.8983 - categorical_accuracy: 0.3857 - accuracy: 0.3857 - val_loss: 3.4318 - val_categorical_crossentropy: 3.4178 - val_categorical_accuracy: 0.2375 - val_accuracy: 0.2375\n",
      "Epoch 58/200\n",
      "57/58 [============================>.] - ETA: 1s - loss: 2.8828 - categorical_crossentropy: 2.8849 - categorical_accuracy: 0.3858 - accuracy: 0.3858\n",
      "Epoch 00058: val_loss improved from 3.42395 to 3.39658, saving model to model_vgg19_2.h5\n",
      "58/58 [==============================] - 79s 1s/step - loss: 2.8825 - categorical_crossentropy: 2.8846 - categorical_accuracy: 0.3856 - accuracy: 0.3856 - val_loss: 3.3966 - val_categorical_crossentropy: 3.4115 - val_categorical_accuracy: 0.2287 - val_accuracy: 0.2287\n",
      "Epoch 59/200\n",
      "57/58 [============================>.] - ETA: 1s - loss: 2.8747 - categorical_crossentropy: 2.8738 - categorical_accuracy: 0.3849 - accuracy: 0.3849\n",
      "Epoch 00059: val_loss did not improve from 3.39658\n",
      "58/58 [==============================] - 79s 1s/step - loss: 2.8736 - categorical_crossentropy: 2.8727 - categorical_accuracy: 0.3847 - accuracy: 0.3847 - val_loss: 3.4083 - val_categorical_crossentropy: 3.4043 - val_categorical_accuracy: 0.2268 - val_accuracy: 0.2268\n",
      "Epoch 60/200\n",
      "57/58 [============================>.] - ETA: 1s - loss: 2.8580 - categorical_crossentropy: 2.8586 - categorical_accuracy: 0.3862 - accuracy: 0.3862\n",
      "Epoch 00060: val_loss did not improve from 3.39658\n",
      "58/58 [==============================] - 79s 1s/step - loss: 2.8587 - categorical_crossentropy: 2.8592 - categorical_accuracy: 0.3865 - accuracy: 0.3865 - val_loss: 3.4014 - val_categorical_crossentropy: 3.3999 - val_categorical_accuracy: 0.2287 - val_accuracy: 0.2287\n",
      "Epoch 61/200\n",
      "57/58 [============================>.] - ETA: 1s - loss: 2.8464 - categorical_crossentropy: 2.8466 - categorical_accuracy: 0.3885 - accuracy: 0.3885\n",
      "Epoch 00061: val_loss improved from 3.39658 to 3.36882, saving model to model_vgg19_2.h5\n",
      "58/58 [==============================] - 80s 1s/step - loss: 2.8471 - categorical_crossentropy: 2.8473 - categorical_accuracy: 0.3880 - accuracy: 0.3880 - val_loss: 3.3688 - val_categorical_crossentropy: 3.3908 - val_categorical_accuracy: 0.2307 - val_accuracy: 0.2307\n",
      "Epoch 62/200\n",
      "57/58 [============================>.] - ETA: 1s - loss: 2.8351 - categorical_crossentropy: 2.8335 - categorical_accuracy: 0.3943 - accuracy: 0.3943\n",
      "Epoch 00062: val_loss improved from 3.36882 to 3.36469, saving model to model_vgg19_2.h5\n",
      "58/58 [==============================] - 80s 1s/step - loss: 2.8355 - categorical_crossentropy: 2.8340 - categorical_accuracy: 0.3938 - accuracy: 0.3938 - val_loss: 3.3647 - val_categorical_crossentropy: 3.3846 - val_categorical_accuracy: 0.2278 - val_accuracy: 0.2278\n",
      "Epoch 63/200\n",
      "57/58 [============================>.] - ETA: 1s - loss: 2.8198 - categorical_crossentropy: 2.8209 - categorical_accuracy: 0.3952 - accuracy: 0.3952\n",
      "Epoch 00063: val_loss did not improve from 3.36469\n",
      "58/58 [==============================] - 79s 1s/step - loss: 2.8210 - categorical_crossentropy: 2.8221 - categorical_accuracy: 0.3952 - accuracy: 0.3952 - val_loss: 3.3799 - val_categorical_crossentropy: 3.3795 - val_categorical_accuracy: 0.2278 - val_accuracy: 0.2278\n",
      "Epoch 64/200\n",
      "57/58 [============================>.] - ETA: 1s - loss: 2.8063 - categorical_crossentropy: 2.8060 - categorical_accuracy: 0.3964 - accuracy: 0.3964\n",
      "Epoch 00064: val_loss did not improve from 3.36469\n",
      "58/58 [==============================] - 79s 1s/step - loss: 2.8088 - categorical_crossentropy: 2.8085 - categorical_accuracy: 0.3946 - accuracy: 0.3946 - val_loss: 3.3668 - val_categorical_crossentropy: 3.3743 - val_categorical_accuracy: 0.2278 - val_accuracy: 0.2278\n",
      "Epoch 65/200\n",
      "57/58 [============================>.] - ETA: 1s - loss: 2.7937 - categorical_crossentropy: 2.7946 - categorical_accuracy: 0.4021 - accuracy: 0.4021\n",
      "Epoch 00065: val_loss improved from 3.36469 to 3.35987, saving model to model_vgg19_2.h5\n"
     ]
    },
    {
     "name": "stdout",
     "output_type": "stream",
     "text": [
      "58/58 [==============================] - 80s 1s/step - loss: 2.7940 - categorical_crossentropy: 2.7949 - categorical_accuracy: 0.4020 - accuracy: 0.4020 - val_loss: 3.3599 - val_categorical_crossentropy: 3.3665 - val_categorical_accuracy: 0.2336 - val_accuracy: 0.2336\n",
      "Epoch 66/200\n",
      "57/58 [============================>.] - ETA: 1s - loss: 2.7842 - categorical_crossentropy: 2.7835 - categorical_accuracy: 0.4039 - accuracy: 0.4039\n",
      "Epoch 00066: val_loss did not improve from 3.35987\n",
      "58/58 [==============================] - 79s 1s/step - loss: 2.7837 - categorical_crossentropy: 2.7830 - categorical_accuracy: 0.4043 - accuracy: 0.4043 - val_loss: 3.3616 - val_categorical_crossentropy: 3.3664 - val_categorical_accuracy: 0.2287 - val_accuracy: 0.2287\n",
      "Epoch 67/200\n",
      "57/58 [============================>.] - ETA: 1s - loss: 2.7740 - categorical_crossentropy: 2.7757 - categorical_accuracy: 0.4018 - accuracy: 0.4018\n",
      "Epoch 00067: val_loss did not improve from 3.35987\n",
      "58/58 [==============================] - 79s 1s/step - loss: 2.7720 - categorical_crossentropy: 2.7736 - categorical_accuracy: 0.4021 - accuracy: 0.4021 - val_loss: 3.3621 - val_categorical_crossentropy: 3.3575 - val_categorical_accuracy: 0.2405 - val_accuracy: 0.2405\n",
      "Epoch 68/200\n",
      "57/58 [============================>.] - ETA: 1s - loss: 2.7619 - categorical_crossentropy: 2.7638 - categorical_accuracy: 0.4071 - accuracy: 0.4071\n",
      "Epoch 00068: val_loss improved from 3.35987 to 3.34906, saving model to model_vgg19_2.h5\n",
      "58/58 [==============================] - 80s 1s/step - loss: 2.7610 - categorical_crossentropy: 2.7628 - categorical_accuracy: 0.4077 - accuracy: 0.4077 - val_loss: 3.3491 - val_categorical_crossentropy: 3.3548 - val_categorical_accuracy: 0.2385 - val_accuracy: 0.2385\n",
      "Epoch 69/200\n",
      "57/58 [============================>.] - ETA: 1s - loss: 2.7512 - categorical_crossentropy: 2.7509 - categorical_accuracy: 0.4091 - accuracy: 0.4091\n",
      "Epoch 00069: val_loss did not improve from 3.34906\n",
      "58/58 [==============================] - 80s 1s/step - loss: 2.7517 - categorical_crossentropy: 2.7514 - categorical_accuracy: 0.4094 - accuracy: 0.4094 - val_loss: 3.3628 - val_categorical_crossentropy: 3.3467 - val_categorical_accuracy: 0.2375 - val_accuracy: 0.2375\n",
      "Epoch 70/200\n",
      "57/58 [============================>.] - ETA: 1s - loss: 2.7408 - categorical_crossentropy: 2.7378 - categorical_accuracy: 0.4122 - accuracy: 0.4122\n",
      "Epoch 00070: val_loss improved from 3.34906 to 3.33126, saving model to model_vgg19_2.h5\n",
      "58/58 [==============================] - 80s 1s/step - loss: 2.7407 - categorical_crossentropy: 2.7377 - categorical_accuracy: 0.4123 - accuracy: 0.4123 - val_loss: 3.3313 - val_categorical_crossentropy: 3.3416 - val_categorical_accuracy: 0.2405 - val_accuracy: 0.2405\n",
      "Epoch 71/200\n",
      "57/58 [============================>.] - ETA: 1s - loss: 2.7243 - categorical_crossentropy: 2.7256 - categorical_accuracy: 0.4133 - accuracy: 0.4133\n",
      "Epoch 00071: val_loss improved from 3.33126 to 3.32171, saving model to model_vgg19_2.h5\n",
      "58/58 [==============================] - 80s 1s/step - loss: 2.7261 - categorical_crossentropy: 2.7274 - categorical_accuracy: 0.4128 - accuracy: 0.4128 - val_loss: 3.3217 - val_categorical_crossentropy: 3.3392 - val_categorical_accuracy: 0.2375 - val_accuracy: 0.2375\n",
      "Epoch 72/200\n",
      "57/58 [============================>.] - ETA: 1s - loss: 2.7125 - categorical_crossentropy: 2.7123 - categorical_accuracy: 0.4185 - accuracy: 0.4185\n",
      "Epoch 00072: val_loss did not improve from 3.32171\n",
      "58/58 [==============================] - 79s 1s/step - loss: 2.7156 - categorical_crossentropy: 2.7155 - categorical_accuracy: 0.4185 - accuracy: 0.4185 - val_loss: 3.3301 - val_categorical_crossentropy: 3.3341 - val_categorical_accuracy: 0.2395 - val_accuracy: 0.2395\n",
      "Epoch 73/200\n",
      "57/58 [============================>.] - ETA: 1s - loss: 2.7067 - categorical_crossentropy: 2.7076 - categorical_accuracy: 0.4160 - accuracy: 0.4160\n",
      "Epoch 00073: val_loss did not improve from 3.32171\n",
      "58/58 [==============================] - 79s 1s/step - loss: 2.7051 - categorical_crossentropy: 2.7060 - categorical_accuracy: 0.4165 - accuracy: 0.4165 - val_loss: 3.3317 - val_categorical_crossentropy: 3.3275 - val_categorical_accuracy: 0.2258 - val_accuracy: 0.2258\n",
      "Epoch 74/200\n",
      "57/58 [============================>.] - ETA: 1s - loss: 2.6950 - categorical_crossentropy: 2.6946 - categorical_accuracy: 0.4207 - accuracy: 0.4207\n",
      "Epoch 00074: val_loss improved from 3.32171 to 3.29531, saving model to model_vgg19_2.h5\n",
      "58/58 [==============================] - 80s 1s/step - loss: 2.6944 - categorical_crossentropy: 2.6940 - categorical_accuracy: 0.4210 - accuracy: 0.4210 - val_loss: 3.2953 - val_categorical_crossentropy: 3.3200 - val_categorical_accuracy: 0.2424 - val_accuracy: 0.2424\n",
      "Epoch 75/200\n",
      "57/58 [============================>.] - ETA: 1s - loss: 2.6889 - categorical_crossentropy: 2.6883 - categorical_accuracy: 0.4196 - accuracy: 0.4196\n",
      "Epoch 00075: val_loss did not improve from 3.29531\n",
      "58/58 [==============================] - 79s 1s/step - loss: 2.6851 - categorical_crossentropy: 2.6845 - categorical_accuracy: 0.4203 - accuracy: 0.4203 - val_loss: 3.3491 - val_categorical_crossentropy: 3.3193 - val_categorical_accuracy: 0.2424 - val_accuracy: 0.2424\n",
      "Epoch 76/200\n",
      "57/58 [============================>.] - ETA: 1s - loss: 2.6740 - categorical_crossentropy: 2.6727 - categorical_accuracy: 0.4254 - accuracy: 0.4254\n",
      "Epoch 00076: val_loss did not improve from 3.29531\n",
      "58/58 [==============================] - 79s 1s/step - loss: 2.6751 - categorical_crossentropy: 2.6738 - categorical_accuracy: 0.4253 - accuracy: 0.4253 - val_loss: 3.3317 - val_categorical_crossentropy: 3.3137 - val_categorical_accuracy: 0.2346 - val_accuracy: 0.2346\n",
      "Epoch 77/200\n",
      "57/58 [============================>.] - ETA: 1s - loss: 2.6636 - categorical_crossentropy: 2.6639 - categorical_accuracy: 0.4306 - accuracy: 0.4306\n",
      "Epoch 00077: val_loss did not improve from 3.29531\n",
      "58/58 [==============================] - 79s 1s/step - loss: 2.6618 - categorical_crossentropy: 2.6621 - categorical_accuracy: 0.4308 - accuracy: 0.4308 - val_loss: 3.3213 - val_categorical_crossentropy: 3.3123 - val_categorical_accuracy: 0.2483 - val_accuracy: 0.2483\n",
      "Epoch 78/200\n",
      "57/58 [============================>.] - ETA: 1s - loss: 2.6538 - categorical_crossentropy: 2.6536 - categorical_accuracy: 0.4285 - accuracy: 0.4285\n",
      "Epoch 00078: val_loss did not improve from 3.29531\n",
      "58/58 [==============================] - 79s 1s/step - loss: 2.6545 - categorical_crossentropy: 2.6542 - categorical_accuracy: 0.4272 - accuracy: 0.4272 - val_loss: 3.3254 - val_categorical_crossentropy: 3.3019 - val_categorical_accuracy: 0.2405 - val_accuracy: 0.2405\n",
      "Epoch 79/200\n",
      "57/58 [============================>.] - ETA: 1s - loss: 2.6303 - categorical_crossentropy: 2.6298 - categorical_accuracy: 0.4373 - accuracy: 0.4373\n",
      "Epoch 00079: val_loss did not improve from 3.29531\n",
      "58/58 [==============================] - 79s 1s/step - loss: 2.6319 - categorical_crossentropy: 2.6315 - categorical_accuracy: 0.4370 - accuracy: 0.4370 - val_loss: 3.3201 - val_categorical_crossentropy: 3.2944 - val_categorical_accuracy: 0.2444 - val_accuracy: 0.2444\n",
      "Epoch 80/200\n",
      "57/58 [============================>.] - ETA: 1s - loss: 2.6262 - categorical_crossentropy: 2.6270 - categorical_accuracy: 0.4402 - accuracy: 0.4402\n",
      "Epoch 00080: val_loss improved from 3.29531 to 3.28970, saving model to model_vgg19_2.h5\n",
      "58/58 [==============================] - 80s 1s/step - loss: 2.6250 - categorical_crossentropy: 2.6257 - categorical_accuracy: 0.4404 - accuracy: 0.4404 - val_loss: 3.2897 - val_categorical_crossentropy: 3.2929 - val_categorical_accuracy: 0.2414 - val_accuracy: 0.2414\n",
      "Epoch 81/200\n",
      "57/58 [============================>.] - ETA: 1s - loss: 2.6252 - categorical_crossentropy: 2.6237 - categorical_accuracy: 0.4403 - accuracy: 0.4403\n",
      "Epoch 00081: val_loss did not improve from 3.28970\n",
      "58/58 [==============================] - 79s 1s/step - loss: 2.6250 - categorical_crossentropy: 2.6236 - categorical_accuracy: 0.4397 - accuracy: 0.4397 - val_loss: 3.2965 - val_categorical_crossentropy: 3.2918 - val_categorical_accuracy: 0.2414 - val_accuracy: 0.2414\n",
      "Epoch 82/200\n"
     ]
    },
    {
     "name": "stdout",
     "output_type": "stream",
     "text": [
      "57/58 [============================>.] - ETA: 1s - loss: 2.6212 - categorical_crossentropy: 2.6204 - categorical_accuracy: 0.4395 - accuracy: 0.4395\n",
      "Epoch 00082: val_loss did not improve from 3.28970\n",
      "58/58 [==============================] - 80s 1s/step - loss: 2.6226 - categorical_crossentropy: 2.6218 - categorical_accuracy: 0.4395 - accuracy: 0.4395 - val_loss: 3.3082 - val_categorical_crossentropy: 3.2910 - val_categorical_accuracy: 0.2454 - val_accuracy: 0.2454\n",
      "Epoch 83/200\n",
      "57/58 [============================>.] - ETA: 1s - loss: 2.6169 - categorical_crossentropy: 2.6175 - categorical_accuracy: 0.4411 - accuracy: 0.4411\n",
      "Epoch 00083: val_loss improved from 3.28970 to 3.28731, saving model to model_vgg19_2.h5\n",
      "58/58 [==============================] - 80s 1s/step - loss: 2.6183 - categorical_crossentropy: 2.6188 - categorical_accuracy: 0.4414 - accuracy: 0.4414 - val_loss: 3.2873 - val_categorical_crossentropy: 3.2903 - val_categorical_accuracy: 0.2454 - val_accuracy: 0.2454\n",
      "Epoch 84/200\n",
      "57/58 [============================>.] - ETA: 1s - loss: 2.6158 - categorical_crossentropy: 2.6147 - categorical_accuracy: 0.4411 - accuracy: 0.4411\n",
      "Epoch 00084: val_loss improved from 3.28731 to 3.28503, saving model to model_vgg19_2.h5\n",
      "58/58 [==============================] - 80s 1s/step - loss: 2.6186 - categorical_crossentropy: 2.6176 - categorical_accuracy: 0.4416 - accuracy: 0.4416 - val_loss: 3.2850 - val_categorical_crossentropy: 3.2891 - val_categorical_accuracy: 0.2434 - val_accuracy: 0.2434\n",
      "Epoch 85/200\n",
      "57/58 [============================>.] - ETA: 1s - loss: 2.6138 - categorical_crossentropy: 2.6129 - categorical_accuracy: 0.4415 - accuracy: 0.4415\n",
      "Epoch 00085: val_loss improved from 3.28503 to 3.27013, saving model to model_vgg19_2.h5\n",
      "58/58 [==============================] - 80s 1s/step - loss: 2.6164 - categorical_crossentropy: 2.6156 - categorical_accuracy: 0.4408 - accuracy: 0.4408 - val_loss: 3.2701 - val_categorical_crossentropy: 3.2886 - val_categorical_accuracy: 0.2424 - val_accuracy: 0.2424\n",
      "Epoch 86/200\n",
      "57/58 [============================>.] - ETA: 1s - loss: 2.6153 - categorical_crossentropy: 2.6139 - categorical_accuracy: 0.4433 - accuracy: 0.4433\n",
      "Epoch 00086: val_loss did not improve from 3.27013\n",
      "58/58 [==============================] - 80s 1s/step - loss: 2.6146 - categorical_crossentropy: 2.6133 - categorical_accuracy: 0.4439 - accuracy: 0.4439 - val_loss: 3.2775 - val_categorical_crossentropy: 3.2883 - val_categorical_accuracy: 0.2434 - val_accuracy: 0.2434\n",
      "Epoch 87/200\n",
      "57/58 [============================>.] - ETA: 1s - loss: 2.6102 - categorical_crossentropy: 2.6111 - categorical_accuracy: 0.4412 - accuracy: 0.4412\n",
      "Epoch 00087: val_loss did not improve from 3.27013\n",
      "58/58 [==============================] - 80s 1s/step - loss: 2.6104 - categorical_crossentropy: 2.6112 - categorical_accuracy: 0.4408 - accuracy: 0.4408 - val_loss: 3.2758 - val_categorical_crossentropy: 3.2872 - val_categorical_accuracy: 0.2414 - val_accuracy: 0.2414\n",
      "Epoch 88/200\n",
      "57/58 [============================>.] - ETA: 1s - loss: 2.6051 - categorical_crossentropy: 2.6064 - categorical_accuracy: 0.4437 - accuracy: 0.4437\n",
      "Epoch 00088: val_loss improved from 3.27013 to 3.25903, saving model to model_vgg19_2.h5\n",
      "58/58 [==============================] - 81s 1s/step - loss: 2.6080 - categorical_crossentropy: 2.6093 - categorical_accuracy: 0.4432 - accuracy: 0.4432 - val_loss: 3.2590 - val_categorical_crossentropy: 3.2864 - val_categorical_accuracy: 0.2473 - val_accuracy: 0.2473\n",
      "Epoch 89/200\n",
      "57/58 [============================>.] - ETA: 1s - loss: 2.6031 - categorical_crossentropy: 2.6041 - categorical_accuracy: 0.4454 - accuracy: 0.4454\n",
      "Epoch 00089: val_loss did not improve from 3.25903\n",
      "58/58 [==============================] - 80s 1s/step - loss: 2.6068 - categorical_crossentropy: 2.6077 - categorical_accuracy: 0.4434 - accuracy: 0.4434 - val_loss: 3.2772 - val_categorical_crossentropy: 3.2852 - val_categorical_accuracy: 0.2473 - val_accuracy: 0.2473\n",
      "Epoch 90/200\n",
      "57/58 [============================>.] - ETA: 1s - loss: 2.6040 - categorical_crossentropy: 2.6045 - categorical_accuracy: 0.4419 - accuracy: 0.4419\n",
      "Epoch 00090: val_loss did not improve from 3.25903\n",
      "58/58 [==============================] - 80s 1s/step - loss: 2.6048 - categorical_crossentropy: 2.6053 - categorical_accuracy: 0.4417 - accuracy: 0.4417 - val_loss: 3.2597 - val_categorical_crossentropy: 3.2846 - val_categorical_accuracy: 0.2444 - val_accuracy: 0.2444\n",
      "Epoch 91/200\n",
      "57/58 [============================>.] - ETA: 1s - loss: 2.6039 - categorical_crossentropy: 2.6052 - categorical_accuracy: 0.4433 - accuracy: 0.4433\n",
      "Epoch 00091: val_loss did not improve from 3.25903\n",
      "58/58 [==============================] - 80s 1s/step - loss: 2.6025 - categorical_crossentropy: 2.6038 - categorical_accuracy: 0.4441 - accuracy: 0.4441 - val_loss: 3.3020 - val_categorical_crossentropy: 3.2839 - val_categorical_accuracy: 0.2434 - val_accuracy: 0.2434\n",
      "Epoch 92/200\n",
      "57/58 [============================>.] - ETA: 1s - loss: 2.5988 - categorical_crossentropy: 2.5990 - categorical_accuracy: 0.4437 - accuracy: 0.4437\n",
      "Epoch 00092: val_loss improved from 3.25903 to 3.25888, saving model to model_vgg19_2.h5\n",
      "58/58 [==============================] - 80s 1s/step - loss: 2.6011 - categorical_crossentropy: 2.6014 - categorical_accuracy: 0.4432 - accuracy: 0.4432 - val_loss: 3.2589 - val_categorical_crossentropy: 3.2829 - val_categorical_accuracy: 0.2434 - val_accuracy: 0.2434\n",
      "Epoch 93/200\n",
      "57/58 [============================>.] - ETA: 1s - loss: 2.5991 - categorical_crossentropy: 2.5989 - categorical_accuracy: 0.4454 - accuracy: 0.4454\n",
      "Epoch 00093: val_loss did not improve from 3.25888\n",
      "58/58 [==============================] - 79s 1s/step - loss: 2.5995 - categorical_crossentropy: 2.5992 - categorical_accuracy: 0.4447 - accuracy: 0.4447 - val_loss: 3.2934 - val_categorical_crossentropy: 3.2821 - val_categorical_accuracy: 0.2424 - val_accuracy: 0.2424\n",
      "Epoch 94/200\n",
      "57/58 [============================>.] - ETA: 1s - loss: 2.5960 - categorical_crossentropy: 2.5973 - categorical_accuracy: 0.4460 - accuracy: 0.4460\n",
      "Epoch 00094: val_loss did not improve from 3.25888\n",
      "58/58 [==============================] - 80s 1s/step - loss: 2.5966 - categorical_crossentropy: 2.5978 - categorical_accuracy: 0.4455 - accuracy: 0.4455 - val_loss: 3.2685 - val_categorical_crossentropy: 3.2816 - val_categorical_accuracy: 0.2444 - val_accuracy: 0.2444\n",
      "Epoch 95/200\n",
      "57/58 [============================>.] - ETA: 1s - loss: 2.5964 - categorical_crossentropy: 2.5962 - categorical_accuracy: 0.4453 - accuracy: 0.4453\n",
      "Epoch 00095: val_loss did not improve from 3.25888\n",
      "58/58 [==============================] - 80s 1s/step - loss: 2.5959 - categorical_crossentropy: 2.5956 - categorical_accuracy: 0.4452 - accuracy: 0.4452 - val_loss: 3.3004 - val_categorical_crossentropy: 3.2804 - val_categorical_accuracy: 0.2444 - val_accuracy: 0.2444\n",
      "Epoch 96/200\n",
      "57/58 [============================>.] - ETA: 1s - loss: 2.5941 - categorical_crossentropy: 2.5936 - categorical_accuracy: 0.4465 - accuracy: 0.4465\n",
      "Epoch 00096: val_loss did not improve from 3.25888\n",
      "58/58 [==============================] - 80s 1s/step - loss: 2.5941 - categorical_crossentropy: 2.5935 - categorical_accuracy: 0.4468 - accuracy: 0.4468 - val_loss: 3.2914 - val_categorical_crossentropy: 3.2794 - val_categorical_accuracy: 0.2463 - val_accuracy: 0.2463\n",
      "Epoch 97/200\n",
      "57/58 [============================>.] - ETA: 1s - loss: 2.5888 - categorical_crossentropy: 2.5885 - categorical_accuracy: 0.4483 - accuracy: 0.4483\n",
      "Epoch 00097: val_loss did not improve from 3.25888\n",
      "58/58 [==============================] - 80s 1s/step - loss: 2.5884 - categorical_crossentropy: 2.5881 - categorical_accuracy: 0.4482 - accuracy: 0.4482 - val_loss: 3.2759 - val_categorical_crossentropy: 3.2793 - val_categorical_accuracy: 0.2444 - val_accuracy: 0.2444\n",
      "Epoch 98/200\n",
      "57/58 [============================>.] - ETA: 1s - loss: 2.5888 - categorical_crossentropy: 2.5888 - categorical_accuracy: 0.4486 - accuracy: 0.4486\n",
      "Epoch 00098: val_loss did not improve from 3.25888\n",
      "58/58 [==============================] - 79s 1s/step - loss: 2.5864 - categorical_crossentropy: 2.5876 - categorical_accuracy: 0.4483 - accuracy: 0.4483 - val_loss: 3.2772 - val_categorical_crossentropy: 3.2791 - val_categorical_accuracy: 0.2444 - val_accuracy: 0.2444\n"
     ]
    },
    {
     "name": "stdout",
     "output_type": "stream",
     "text": [
      "Epoch 99/200\n",
      "57/58 [============================>.] - ETA: 1s - loss: 2.5888 - categorical_crossentropy: 2.5894 - categorical_accuracy: 0.4470 - accuracy: 0.4470\n",
      "Epoch 00099: val_loss improved from 3.25888 to 3.25436, saving model to model_vgg19_2.h5\n",
      "58/58 [==============================] - 80s 1s/step - loss: 2.5868 - categorical_crossentropy: 2.5873 - categorical_accuracy: 0.4485 - accuracy: 0.4485 - val_loss: 3.2544 - val_categorical_crossentropy: 3.2790 - val_categorical_accuracy: 0.2444 - val_accuracy: 0.2444\n",
      "Epoch 100/200\n",
      "57/58 [============================>.] - ETA: 1s - loss: 2.5870 - categorical_crossentropy: 2.5869 - categorical_accuracy: 0.4478 - accuracy: 0.4478\n",
      "Epoch 00100: val_loss did not improve from 3.25436\n",
      "58/58 [==============================] - 79s 1s/step - loss: 2.5869 - categorical_crossentropy: 2.5868 - categorical_accuracy: 0.4481 - accuracy: 0.4481 - val_loss: 3.2692 - val_categorical_crossentropy: 3.2789 - val_categorical_accuracy: 0.2444 - val_accuracy: 0.2444\n",
      "Epoch 101/200\n",
      "57/58 [============================>.] - ETA: 1s - loss: 2.5896 - categorical_crossentropy: 2.5903 - categorical_accuracy: 0.4487 - accuracy: 0.4487\n",
      "Epoch 00101: val_loss did not improve from 3.25436\n",
      "58/58 [==============================] - 79s 1s/step - loss: 2.5857 - categorical_crossentropy: 2.5864 - categorical_accuracy: 0.4496 - accuracy: 0.4496 - val_loss: 3.2665 - val_categorical_crossentropy: 3.2787 - val_categorical_accuracy: 0.2444 - val_accuracy: 0.2444\n",
      "Epoch 102/200\n",
      "57/58 [============================>.] - ETA: 1s - loss: 2.5858 - categorical_crossentropy: 2.5852 - categorical_accuracy: 0.4484 - accuracy: 0.4484\n",
      "Epoch 00102: val_loss did not improve from 3.25436\n",
      "58/58 [==============================] - 80s 1s/step - loss: 2.5866 - categorical_crossentropy: 2.5860 - categorical_accuracy: 0.4487 - accuracy: 0.4487 - val_loss: 3.2625 - val_categorical_crossentropy: 3.2785 - val_categorical_accuracy: 0.2444 - val_accuracy: 0.2444\n",
      "Epoch 103/200\n",
      "57/58 [============================>.] - ETA: 1s - loss: 2.5891 - categorical_crossentropy: 2.5888 - categorical_accuracy: 0.4488 - accuracy: 0.4488\n",
      "Epoch 00103: val_loss did not improve from 3.25436\n",
      "58/58 [==============================] - 79s 1s/step - loss: 2.5860 - categorical_crossentropy: 2.5857 - categorical_accuracy: 0.4492 - accuracy: 0.4492 - val_loss: 3.2902 - val_categorical_crossentropy: 3.2784 - val_categorical_accuracy: 0.2454 - val_accuracy: 0.2454\n",
      "Epoch 104/200\n",
      "57/58 [============================>.] - ETA: 1s - loss: 2.5818 - categorical_crossentropy: 2.5822 - categorical_accuracy: 0.4507 - accuracy: 0.4507\n",
      "Epoch 00104: val_loss did not improve from 3.25436\n",
      "58/58 [==============================] - 79s 1s/step - loss: 2.5840 - categorical_crossentropy: 2.5844 - categorical_accuracy: 0.4499 - accuracy: 0.4499 - val_loss: 3.2642 - val_categorical_crossentropy: 3.2783 - val_categorical_accuracy: 0.2444 - val_accuracy: 0.2444\n",
      "Epoch 105/200\n",
      "57/58 [============================>.] - ETA: 1s - loss: 2.5833 - categorical_crossentropy: 2.5849 - categorical_accuracy: 0.4498 - accuracy: 0.4498\n",
      "Epoch 00105: val_loss did not improve from 3.25436\n",
      "58/58 [==============================] - 79s 1s/step - loss: 2.5828 - categorical_crossentropy: 2.5843 - categorical_accuracy: 0.4498 - accuracy: 0.4498 - val_loss: 3.3096 - val_categorical_crossentropy: 3.2783 - val_categorical_accuracy: 0.2444 - val_accuracy: 0.2444\n",
      "Epoch 106/200\n",
      "57/58 [============================>.] - ETA: 1s - loss: 2.5869 - categorical_crossentropy: 2.5878 - categorical_accuracy: 0.4484 - accuracy: 0.4484\n",
      "Epoch 00106: val_loss did not improve from 3.25436\n",
      "58/58 [==============================] - 79s 1s/step - loss: 2.5835 - categorical_crossentropy: 2.5842 - categorical_accuracy: 0.4498 - accuracy: 0.4498 - val_loss: 3.2860 - val_categorical_crossentropy: 3.2783 - val_categorical_accuracy: 0.2444 - val_accuracy: 0.2444\n",
      "Epoch 107/200\n",
      "57/58 [============================>.] - ETA: 1s - loss: 2.5858 - categorical_crossentropy: 2.5848 - categorical_accuracy: 0.4495 - accuracy: 0.4495\n",
      "Epoch 00107: val_loss did not improve from 3.25436\n",
      "58/58 [==============================] - 79s 1s/step - loss: 2.5851 - categorical_crossentropy: 2.5842 - categorical_accuracy: 0.4498 - accuracy: 0.4498 - val_loss: 3.2628 - val_categorical_crossentropy: 3.2782 - val_categorical_accuracy: 0.2444 - val_accuracy: 0.2444\n",
      "Epoch 108/200\n",
      "57/58 [============================>.] - ETA: 1s - loss: 2.5853 - categorical_crossentropy: 2.5855 - categorical_accuracy: 0.4494 - accuracy: 0.4494\n",
      "Epoch 00108: val_loss did not improve from 3.25436\n",
      "58/58 [==============================] - 79s 1s/step - loss: 2.5838 - categorical_crossentropy: 2.5839 - categorical_accuracy: 0.4503 - accuracy: 0.4503 - val_loss: 3.2636 - val_categorical_crossentropy: 3.2782 - val_categorical_accuracy: 0.2444 - val_accuracy: 0.2444\n",
      "Epoch 109/200\n",
      "57/58 [============================>.] - ETA: 1s - loss: 2.5835 - categorical_crossentropy: 2.5849 - categorical_accuracy: 0.4499 - accuracy: 0.4499\n",
      "Epoch 00109: val_loss did not improve from 3.25436\n",
      "58/58 [==============================] - 80s 1s/step - loss: 2.5825 - categorical_crossentropy: 2.5839 - categorical_accuracy: 0.4502 - accuracy: 0.4502 - val_loss: 3.2912 - val_categorical_crossentropy: 3.2782 - val_categorical_accuracy: 0.2444 - val_accuracy: 0.2444\n",
      "Epoch 110/200\n",
      "57/58 [============================>.] - ETA: 1s - loss: 2.5833 - categorical_crossentropy: 2.5838 - categorical_accuracy: 0.4507 - accuracy: 0.4507\n",
      "Epoch 00110: val_loss did not improve from 3.25436\n",
      "58/58 [==============================] - 80s 1s/step - loss: 2.5834 - categorical_crossentropy: 2.5839 - categorical_accuracy: 0.4504 - accuracy: 0.4504 - val_loss: 3.2982 - val_categorical_crossentropy: 3.2782 - val_categorical_accuracy: 0.2444 - val_accuracy: 0.2444\n",
      "Epoch 111/200\n",
      "57/58 [============================>.] - ETA: 1s - loss: 2.5841 - categorical_crossentropy: 2.5854 - categorical_accuracy: 0.4500 - accuracy: 0.4500\n",
      "Epoch 00111: val_loss did not improve from 3.25436\n",
      "58/58 [==============================] - 80s 1s/step - loss: 2.5827 - categorical_crossentropy: 2.5839 - categorical_accuracy: 0.4503 - accuracy: 0.4503 - val_loss: 3.2715 - val_categorical_crossentropy: 3.2782 - val_categorical_accuracy: 0.2444 - val_accuracy: 0.2444\n",
      "Epoch 112/200\n",
      "57/58 [============================>.] - ETA: 1s - loss: 2.5857 - categorical_crossentropy: 2.5855 - categorical_accuracy: 0.4495 - accuracy: 0.4495\n",
      "Epoch 00112: val_loss did not improve from 3.25436\n",
      "58/58 [==============================] - 80s 1s/step - loss: 2.5841 - categorical_crossentropy: 2.5838 - categorical_accuracy: 0.4503 - accuracy: 0.4503 - val_loss: 3.2643 - val_categorical_crossentropy: 3.2782 - val_categorical_accuracy: 0.2444 - val_accuracy: 0.2444\n",
      "Epoch 113/200\n",
      "57/58 [============================>.] - ETA: 1s - loss: 2.5842 - categorical_crossentropy: 2.5838 - categorical_accuracy: 0.4506 - accuracy: 0.4506\n",
      "Epoch 00113: val_loss did not improve from 3.25436\n",
      "58/58 [==============================] - 79s 1s/step - loss: 2.5842 - categorical_crossentropy: 2.5838 - categorical_accuracy: 0.4503 - accuracy: 0.4503 - val_loss: 3.2914 - val_categorical_crossentropy: 3.2782 - val_categorical_accuracy: 0.2444 - val_accuracy: 0.2444\n",
      "Epoch 114/200\n",
      "57/58 [============================>.] - ETA: 1s - loss: 2.5851 - categorical_crossentropy: 2.5851 - categorical_accuracy: 0.4499 - accuracy: 0.4499\n",
      "Epoch 00114: val_loss did not improve from 3.25436\n",
      "58/58 [==============================] - 80s 1s/step - loss: 2.5839 - categorical_crossentropy: 2.5838 - categorical_accuracy: 0.4503 - accuracy: 0.4503 - val_loss: 3.2940 - val_categorical_crossentropy: 3.2782 - val_categorical_accuracy: 0.2444 - val_accuracy: 0.2444\n",
      "Epoch 115/200\n",
      "57/58 [============================>.] - ETA: 1s - loss: 2.5833 - categorical_crossentropy: 2.5826 - categorical_accuracy: 0.4505 - accuracy: 0.4505\n",
      "Epoch 00115: val_loss did not improve from 3.25436\n",
      "58/58 [==============================] - 78s 1s/step - loss: 2.5844 - categorical_crossentropy: 2.5838 - categorical_accuracy: 0.4503 - accuracy: 0.4503 - val_loss: 3.2551 - val_categorical_crossentropy: 3.2782 - val_categorical_accuracy: 0.2444 - val_accuracy: 0.2444\n"
     ]
    },
    {
     "name": "stdout",
     "output_type": "stream",
     "text": [
      "Epoch 116/200\n",
      "57/58 [============================>.] - ETA: 1s - loss: 2.5845 - categorical_crossentropy: 2.5847 - categorical_accuracy: 0.4489 - accuracy: 0.4489\n",
      "Epoch 00116: val_loss did not improve from 3.25436\n",
      "58/58 [==============================] - 79s 1s/step - loss: 2.5836 - categorical_crossentropy: 2.5838 - categorical_accuracy: 0.4503 - accuracy: 0.4503 - val_loss: 3.2664 - val_categorical_crossentropy: 3.2782 - val_categorical_accuracy: 0.2444 - val_accuracy: 0.2444\n",
      "Epoch 117/200\n",
      "57/58 [============================>.] - ETA: 1s - loss: 2.5900 - categorical_crossentropy: 2.5876 - categorical_accuracy: 0.4495 - accuracy: 0.4495\n",
      "Epoch 00117: val_loss did not improve from 3.25436\n",
      "58/58 [==============================] - 79s 1s/step - loss: 2.5861 - categorical_crossentropy: 2.5838 - categorical_accuracy: 0.4503 - accuracy: 0.4503 - val_loss: 3.3091 - val_categorical_crossentropy: 3.2782 - val_categorical_accuracy: 0.2444 - val_accuracy: 0.2444\n",
      "Epoch 118/200\n",
      "57/58 [============================>.] - ETA: 1s - loss: 2.5851 - categorical_crossentropy: 2.5842 - categorical_accuracy: 0.4498 - accuracy: 0.4498\n",
      "Epoch 00118: val_loss did not improve from 3.25436\n",
      "58/58 [==============================] - 80s 1s/step - loss: 2.5847 - categorical_crossentropy: 2.5838 - categorical_accuracy: 0.4503 - accuracy: 0.4503 - val_loss: 3.2593 - val_categorical_crossentropy: 3.2782 - val_categorical_accuracy: 0.2444 - val_accuracy: 0.2444\n",
      "Epoch 119/200\n",
      "57/58 [============================>.] - ETA: 1s - loss: 2.5817 - categorical_crossentropy: 2.5819 - categorical_accuracy: 0.4510 - accuracy: 0.4510\n",
      "Epoch 00119: val_loss did not improve from 3.25436\n",
      "Restoring model weights from the end of the best epoch.\n",
      "58/58 [==============================] - 79s 1s/step - loss: 2.5836 - categorical_crossentropy: 2.5838 - categorical_accuracy: 0.4503 - accuracy: 0.4503 - val_loss: 3.2893 - val_categorical_crossentropy: 3.2782 - val_categorical_accuracy: 0.2444 - val_accuracy: 0.2444\n",
      "Epoch 00119: early stopping\n"
     ]
    }
   ],
   "source": [
    "# Path to save model parameters\n",
    "weight_path_model_base ='model_vgg19_2.h5'\n",
    "# Path to write tensorboard\n",
    "tensorboard_path_model_base = 'Graphs/pattern_nn_vgg19_2'\n",
    "\n",
    "callbacks_list_model_base = [\n",
    "    TensorBoard(log_dir=tensorboard_path_model_base, histogram_freq=1, write_graph=True, write_grads=True),\n",
    "    ModelCheckpoint(\n",
    "            weight_path_model_base,\n",
    "            save_best_only=True,\n",
    "            save_weights_only=True,\n",
    "            monitor='val_loss',\n",
    "            mode='min',\n",
    "            verbose=1\n",
    "        ),\n",
    "    ReduceLROnPlateau(monitor='val_loss', factor=0.2, patience=4, min_lr=1e-10),\n",
    "    EarlyStopping(\n",
    "        monitor='val_loss', \n",
    "        verbose=1,\n",
    "        patience=20,\n",
    "        mode='min',\n",
    "        restore_best_weights=True)\n",
    "]\n",
    "\n",
    "# If get ResourceExhaustedError, Restart kernel, then reduce epoch size (in cell above)\n",
    "history_base = base_model.fit_generator(train_data_gen, epochs=EPOCHS, verbose=1, validation_data=val_data_gen,\n",
    "                                        callbacks=callbacks_list_model_base)"
   ]
  },
  {
   "cell_type": "markdown",
   "metadata": {},
   "source": [
    "## Train Logs"
   ]
  },
  {
   "cell_type": "code",
   "execution_count": 13,
   "metadata": {},
   "outputs": [
    {
     "name": "stdout",
     "output_type": "stream",
     "text": [
      "dict_keys(['loss', 'categorical_crossentropy', 'categorical_accuracy', 'accuracy', 'val_loss', 'val_categorical_crossentropy', 'val_categorical_accuracy', 'val_accuracy', 'lr'])\n"
     ]
    }
   ],
   "source": [
    "# What is tracked\n",
    "print(history_base.history.keys())"
   ]
  },
  {
   "cell_type": "code",
   "execution_count": 14,
   "metadata": {},
   "outputs": [
    {
     "data": {
      "image/png": "[encoded data removed]",
      "text/plain": [
       "<Figure size 432x288 with 1 Axes>"
      ]
     },
     "metadata": {
      "needs_background": "light"
     },
     "output_type": "display_data"
    },
    {
     "data": {
      "image/png": "[encoded data removed]",
      "text/plain": [
       "<Figure size 432x288 with 1 Axes>"
      ]
     },
     "metadata": {
      "needs_background": "light"
     },
     "output_type": "display_data"
    },
    {
     "data": {
      "image/png": "[encoded data removed]",
      "text/plain": [
       "<Figure size 432x288 with 1 Axes>"
      ]
     },
     "metadata": {
      "needs_background": "light"
     },
     "output_type": "display_data"
    }
   ],
   "source": [
    "train_loss = history_base.history['loss']\n",
    "train_acc = history_base.history['accuracy']\n",
    "val_loss = history_base.history['val_loss']\n",
    "val_acc = history_base.history['val_accuracy']\n",
    "learnrate = history_base.history['lr']\n",
    "\n",
    "plt.plot(train_loss, color='blue')\n",
    "plt.plot(val_loss, color='red')\n",
    "plt.title('Loss')\n",
    "plt.ylabel('loss')\n",
    "plt.xlabel('epoch')\n",
    "plt.show()\n",
    "\n",
    "plt.plot(train_acc, color='blue')\n",
    "plt.plot(val_acc, color='red')\n",
    "plt.title('Accuracy')\n",
    "plt.ylabel('accuracy')\n",
    "plt.xlabel('epoch')\n",
    "plt.show()\n",
    "\n",
    "plt.plot(learnrate, color='green')\n",
    "plt.title('Learning Rate')\n",
    "plt.ylabel('learning rate')\n",
    "plt.xlabel('epoch')\n",
    "plt.show()"
   ]
  },
  {
   "cell_type": "markdown",
   "metadata": {},
   "source": [
    "## Load class details"
   ]
  },
  {
   "cell_type": "code",
   "execution_count": 15,
   "metadata": {
    "scrolled": true
   },
   "outputs": [],
   "source": [
    "classes = train_data_gen.class_indices"
   ]
  },
  {
   "cell_type": "code",
   "execution_count": 16,
   "metadata": {
    "scrolled": true
   },
   "outputs": [],
   "source": [
    "inverted_classes = dict(map(reversed, classes.items()))"
   ]
  },
  {
   "cell_type": "code",
   "execution_count": 17,
   "metadata": {},
   "outputs": [],
   "source": [
    "class_list = [i for i in classes.keys()]"
   ]
  },
  {
   "cell_type": "markdown",
   "metadata": {},
   "source": [
    "## Load test data"
   ]
  },
  {
   "cell_type": "code",
   "execution_count": 18,
   "metadata": {},
   "outputs": [
    {
     "name": "stdout",
     "output_type": "stream",
     "text": [
      "Found 10357 images belonging to 1 classes.\n"
     ]
    }
   ],
   "source": [
    "test_image_generator = ImageDataGenerator(rescale=1./255)\n",
    "test_data_gen = test_image_generator.flow_from_directory(batch_size=BATCH_SIZE,\n",
    "                                                           directory=TEST_PATH,\n",
    "                                                           target_size=(IMG_HEIGHT, IMG_WIDTH),\n",
    "                                                           class_mode=None)"
   ]
  },
  {
   "cell_type": "markdown",
   "metadata": {},
   "source": [
    "## Run on test data"
   ]
  },
  {
   "cell_type": "code",
   "execution_count": 19,
   "metadata": {},
   "outputs": [
    {
     "name": "stdout",
     "output_type": "stream",
     "text": [
      "65/65 [==============================] - 43s 657ms/step\n"
     ]
    }
   ],
   "source": [
    "test_result = base_model.predict_generator(test_data_gen, verbose=1)"
   ]
  },
  {
   "cell_type": "markdown",
   "metadata": {},
   "source": [
    "## Prepare data for csv"
   ]
  },
  {
   "cell_type": "code",
   "execution_count": 20,
   "metadata": {},
   "outputs": [],
   "source": [
    "filenames = [i[i.find('/')+1:i.rfind('.')] for i in test_data_gen.filenames]\n",
    "filenames_arr = np.array(filenames)[np.newaxis].T\n",
    "test_result_with_label = np.concatenate((filenames_arr, test_result), axis=1)\n",
    "csv_header = ['id'] + class_list"
   ]
  },
  {
   "cell_type": "markdown",
   "metadata": {},
   "source": [
    "## Export data to csv"
   ]
  },
  {
   "cell_type": "code",
   "execution_count": 21,
   "metadata": {},
   "outputs": [],
   "source": [
    "# Be aware that the file with the same name should not exist, or it will be overwrited.\n",
    "result_dataframe = pd.DataFrame(test_result_with_label, columns=csv_header)\n",
    "result_dataframe.to_csv('./result_vgg19_2.csv', index=False)"
   ]
  },
  {
   "cell_type": "code",
   "execution_count": null,
   "metadata": {},
   "outputs": [],
   "source": []
  }
 ],
 "metadata": {
  "kernelspec": {
   "display_name": "Python 3",
   "language": "python",
   "name": "python3"
  },
  "language_info": {
   "codemirror_mode": {
    "name": "ipython",
    "version": 3
   },
   "file_extension": ".py",
   "mimetype": "text/x-python",
   "name": "python",
   "nbconvert_exporter": "python",
   "pygments_lexer": "ipython3",
   "version": "3.7.4"
  }
 },
 "nbformat": 4,
 "nbformat_minor": 4
}
